{
 "cells": [
  {
   "cell_type": "code",
   "execution_count": 3,
   "metadata": {},
   "outputs": [],
   "source": [
    "import numpy as np\n",
    "import pandas as pd\n",
    "import seaborn as sns\n",
    "from matplotlib import pyplot as plt"
   ]
  },
  {
   "cell_type": "markdown",
   "metadata": {},
   "source": [
    "# Titanic Dataset"
   ]
  },
  {
   "cell_type": "code",
   "execution_count": 4,
   "metadata": {},
   "outputs": [],
   "source": [
    "dataset=pd.read_csv(\"./titanic.csv\")"
   ]
  },
  {
   "cell_type": "code",
   "execution_count": 5,
   "metadata": {},
   "outputs": [
    {
     "data": {
      "text/html": [
       "<div>\n",
       "<style scoped>\n",
       "    .dataframe tbody tr th:only-of-type {\n",
       "        vertical-align: middle;\n",
       "    }\n",
       "\n",
       "    .dataframe tbody tr th {\n",
       "        vertical-align: top;\n",
       "    }\n",
       "\n",
       "    .dataframe thead th {\n",
       "        text-align: right;\n",
       "    }\n",
       "</style>\n",
       "<table border=\"1\" class=\"dataframe\">\n",
       "  <thead>\n",
       "    <tr style=\"text-align: right;\">\n",
       "      <th></th>\n",
       "      <th>PassengerId</th>\n",
       "      <th>Survived</th>\n",
       "      <th>Pclass</th>\n",
       "      <th>Name</th>\n",
       "      <th>Sex</th>\n",
       "      <th>Age</th>\n",
       "      <th>SibSp</th>\n",
       "      <th>Parch</th>\n",
       "      <th>Ticket</th>\n",
       "      <th>Fare</th>\n",
       "      <th>Cabin</th>\n",
       "      <th>Embarked</th>\n",
       "    </tr>\n",
       "  </thead>\n",
       "  <tbody>\n",
       "    <tr>\n",
       "      <th>0</th>\n",
       "      <td>1</td>\n",
       "      <td>0</td>\n",
       "      <td>3</td>\n",
       "      <td>Braund, Mr. Owen Harris</td>\n",
       "      <td>male</td>\n",
       "      <td>22.0</td>\n",
       "      <td>1</td>\n",
       "      <td>0</td>\n",
       "      <td>A/5 21171</td>\n",
       "      <td>7.2500</td>\n",
       "      <td>NaN</td>\n",
       "      <td>S</td>\n",
       "    </tr>\n",
       "    <tr>\n",
       "      <th>1</th>\n",
       "      <td>2</td>\n",
       "      <td>1</td>\n",
       "      <td>1</td>\n",
       "      <td>Cumings, Mrs. John Bradley (Florence Briggs Th...</td>\n",
       "      <td>female</td>\n",
       "      <td>38.0</td>\n",
       "      <td>1</td>\n",
       "      <td>0</td>\n",
       "      <td>PC 17599</td>\n",
       "      <td>71.2833</td>\n",
       "      <td>C85</td>\n",
       "      <td>C</td>\n",
       "    </tr>\n",
       "    <tr>\n",
       "      <th>2</th>\n",
       "      <td>3</td>\n",
       "      <td>1</td>\n",
       "      <td>3</td>\n",
       "      <td>Heikkinen, Miss. Laina</td>\n",
       "      <td>female</td>\n",
       "      <td>26.0</td>\n",
       "      <td>0</td>\n",
       "      <td>0</td>\n",
       "      <td>STON/O2. 3101282</td>\n",
       "      <td>7.9250</td>\n",
       "      <td>NaN</td>\n",
       "      <td>S</td>\n",
       "    </tr>\n",
       "    <tr>\n",
       "      <th>3</th>\n",
       "      <td>4</td>\n",
       "      <td>1</td>\n",
       "      <td>1</td>\n",
       "      <td>Futrelle, Mrs. Jacques Heath (Lily May Peel)</td>\n",
       "      <td>female</td>\n",
       "      <td>35.0</td>\n",
       "      <td>1</td>\n",
       "      <td>0</td>\n",
       "      <td>113803</td>\n",
       "      <td>53.1000</td>\n",
       "      <td>C123</td>\n",
       "      <td>S</td>\n",
       "    </tr>\n",
       "    <tr>\n",
       "      <th>4</th>\n",
       "      <td>5</td>\n",
       "      <td>0</td>\n",
       "      <td>3</td>\n",
       "      <td>Allen, Mr. William Henry</td>\n",
       "      <td>male</td>\n",
       "      <td>35.0</td>\n",
       "      <td>0</td>\n",
       "      <td>0</td>\n",
       "      <td>373450</td>\n",
       "      <td>8.0500</td>\n",
       "      <td>NaN</td>\n",
       "      <td>S</td>\n",
       "    </tr>\n",
       "  </tbody>\n",
       "</table>\n",
       "</div>"
      ],
      "text/plain": [
       "   PassengerId  Survived  Pclass  \\\n",
       "0            1         0       3   \n",
       "1            2         1       1   \n",
       "2            3         1       3   \n",
       "3            4         1       1   \n",
       "4            5         0       3   \n",
       "\n",
       "                                                Name     Sex   Age  SibSp  \\\n",
       "0                            Braund, Mr. Owen Harris    male  22.0      1   \n",
       "1  Cumings, Mrs. John Bradley (Florence Briggs Th...  female  38.0      1   \n",
       "2                             Heikkinen, Miss. Laina  female  26.0      0   \n",
       "3       Futrelle, Mrs. Jacques Heath (Lily May Peel)  female  35.0      1   \n",
       "4                           Allen, Mr. William Henry    male  35.0      0   \n",
       "\n",
       "   Parch            Ticket     Fare Cabin Embarked  \n",
       "0      0         A/5 21171   7.2500   NaN        S  \n",
       "1      0          PC 17599  71.2833   C85        C  \n",
       "2      0  STON/O2. 3101282   7.9250   NaN        S  \n",
       "3      0            113803  53.1000  C123        S  \n",
       "4      0            373450   8.0500   NaN        S  "
      ]
     },
     "execution_count": 5,
     "metadata": {},
     "output_type": "execute_result"
    }
   ],
   "source": [
    "dataset.head()"
   ]
  },
  {
   "cell_type": "code",
   "execution_count": 6,
   "metadata": {},
   "outputs": [
    {
     "name": "stdout",
     "output_type": "stream",
     "text": [
      "<class 'pandas.core.frame.DataFrame'>\n",
      "RangeIndex: 891 entries, 0 to 890\n",
      "Data columns (total 12 columns):\n",
      "PassengerId    891 non-null int64\n",
      "Survived       891 non-null int64\n",
      "Pclass         891 non-null int64\n",
      "Name           891 non-null object\n",
      "Sex            891 non-null object\n",
      "Age            714 non-null float64\n",
      "SibSp          891 non-null int64\n",
      "Parch          891 non-null int64\n",
      "Ticket         891 non-null object\n",
      "Fare           891 non-null float64\n",
      "Cabin          204 non-null object\n",
      "Embarked       889 non-null object\n",
      "dtypes: float64(2), int64(5), object(5)\n",
      "memory usage: 83.6+ KB\n"
     ]
    }
   ],
   "source": [
    "dataset.info()"
   ]
  },
  {
   "cell_type": "markdown",
   "metadata": {},
   "source": [
    "### Data Cleaning (Remove Unnecessary information)"
   ]
  },
  {
   "cell_type": "code",
   "execution_count": 7,
   "metadata": {},
   "outputs": [
    {
     "data": {
      "text/html": [
       "<div>\n",
       "<style scoped>\n",
       "    .dataframe tbody tr th:only-of-type {\n",
       "        vertical-align: middle;\n",
       "    }\n",
       "\n",
       "    .dataframe tbody tr th {\n",
       "        vertical-align: top;\n",
       "    }\n",
       "\n",
       "    .dataframe thead th {\n",
       "        text-align: right;\n",
       "    }\n",
       "</style>\n",
       "<table border=\"1\" class=\"dataframe\">\n",
       "  <thead>\n",
       "    <tr style=\"text-align: right;\">\n",
       "      <th></th>\n",
       "      <th>Survived</th>\n",
       "      <th>Pclass</th>\n",
       "      <th>Sex</th>\n",
       "      <th>Age</th>\n",
       "      <th>SibSp</th>\n",
       "      <th>Parch</th>\n",
       "      <th>Fare</th>\n",
       "    </tr>\n",
       "  </thead>\n",
       "  <tbody>\n",
       "    <tr>\n",
       "      <th>0</th>\n",
       "      <td>0</td>\n",
       "      <td>3</td>\n",
       "      <td>male</td>\n",
       "      <td>22.0</td>\n",
       "      <td>1</td>\n",
       "      <td>0</td>\n",
       "      <td>7.2500</td>\n",
       "    </tr>\n",
       "    <tr>\n",
       "      <th>1</th>\n",
       "      <td>1</td>\n",
       "      <td>1</td>\n",
       "      <td>female</td>\n",
       "      <td>38.0</td>\n",
       "      <td>1</td>\n",
       "      <td>0</td>\n",
       "      <td>71.2833</td>\n",
       "    </tr>\n",
       "    <tr>\n",
       "      <th>2</th>\n",
       "      <td>1</td>\n",
       "      <td>3</td>\n",
       "      <td>female</td>\n",
       "      <td>26.0</td>\n",
       "      <td>0</td>\n",
       "      <td>0</td>\n",
       "      <td>7.9250</td>\n",
       "    </tr>\n",
       "    <tr>\n",
       "      <th>3</th>\n",
       "      <td>1</td>\n",
       "      <td>1</td>\n",
       "      <td>female</td>\n",
       "      <td>35.0</td>\n",
       "      <td>1</td>\n",
       "      <td>0</td>\n",
       "      <td>53.1000</td>\n",
       "    </tr>\n",
       "    <tr>\n",
       "      <th>4</th>\n",
       "      <td>0</td>\n",
       "      <td>3</td>\n",
       "      <td>male</td>\n",
       "      <td>35.0</td>\n",
       "      <td>0</td>\n",
       "      <td>0</td>\n",
       "      <td>8.0500</td>\n",
       "    </tr>\n",
       "  </tbody>\n",
       "</table>\n",
       "</div>"
      ],
      "text/plain": [
       "   Survived  Pclass     Sex   Age  SibSp  Parch     Fare\n",
       "0         0       3    male  22.0      1      0   7.2500\n",
       "1         1       1  female  38.0      1      0  71.2833\n",
       "2         1       3  female  26.0      0      0   7.9250\n",
       "3         1       1  female  35.0      1      0  53.1000\n",
       "4         0       3    male  35.0      0      0   8.0500"
      ]
     },
     "execution_count": 7,
     "metadata": {},
     "output_type": "execute_result"
    }
   ],
   "source": [
    "column_to_drop=[\"PassengerId\",\"Name\",\"Ticket\",\"Cabin\",\"Embarked\"]\n",
    "dataset=dataset.drop(column_to_drop,axis=1)\n",
    "dataset.head()"
   ]
  },
  {
   "cell_type": "code",
   "execution_count": 8,
   "metadata": {},
   "outputs": [],
   "source": [
    "def Alias_sex(sex):\n",
    "    if sex.lower().startswith(\"m\"):\n",
    "        return 0\n",
    "    elif sex.lower().startswith(\"f\"):\n",
    "        return 1\n",
    "    else :\n",
    "        return sex\n",
    "\n",
    "dataset[\"Sex\"]=dataset[\"Sex\"].apply(Alias_sex)"
   ]
  },
  {
   "cell_type": "code",
   "execution_count": 9,
   "metadata": {},
   "outputs": [],
   "source": [
    "#along row,if any na come drop the row if axis=1 then if any na come in column \n",
    " #it drop all column\n",
    "dataset.dropna?"
   ]
  },
  {
   "cell_type": "code",
   "execution_count": 10,
   "metadata": {},
   "outputs": [
    {
     "data": {
      "text/html": [
       "<div>\n",
       "<style scoped>\n",
       "    .dataframe tbody tr th:only-of-type {\n",
       "        vertical-align: middle;\n",
       "    }\n",
       "\n",
       "    .dataframe tbody tr th {\n",
       "        vertical-align: top;\n",
       "    }\n",
       "\n",
       "    .dataframe thead th {\n",
       "        text-align: right;\n",
       "    }\n",
       "</style>\n",
       "<table border=\"1\" class=\"dataframe\">\n",
       "  <thead>\n",
       "    <tr style=\"text-align: right;\">\n",
       "      <th></th>\n",
       "      <th>Survived</th>\n",
       "      <th>Pclass</th>\n",
       "      <th>Sex</th>\n",
       "      <th>Age</th>\n",
       "      <th>SibSp</th>\n",
       "      <th>Parch</th>\n",
       "      <th>Fare</th>\n",
       "    </tr>\n",
       "  </thead>\n",
       "  <tbody>\n",
       "    <tr>\n",
       "      <th>count</th>\n",
       "      <td>714.000000</td>\n",
       "      <td>714.000000</td>\n",
       "      <td>714.000000</td>\n",
       "      <td>714.000000</td>\n",
       "      <td>714.000000</td>\n",
       "      <td>714.000000</td>\n",
       "      <td>714.000000</td>\n",
       "    </tr>\n",
       "    <tr>\n",
       "      <th>mean</th>\n",
       "      <td>0.406162</td>\n",
       "      <td>2.236695</td>\n",
       "      <td>0.365546</td>\n",
       "      <td>29.699118</td>\n",
       "      <td>0.512605</td>\n",
       "      <td>0.431373</td>\n",
       "      <td>34.694514</td>\n",
       "    </tr>\n",
       "    <tr>\n",
       "      <th>std</th>\n",
       "      <td>0.491460</td>\n",
       "      <td>0.838250</td>\n",
       "      <td>0.481921</td>\n",
       "      <td>14.526497</td>\n",
       "      <td>0.929783</td>\n",
       "      <td>0.853289</td>\n",
       "      <td>52.918930</td>\n",
       "    </tr>\n",
       "    <tr>\n",
       "      <th>min</th>\n",
       "      <td>0.000000</td>\n",
       "      <td>1.000000</td>\n",
       "      <td>0.000000</td>\n",
       "      <td>0.420000</td>\n",
       "      <td>0.000000</td>\n",
       "      <td>0.000000</td>\n",
       "      <td>0.000000</td>\n",
       "    </tr>\n",
       "    <tr>\n",
       "      <th>25%</th>\n",
       "      <td>0.000000</td>\n",
       "      <td>1.000000</td>\n",
       "      <td>0.000000</td>\n",
       "      <td>20.125000</td>\n",
       "      <td>0.000000</td>\n",
       "      <td>0.000000</td>\n",
       "      <td>8.050000</td>\n",
       "    </tr>\n",
       "    <tr>\n",
       "      <th>50%</th>\n",
       "      <td>0.000000</td>\n",
       "      <td>2.000000</td>\n",
       "      <td>0.000000</td>\n",
       "      <td>28.000000</td>\n",
       "      <td>0.000000</td>\n",
       "      <td>0.000000</td>\n",
       "      <td>15.741700</td>\n",
       "    </tr>\n",
       "    <tr>\n",
       "      <th>75%</th>\n",
       "      <td>1.000000</td>\n",
       "      <td>3.000000</td>\n",
       "      <td>1.000000</td>\n",
       "      <td>38.000000</td>\n",
       "      <td>1.000000</td>\n",
       "      <td>1.000000</td>\n",
       "      <td>33.375000</td>\n",
       "    </tr>\n",
       "    <tr>\n",
       "      <th>max</th>\n",
       "      <td>1.000000</td>\n",
       "      <td>3.000000</td>\n",
       "      <td>1.000000</td>\n",
       "      <td>80.000000</td>\n",
       "      <td>5.000000</td>\n",
       "      <td>6.000000</td>\n",
       "      <td>512.329200</td>\n",
       "    </tr>\n",
       "  </tbody>\n",
       "</table>\n",
       "</div>"
      ],
      "text/plain": [
       "         Survived      Pclass         Sex         Age       SibSp       Parch  \\\n",
       "count  714.000000  714.000000  714.000000  714.000000  714.000000  714.000000   \n",
       "mean     0.406162    2.236695    0.365546   29.699118    0.512605    0.431373   \n",
       "std      0.491460    0.838250    0.481921   14.526497    0.929783    0.853289   \n",
       "min      0.000000    1.000000    0.000000    0.420000    0.000000    0.000000   \n",
       "25%      0.000000    1.000000    0.000000   20.125000    0.000000    0.000000   \n",
       "50%      0.000000    2.000000    0.000000   28.000000    0.000000    0.000000   \n",
       "75%      1.000000    3.000000    1.000000   38.000000    1.000000    1.000000   \n",
       "max      1.000000    3.000000    1.000000   80.000000    5.000000    6.000000   \n",
       "\n",
       "             Fare  \n",
       "count  714.000000  \n",
       "mean    34.694514  \n",
       "std     52.918930  \n",
       "min      0.000000  \n",
       "25%      8.050000  \n",
       "50%     15.741700  \n",
       "75%     33.375000  \n",
       "max    512.329200  "
      ]
     },
     "execution_count": 10,
     "metadata": {},
     "output_type": "execute_result"
    }
   ],
   "source": [
    "dataset=dataset.dropna(axis=0,how=\"any\") \n",
    "dataset=dataset.reset_index(drop=True)\n",
    "dataset.describe()"
   ]
  },
  {
   "cell_type": "markdown",
   "metadata": {},
   "source": [
    "### Correlation B/w Features of titanic Dataset"
   ]
  },
  {
   "cell_type": "code",
   "execution_count": 11,
   "metadata": {},
   "outputs": [
    {
     "data": {
      "text/html": [
       "<div>\n",
       "<style scoped>\n",
       "    .dataframe tbody tr th:only-of-type {\n",
       "        vertical-align: middle;\n",
       "    }\n",
       "\n",
       "    .dataframe tbody tr th {\n",
       "        vertical-align: top;\n",
       "    }\n",
       "\n",
       "    .dataframe thead th {\n",
       "        text-align: right;\n",
       "    }\n",
       "</style>\n",
       "<table border=\"1\" class=\"dataframe\">\n",
       "  <thead>\n",
       "    <tr style=\"text-align: right;\">\n",
       "      <th></th>\n",
       "      <th>Survived</th>\n",
       "      <th>Pclass</th>\n",
       "      <th>Sex</th>\n",
       "      <th>Age</th>\n",
       "      <th>SibSp</th>\n",
       "      <th>Parch</th>\n",
       "      <th>Fare</th>\n",
       "    </tr>\n",
       "  </thead>\n",
       "  <tbody>\n",
       "    <tr>\n",
       "      <th>Survived</th>\n",
       "      <td>1.000000</td>\n",
       "      <td>-0.359653</td>\n",
       "      <td>0.538826</td>\n",
       "      <td>-0.077221</td>\n",
       "      <td>-0.017358</td>\n",
       "      <td>0.093317</td>\n",
       "      <td>0.268189</td>\n",
       "    </tr>\n",
       "    <tr>\n",
       "      <th>Pclass</th>\n",
       "      <td>-0.359653</td>\n",
       "      <td>1.000000</td>\n",
       "      <td>-0.155460</td>\n",
       "      <td>-0.369226</td>\n",
       "      <td>0.067247</td>\n",
       "      <td>0.025683</td>\n",
       "      <td>-0.554182</td>\n",
       "    </tr>\n",
       "    <tr>\n",
       "      <th>Sex</th>\n",
       "      <td>0.538826</td>\n",
       "      <td>-0.155460</td>\n",
       "      <td>1.000000</td>\n",
       "      <td>-0.093254</td>\n",
       "      <td>0.103950</td>\n",
       "      <td>0.246972</td>\n",
       "      <td>0.184994</td>\n",
       "    </tr>\n",
       "    <tr>\n",
       "      <th>Age</th>\n",
       "      <td>-0.077221</td>\n",
       "      <td>-0.369226</td>\n",
       "      <td>-0.093254</td>\n",
       "      <td>1.000000</td>\n",
       "      <td>-0.308247</td>\n",
       "      <td>-0.189119</td>\n",
       "      <td>0.096067</td>\n",
       "    </tr>\n",
       "    <tr>\n",
       "      <th>SibSp</th>\n",
       "      <td>-0.017358</td>\n",
       "      <td>0.067247</td>\n",
       "      <td>0.103950</td>\n",
       "      <td>-0.308247</td>\n",
       "      <td>1.000000</td>\n",
       "      <td>0.383820</td>\n",
       "      <td>0.138329</td>\n",
       "    </tr>\n",
       "    <tr>\n",
       "      <th>Parch</th>\n",
       "      <td>0.093317</td>\n",
       "      <td>0.025683</td>\n",
       "      <td>0.246972</td>\n",
       "      <td>-0.189119</td>\n",
       "      <td>0.383820</td>\n",
       "      <td>1.000000</td>\n",
       "      <td>0.205119</td>\n",
       "    </tr>\n",
       "    <tr>\n",
       "      <th>Fare</th>\n",
       "      <td>0.268189</td>\n",
       "      <td>-0.554182</td>\n",
       "      <td>0.184994</td>\n",
       "      <td>0.096067</td>\n",
       "      <td>0.138329</td>\n",
       "      <td>0.205119</td>\n",
       "      <td>1.000000</td>\n",
       "    </tr>\n",
       "  </tbody>\n",
       "</table>\n",
       "</div>"
      ],
      "text/plain": [
       "          Survived    Pclass       Sex       Age     SibSp     Parch      Fare\n",
       "Survived  1.000000 -0.359653  0.538826 -0.077221 -0.017358  0.093317  0.268189\n",
       "Pclass   -0.359653  1.000000 -0.155460 -0.369226  0.067247  0.025683 -0.554182\n",
       "Sex       0.538826 -0.155460  1.000000 -0.093254  0.103950  0.246972  0.184994\n",
       "Age      -0.077221 -0.369226 -0.093254  1.000000 -0.308247 -0.189119  0.096067\n",
       "SibSp    -0.017358  0.067247  0.103950 -0.308247  1.000000  0.383820  0.138329\n",
       "Parch     0.093317  0.025683  0.246972 -0.189119  0.383820  1.000000  0.205119\n",
       "Fare      0.268189 -0.554182  0.184994  0.096067  0.138329  0.205119  1.000000"
      ]
     },
     "execution_count": 11,
     "metadata": {},
     "output_type": "execute_result"
    }
   ],
   "source": [
    "cor_matrix=dataset.corr() #function of pandas lib\n",
    "cor_matrix"
   ]
  },
  {
   "cell_type": "code",
   "execution_count": 12,
   "metadata": {},
   "outputs": [
    {
     "data": {
      "image/png": "[encoded data removed]",
      "text/plain": [
       "<Figure size 432x288 with 2 Axes>"
      ]
     },
     "metadata": {
      "needs_background": "light"
     },
     "output_type": "display_data"
    }
   ],
   "source": [
    "plt.figure()\n",
    "sns.heatmap(cor_matrix,cmap=\"coolwarm\")\n",
    "plt.show()"
   ]
  },
  {
   "cell_type": "markdown",
   "metadata": {},
   "source": [
    "#### Remove the label From the dataset"
   ]
  },
  {
   "cell_type": "code",
   "execution_count": 13,
   "metadata": {},
   "outputs": [
    {
     "name": "stdout",
     "output_type": "stream",
     "text": [
      "<class 'pandas.core.frame.DataFrame'>\n",
      "RangeIndex: 714 entries, 0 to 713\n",
      "Data columns (total 6 columns):\n",
      "Pclass    714 non-null int64\n",
      "Sex       714 non-null int64\n",
      "Age       714 non-null float64\n",
      "SibSp     714 non-null int64\n",
      "Parch     714 non-null int64\n",
      "Fare      714 non-null float64\n",
      "dtypes: float64(2), int64(4)\n",
      "memory usage: 33.5 KB\n"
     ]
    }
   ],
   "source": [
    "X=dataset[[each for each in dataset.columns if each!=\"Survived\"]]\n",
    "X.info()"
   ]
  },
  {
   "cell_type": "markdown",
   "metadata": {},
   "source": [
    "#### Label of Dataset"
   ]
  },
  {
   "cell_type": "code",
   "execution_count": 14,
   "metadata": {},
   "outputs": [
    {
     "data": {
      "text/html": [
       "<div>\n",
       "<style scoped>\n",
       "    .dataframe tbody tr th:only-of-type {\n",
       "        vertical-align: middle;\n",
       "    }\n",
       "\n",
       "    .dataframe tbody tr th {\n",
       "        vertical-align: top;\n",
       "    }\n",
       "\n",
       "    .dataframe thead th {\n",
       "        text-align: right;\n",
       "    }\n",
       "</style>\n",
       "<table border=\"1\" class=\"dataframe\">\n",
       "  <thead>\n",
       "    <tr style=\"text-align: right;\">\n",
       "      <th></th>\n",
       "      <th>Survived</th>\n",
       "    </tr>\n",
       "  </thead>\n",
       "  <tbody>\n",
       "    <tr>\n",
       "      <th>0</th>\n",
       "      <td>0</td>\n",
       "    </tr>\n",
       "    <tr>\n",
       "      <th>1</th>\n",
       "      <td>1</td>\n",
       "    </tr>\n",
       "    <tr>\n",
       "      <th>2</th>\n",
       "      <td>1</td>\n",
       "    </tr>\n",
       "    <tr>\n",
       "      <th>3</th>\n",
       "      <td>1</td>\n",
       "    </tr>\n",
       "    <tr>\n",
       "      <th>4</th>\n",
       "      <td>0</td>\n",
       "    </tr>\n",
       "  </tbody>\n",
       "</table>\n",
       "</div>"
      ],
      "text/plain": [
       "   Survived\n",
       "0         0\n",
       "1         1\n",
       "2         1\n",
       "3         1\n",
       "4         0"
      ]
     },
     "execution_count": 14,
     "metadata": {},
     "output_type": "execute_result"
    }
   ],
   "source": [
    "y=pd.DataFrame(dataset[\"Survived\"],columns=[\"Survived\"])\n",
    "y.head()"
   ]
  },
  {
   "cell_type": "markdown",
   "metadata": {},
   "source": [
    "## Implementation of Decision Tree"
   ]
  },
  {
   "cell_type": "code",
   "execution_count": 270,
   "metadata": {},
   "outputs": [],
   "source": [
    "class DecisionTree:\n",
    "    label_col=None\n",
    "    def __init__(self,depth=1,maxdepth=10):\n",
    "        self.left_tree=None\n",
    "        self.right_tree=None\n",
    "        self.tree_data=None\n",
    "        self.root_col=None\n",
    "        self.root_val=None\n",
    "        self.depth=depth\n",
    "        self.maxdepth=maxdepth\n",
    "        \n",
    "\n",
    "    def getbestsplit(self,root):\n",
    "        information_gain=[]\n",
    "        for col in root.columns:\n",
    "            if col==DecisionTree.label_col:\n",
    "                continue\n",
    "                \n",
    "            mean_value1=root[col].mean()\n",
    "            feature_col1=col\n",
    "            left_data,right_data=self.splitdata(root,mean_value1,feature_col1)\n",
    "            information_gain.append((DecisionTree.information_gain(root,left_data,right_data),mean_value1,feature_col1))\n",
    "            \n",
    "        information_gain=sorted(information_gain,key=lambda x:x[0],reverse=True)[0]\n",
    "        \n",
    "        return information_gain\n",
    "    \n",
    "    def splitdata(self,root,mean_value,feature_col):\n",
    "        right,left=list(),list()\n",
    "        \n",
    "        for x in range(root.shape[0]):\n",
    "            row=root.iloc[x]\n",
    "            if row[feature_col]<=mean_value:\n",
    "                left.append(row)\n",
    "                \n",
    "            else :\n",
    "                right.append(row)\n",
    "                        \n",
    "        #Now create the dataframe and reset index\n",
    "        \n",
    "        left_data=pd.DataFrame(left,columns=root.columns).reset_index(drop=True)\n",
    "        right_data=pd.DataFrame(right,columns=root.columns).reset_index(drop=True)\n",
    "    \n",
    "        return (left_data,right_data)\n",
    "            \n",
    "    def information_gain(root,left,right):\n",
    "        l=left.shape[0]/root.shape[0]\n",
    "        r=1-l\n",
    "        \n",
    "        if not(l or r):\n",
    "            return -np.inf\n",
    "        \n",
    "        gain=DecisionTree.entropy(root)-(DecisionTree.entropy(left)*l+DecisionTree.entropy(right)*r)\n",
    "        \n",
    "        return gain\n",
    "    \n",
    "    def entropy(system):\n",
    "        label,counts=np.unique(system[DecisionTree.label_col].values,return_counts=True)\n",
    "        ent=0\n",
    "        for i,l in enumerate(label):\n",
    "            p=counts[i]/system.shape[0]\n",
    "            ent+=-p*np.log2(p)\n",
    "            \n",
    "        return ent\n",
    "        \n",
    "    def createtree(self,root):\n",
    "        self.tree_data=root\n",
    "        #colum and value at which our tree split and create the new tree\n",
    "        gain,val,col=self.getbestsplit(root)\n",
    "        \n",
    "        self.root_col=col\n",
    "        self.root_val=val\n",
    "        \n",
    "        left_data,right_data=self.splitdata(root,val,col)\n",
    "        \n",
    "        if left_data.shape[0]==0 or right_data.shape[0]==0:\n",
    "            return\n",
    "        if self.depth>=self.maxdepth:\n",
    "            return\n",
    "        \n",
    "    #Here we make a new tree and act as node of tree\n",
    "        self.left_tree=DecisionTree(depth=self.depth+1,maxdepth=self.maxdepth)\n",
    "        self.right_tree=DecisionTree(depth=self.depth+1,maxdepth=self.maxdepth)\n",
    "    \n",
    "    #Now we create tree of left and right until it hit base case ie depth=maxdepth\n",
    "        self.left_tree.createtree(left_data)\n",
    "        self.right_tree.createtree(right_data)\n",
    "    \n",
    "    def isleafnode(self):\n",
    "        return  not(self.right_tree and self.left_tree)\n",
    "    \n",
    "    def fit(self,data,label_column1):\n",
    "        self.tree_data=data\n",
    "        DecisionTree.label_col=label_column1\n",
    "        self.createtree(data)\n",
    "        \n",
    "    def predict(self,test): #valid only for binary classification\n",
    "        if self.isleafnode():\n",
    "            #Decide which class is our answer of test\n",
    "            survive=self.tree_data[DecisionTree.label_col].sum()\n",
    "            death=self.tree_data.shape[0]-survive\n",
    "            \n",
    "            return (1 if survive>=death else 0)\n",
    "            \n",
    "        else:\n",
    "            if test[self.root_col]<=self.root_val:\n",
    "                return self.left_tree.predict(test)\n",
    "                \n",
    "            else:\n",
    "                return self.right_tree.predict(test)\n",
    "            \n",
    "    \n",
    "    def score(self,x_test,y_test,data):\n",
    "        pred=[]\n",
    "        for x in data.index[:data.shape[0]]:\n",
    "            pred.append(self.predict(data.loc[x]))\n",
    "            \n",
    "        pred=np.array(pred)\n",
    "        y_test=y_test[\"Survived\"].values\n",
    "        return(pred==y_test).sum()/y_test.shape[0]\n",
    "    \n",
    "    def Predictlist(self,x_test,y_test,data):\n",
    "        pred=[]\n",
    "        for x in data.index[:data.shape[0]]:\n",
    "            pred.append(self.predict(data.loc[x]))\n",
    "            \n",
    "        pred=np.array(pred)\n",
    "                \n",
    "        return pred\n",
    "        \n",
    "    def print(self):\n",
    "        print(\"---------Depth of Tree --> {}--------------\".format(self.depth))\n",
    "        str1=\"\"\n",
    "        if  self.left_tree:\n",
    "            str1+=str(self.left_tree.root_col)+\" , \"+str(self.left_tree.root_val)+\" --> \"\n",
    "        else:\n",
    "            str1+=\" END --> \"\n",
    "            \n",
    "        str1+=str(self.root_col)+\" , \"+str(self.root_val)\n",
    "        \n",
    "        if self.right_tree:\n",
    "            str1+=\" <-- \"+str(self.right_tree.root_col)+\" , \"+str(self.right_tree.root_val)\n",
    "        else :\n",
    "            str1+=\" <-- END \"\n",
    "            \n",
    "        print(str1,sep=\"\\n\")\n",
    "        if self.left_tree:\n",
    "            self.left_tree.print()\n",
    "            \n",
    "        if self.right_tree:\n",
    "            self.right_tree.print()\n",
    "            \n",
    "    def score1(self, labels, y_test):\n",
    "        return (labels == y_test).sum() / y_test.shape[0]\n",
    "    \n",
    "    "
   ]
  },
  {
   "cell_type": "markdown",
   "metadata": {},
   "source": [
    "### Spliting Dataset Using sklearn"
   ]
  },
  {
   "cell_type": "code",
   "execution_count": 250,
   "metadata": {},
   "outputs": [
    {
     "data": {
      "text/html": [
       "<div>\n",
       "<style scoped>\n",
       "    .dataframe tbody tr th:only-of-type {\n",
       "        vertical-align: middle;\n",
       "    }\n",
       "\n",
       "    .dataframe tbody tr th {\n",
       "        vertical-align: top;\n",
       "    }\n",
       "\n",
       "    .dataframe thead th {\n",
       "        text-align: right;\n",
       "    }\n",
       "</style>\n",
       "<table border=\"1\" class=\"dataframe\">\n",
       "  <thead>\n",
       "    <tr style=\"text-align: right;\">\n",
       "      <th></th>\n",
       "      <th>Pclass</th>\n",
       "      <th>Sex</th>\n",
       "      <th>Age</th>\n",
       "      <th>SibSp</th>\n",
       "      <th>Parch</th>\n",
       "      <th>Fare</th>\n",
       "    </tr>\n",
       "  </thead>\n",
       "  <tbody>\n",
       "    <tr>\n",
       "      <th>0</th>\n",
       "      <td>3</td>\n",
       "      <td>0</td>\n",
       "      <td>22.0</td>\n",
       "      <td>1</td>\n",
       "      <td>0</td>\n",
       "      <td>7.2500</td>\n",
       "    </tr>\n",
       "    <tr>\n",
       "      <th>1</th>\n",
       "      <td>1</td>\n",
       "      <td>1</td>\n",
       "      <td>38.0</td>\n",
       "      <td>1</td>\n",
       "      <td>0</td>\n",
       "      <td>71.2833</td>\n",
       "    </tr>\n",
       "    <tr>\n",
       "      <th>2</th>\n",
       "      <td>3</td>\n",
       "      <td>1</td>\n",
       "      <td>26.0</td>\n",
       "      <td>0</td>\n",
       "      <td>0</td>\n",
       "      <td>7.9250</td>\n",
       "    </tr>\n",
       "    <tr>\n",
       "      <th>3</th>\n",
       "      <td>1</td>\n",
       "      <td>1</td>\n",
       "      <td>35.0</td>\n",
       "      <td>1</td>\n",
       "      <td>0</td>\n",
       "      <td>53.1000</td>\n",
       "    </tr>\n",
       "    <tr>\n",
       "      <th>4</th>\n",
       "      <td>3</td>\n",
       "      <td>0</td>\n",
       "      <td>35.0</td>\n",
       "      <td>0</td>\n",
       "      <td>0</td>\n",
       "      <td>8.0500</td>\n",
       "    </tr>\n",
       "  </tbody>\n",
       "</table>\n",
       "</div>"
      ],
      "text/plain": [
       "   Pclass  Sex   Age  SibSp  Parch     Fare\n",
       "0       3    0  22.0      1      0   7.2500\n",
       "1       1    1  38.0      1      0  71.2833\n",
       "2       3    1  26.0      0      0   7.9250\n",
       "3       1    1  35.0      1      0  53.1000\n",
       "4       3    0  35.0      0      0   8.0500"
      ]
     },
     "execution_count": 250,
     "metadata": {},
     "output_type": "execute_result"
    }
   ],
   "source": [
    "X.head(5)"
   ]
  },
  {
   "cell_type": "code",
   "execution_count": 251,
   "metadata": {},
   "outputs": [
    {
     "data": {
      "text/html": [
       "<div>\n",
       "<style scoped>\n",
       "    .dataframe tbody tr th:only-of-type {\n",
       "        vertical-align: middle;\n",
       "    }\n",
       "\n",
       "    .dataframe tbody tr th {\n",
       "        vertical-align: top;\n",
       "    }\n",
       "\n",
       "    .dataframe thead th {\n",
       "        text-align: right;\n",
       "    }\n",
       "</style>\n",
       "<table border=\"1\" class=\"dataframe\">\n",
       "  <thead>\n",
       "    <tr style=\"text-align: right;\">\n",
       "      <th></th>\n",
       "      <th>Survived</th>\n",
       "    </tr>\n",
       "  </thead>\n",
       "  <tbody>\n",
       "    <tr>\n",
       "      <th>0</th>\n",
       "      <td>0</td>\n",
       "    </tr>\n",
       "    <tr>\n",
       "      <th>1</th>\n",
       "      <td>1</td>\n",
       "    </tr>\n",
       "    <tr>\n",
       "      <th>2</th>\n",
       "      <td>1</td>\n",
       "    </tr>\n",
       "    <tr>\n",
       "      <th>3</th>\n",
       "      <td>1</td>\n",
       "    </tr>\n",
       "    <tr>\n",
       "      <th>4</th>\n",
       "      <td>0</td>\n",
       "    </tr>\n",
       "  </tbody>\n",
       "</table>\n",
       "</div>"
      ],
      "text/plain": [
       "   Survived\n",
       "0         0\n",
       "1         1\n",
       "2         1\n",
       "3         1\n",
       "4         0"
      ]
     },
     "execution_count": 251,
     "metadata": {},
     "output_type": "execute_result"
    }
   ],
   "source": [
    "y.head(5)"
   ]
  },
  {
   "cell_type": "code",
   "execution_count": 260,
   "metadata": {},
   "outputs": [],
   "source": [
    "x_train, x_test = X[:split], X[split:]\n",
    "y_train, y_test = y[:split], y[split:]"
   ]
  },
  {
   "cell_type": "code",
   "execution_count": 261,
   "metadata": {},
   "outputs": [
    {
     "data": {
      "text/html": [
       "<div>\n",
       "<style scoped>\n",
       "    .dataframe tbody tr th:only-of-type {\n",
       "        vertical-align: middle;\n",
       "    }\n",
       "\n",
       "    .dataframe tbody tr th {\n",
       "        vertical-align: top;\n",
       "    }\n",
       "\n",
       "    .dataframe thead th {\n",
       "        text-align: right;\n",
       "    }\n",
       "</style>\n",
       "<table border=\"1\" class=\"dataframe\">\n",
       "  <thead>\n",
       "    <tr style=\"text-align: right;\">\n",
       "      <th></th>\n",
       "      <th>Survived</th>\n",
       "    </tr>\n",
       "  </thead>\n",
       "  <tbody>\n",
       "    <tr>\n",
       "      <th>0</th>\n",
       "      <td>0</td>\n",
       "    </tr>\n",
       "    <tr>\n",
       "      <th>1</th>\n",
       "      <td>1</td>\n",
       "    </tr>\n",
       "    <tr>\n",
       "      <th>2</th>\n",
       "      <td>1</td>\n",
       "    </tr>\n",
       "  </tbody>\n",
       "</table>\n",
       "</div>"
      ],
      "text/plain": [
       "   Survived\n",
       "0         0\n",
       "1         1\n",
       "2         1"
      ]
     },
     "execution_count": 261,
     "metadata": {},
     "output_type": "execute_result"
    }
   ],
   "source": [
    "y_train.head(3)"
   ]
  },
  {
   "cell_type": "code",
   "execution_count": 262,
   "metadata": {},
   "outputs": [],
   "source": [
    "x_train,y_train=x_train.reset_index(drop=True),y_train.reset_index(drop=True)\n",
    "x_test,y_test=x_test.reset_index(drop=True),y_test.reset_index(drop=True)"
   ]
  },
  {
   "cell_type": "code",
   "execution_count": 263,
   "metadata": {},
   "outputs": [
    {
     "data": {
      "text/html": [
       "<div>\n",
       "<style scoped>\n",
       "    .dataframe tbody tr th:only-of-type {\n",
       "        vertical-align: middle;\n",
       "    }\n",
       "\n",
       "    .dataframe tbody tr th {\n",
       "        vertical-align: top;\n",
       "    }\n",
       "\n",
       "    .dataframe thead th {\n",
       "        text-align: right;\n",
       "    }\n",
       "</style>\n",
       "<table border=\"1\" class=\"dataframe\">\n",
       "  <thead>\n",
       "    <tr style=\"text-align: right;\">\n",
       "      <th></th>\n",
       "      <th>Survived</th>\n",
       "    </tr>\n",
       "  </thead>\n",
       "  <tbody>\n",
       "    <tr>\n",
       "      <th>0</th>\n",
       "      <td>0</td>\n",
       "    </tr>\n",
       "    <tr>\n",
       "      <th>1</th>\n",
       "      <td>1</td>\n",
       "    </tr>\n",
       "    <tr>\n",
       "      <th>2</th>\n",
       "      <td>1</td>\n",
       "    </tr>\n",
       "  </tbody>\n",
       "</table>\n",
       "</div>"
      ],
      "text/plain": [
       "   Survived\n",
       "0         0\n",
       "1         1\n",
       "2         1"
      ]
     },
     "execution_count": 263,
     "metadata": {},
     "output_type": "execute_result"
    }
   ],
   "source": [
    "y_train.head(3)"
   ]
  },
  {
   "cell_type": "markdown",
   "metadata": {},
   "source": [
    "### Training Our Dataset Using Decision Tree"
   ]
  },
  {
   "cell_type": "code",
   "execution_count": 271,
   "metadata": {},
   "outputs": [
    {
     "name": "stdout",
     "output_type": "stream",
     "text": [
      "(571, 7)\n"
     ]
    }
   ],
   "source": [
    "Titanic=DecisionTree(maxdepth=6)\n",
    "split=int(0.8*dataset.shape[0])\n",
    "print(dataset[:split].shape)\n",
    "Titanic.fit(dataset[:split],\"Survived\")"
   ]
  },
  {
   "cell_type": "code",
   "execution_count": 272,
   "metadata": {},
   "outputs": [
    {
     "data": {
      "text/plain": [
       "('Sex', 0.36777583187390545)"
      ]
     },
     "execution_count": 272,
     "metadata": {},
     "output_type": "execute_result"
    }
   ],
   "source": [
    "Titanic.root_col,Titanic.root_val"
   ]
  },
  {
   "cell_type": "code",
   "execution_count": 273,
   "metadata": {},
   "outputs": [
    {
     "name": "stdout",
     "output_type": "stream",
     "text": [
      "---------Depth of Tree --> 1--------------\n",
      "Fare , 28.257881994459833 --> Sex , 0.36777583187390545 <-- Pclass , 2.080952380952381\n",
      "---------Depth of Tree --> 2--------------\n",
      "Fare , 12.418069696969695 --> Fare , 28.257881994459833 <-- SibSp , 1.0721649484536082\n",
      "---------Depth of Tree --> 3--------------\n",
      "Parch , 0.02976190476190476 --> Fare , 12.418069696969695 <-- Parch , 0.3229166666666667\n",
      "---------Depth of Tree --> 4--------------\n",
      "SibSp , 0.08588957055214724 --> Parch , 0.02976190476190476 <-- Pclass , 2.8\n",
      "---------Depth of Tree --> 5--------------\n",
      "Fare , 7.93571447368421 --> SibSp , 0.08588957055214724 <-- SibSp , 1.2727272727272727\n",
      "---------Depth of Tree --> 6--------------\n",
      " END --> Fare , 7.93571447368421 <-- END \n",
      "---------Depth of Tree --> 6--------------\n",
      " END --> SibSp , 1.2727272727272727 <-- END \n",
      "---------Depth of Tree --> 5--------------\n",
      "Pclass , 2.0 --> Pclass , 2.8 <-- Pclass , 3.0\n",
      "---------Depth of Tree --> 6--------------\n",
      " END --> Pclass , 2.0 <-- END \n",
      "---------Depth of Tree --> 6--------------\n",
      " END --> Pclass , 3.0 <-- END \n",
      "---------Depth of Tree --> 4--------------\n",
      "Pclass , 1.9189189189189189 --> Parch , 0.3229166666666667 <-- Age , 23.318181818181817\n",
      "---------Depth of Tree --> 5--------------\n",
      "Age , 45.78947368421053 --> Pclass , 1.9189189189189189 <-- SibSp , 0.4\n",
      "---------Depth of Tree --> 6--------------\n",
      " END --> Age , 45.78947368421053 <-- END \n",
      "---------Depth of Tree --> 6--------------\n",
      " END --> SibSp , 0.4 <-- END \n",
      "---------Depth of Tree --> 5--------------\n",
      "SibSp , 1.3 --> Age , 23.318181818181817 <-- Pclass , 2.6666666666666665\n",
      "---------Depth of Tree --> 6--------------\n",
      " END --> SibSp , 1.3 <-- END \n",
      "---------Depth of Tree --> 6--------------\n",
      " END --> Pclass , 2.6666666666666665 <-- END \n",
      "---------Depth of Tree --> 3--------------\n",
      "Age , 38.71103896103896 --> SibSp , 1.0721649484536082 <-- Pclass , 2.5\n",
      "---------Depth of Tree --> 4--------------\n",
      "Pclass , 1.375 --> Age , 38.71103896103896 <-- Parch , 0.4864864864864865\n",
      "---------Depth of Tree --> 5--------------\n",
      "SibSp , 0.41379310344827586 --> Pclass , 1.375 <-- SibSp , 0.45454545454545453\n",
      "---------Depth of Tree --> 6--------------\n",
      " END --> SibSp , 0.41379310344827586 <-- END \n",
      "---------Depth of Tree --> 6--------------\n",
      " END --> SibSp , 0.45454545454545453 <-- END \n",
      "---------Depth of Tree --> 5--------------\n",
      "SibSp , 0.37037037037037035 --> Parch , 0.4864864864864865 <-- Age , 55.2\n",
      "---------Depth of Tree --> 6--------------\n",
      " END --> SibSp , 0.37037037037037035 <-- END \n",
      "---------Depth of Tree --> 6--------------\n",
      " END --> Age , 55.2 <-- END \n",
      "---------Depth of Tree --> 4--------------\n",
      "SibSp , 2.142857142857143 --> Pclass , 2.5 <-- Fare , 38.192307692307686\n",
      "---------Depth of Tree --> 5--------------\n",
      "Parch , 0.16666666666666666 --> SibSp , 2.142857142857143 <-- Pclass , 1.0\n",
      "---------Depth of Tree --> 6--------------\n",
      " END --> Parch , 0.16666666666666666 <-- END \n",
      "---------Depth of Tree --> 6--------------\n",
      " END --> Pclass , 1.0 <-- END \n",
      "---------Depth of Tree --> 5--------------\n",
      "Parch , 1.4 --> Fare , 38.192307692307686 <-- Pclass , 3.0\n",
      "---------Depth of Tree --> 6--------------\n",
      " END --> Parch , 1.4 <-- END \n",
      "---------Depth of Tree --> 6--------------\n",
      " END --> Pclass , 3.0 <-- END \n",
      "---------Depth of Tree --> 2--------------\n",
      "Age , 30.830708661417322 --> Pclass , 2.080952380952381 <-- SibSp , 0.9036144578313253\n",
      "---------Depth of Tree --> 3--------------\n",
      "SibSp , 0.5606060606060606 --> Age , 30.830708661417322 <-- SibSp , 0.4262295081967213\n",
      "---------Depth of Tree --> 4--------------\n",
      "Pclass , 1.5135135135135136 --> SibSp , 0.5606060606060606 <-- SibSp , 1.2758620689655173\n",
      "---------Depth of Tree --> 5--------------\n",
      "Pclass , 1.0 --> Pclass , 1.5135135135135136 <-- Age , 21.210526315789473\n",
      "---------Depth of Tree --> 6--------------\n",
      " END --> Pclass , 1.0 <-- END \n",
      "---------Depth of Tree --> 6--------------\n",
      " END --> Age , 21.210526315789473 <-- END \n",
      "---------Depth of Tree --> 5--------------\n",
      "Parch , 0.782608695652174 --> SibSp , 1.2758620689655173 <-- Pclass , 1.5\n",
      "---------Depth of Tree --> 6--------------\n",
      " END --> Parch , 0.782608695652174 <-- END \n",
      "---------Depth of Tree --> 6--------------\n",
      " END --> Pclass , 1.5 <-- END \n",
      "---------Depth of Tree --> 4--------------\n",
      "Fare , 80.29120277777778 --> SibSp , 0.4262295081967213 <-- Pclass , 1.24\n",
      "---------Depth of Tree --> 5--------------\n",
      "Parch , 0.32 --> Fare , 80.29120277777778 <-- Pclass , 1.0\n",
      "---------Depth of Tree --> 6--------------\n",
      " END --> Parch , 0.32 <-- END \n",
      "---------Depth of Tree --> 6--------------\n",
      " END --> Pclass , 1.0 <-- END \n",
      "---------Depth of Tree --> 5--------------\n",
      "Pclass , 1.0 --> Pclass , 1.24 <-- Pclass , 2.0\n",
      "---------Depth of Tree --> 6--------------\n",
      " END --> Pclass , 1.0 <-- END \n",
      "---------Depth of Tree --> 6--------------\n",
      " END --> Pclass , 2.0 <-- END \n",
      "---------Depth of Tree --> 3--------------\n",
      "Age , 23.186046511627907 --> SibSp , 0.9036144578313253 <-- Fare , 21.178019999999997\n",
      "---------Depth of Tree --> 4--------------\n",
      "Parch , 0.4166666666666667 --> Age , 23.186046511627907 <-- Age , 33.05263157894737\n",
      "---------Depth of Tree --> 5--------------\n",
      "Fare , 8.368876470588233 --> Parch , 0.4166666666666667 <-- Age , 5.857142857142857\n",
      "---------Depth of Tree --> 6--------------\n",
      " END --> Fare , 8.368876470588233 <-- END \n",
      "---------Depth of Tree --> 6--------------\n",
      " END --> Age , 5.857142857142857 <-- END \n",
      "---------Depth of Tree --> 5--------------\n",
      "Fare , 10.874676923076922 --> Age , 33.05263157894737 <-- Age , 45.333333333333336\n",
      "---------Depth of Tree --> 6--------------\n",
      " END --> Fare , 10.874676923076922 <-- END \n",
      "---------Depth of Tree --> 6--------------\n",
      " END --> Age , 45.333333333333336 <-- END \n",
      "---------Depth of Tree --> 4--------------\n",
      "Parch , 0.5185185185185185 --> Fare , 21.178019999999997 <-- Fare , 33.39423076923076\n",
      "---------Depth of Tree --> 5--------------\n",
      "SibSp , 1.2142857142857142 --> Parch , 0.5185185185185185 <-- Fare , 16.678515384615384\n",
      "---------Depth of Tree --> 6--------------\n",
      " END --> SibSp , 1.2142857142857142 <-- END \n",
      "---------Depth of Tree --> 6--------------\n",
      " END --> Fare , 16.678515384615384 <-- END \n",
      "---------Depth of Tree --> 5--------------\n",
      "Fare , 30.174999999999997 --> Fare , 33.39423076923076 <-- Pclass , 3.0\n",
      "---------Depth of Tree --> 6--------------\n",
      " END --> Fare , 30.174999999999997 <-- END \n",
      "---------Depth of Tree --> 6--------------\n",
      " END --> Pclass , 3.0 <-- END \n"
     ]
    }
   ],
   "source": [
    "Titanic.print()"
   ]
  },
  {
   "cell_type": "code",
   "execution_count": 275,
   "metadata": {},
   "outputs": [
    {
     "data": {
      "text/plain": [
       "0.8391608391608392"
      ]
     },
     "execution_count": 275,
     "metadata": {},
     "output_type": "execute_result"
    }
   ],
   "source": [
    "Titanic.score(x_test,y_test,dataset[split:])"
   ]
  },
  {
   "cell_type": "markdown",
   "metadata": {},
   "source": [
    "### Prediction Score"
   ]
  },
  {
   "cell_type": "code",
   "execution_count": 268,
   "metadata": {},
   "outputs": [
    {
     "data": {
      "text/plain": [
       "array([0, 1, 0])"
      ]
     },
     "execution_count": 268,
     "metadata": {},
     "output_type": "execute_result"
    }
   ],
   "source": [
    "\n",
    "labels = []\n",
    "testing_data=dataset[split:]\n",
    "for ix in testing_data.index[:]:\n",
    "    labels.append(Titanic.predict(testing_data.loc[ix]))\n",
    "labels=np.array(labels)\n",
    "labels[:3]"
   ]
  },
  {
   "cell_type": "code",
   "execution_count": 269,
   "metadata": {},
   "outputs": [
    {
     "data": {
      "text/plain": [
       "0.8391608391608392"
      ]
     },
     "execution_count": 269,
     "metadata": {},
     "output_type": "execute_result"
    }
   ],
   "source": [
    "actual_labels = y_test['Survived'].values\n",
    "actual_labels[:10]\n",
    "Titanic.score1(labels,actual_labels)"
   ]
  },
  {
   "cell_type": "markdown",
   "metadata": {},
   "source": [
    "## SkLearn Implementation of Decision Tree"
   ]
  },
  {
   "cell_type": "code",
   "execution_count": 95,
   "metadata": {},
   "outputs": [],
   "source": [
    "from sklearn.tree import DecisionTreeClassifier"
   ]
  },
  {
   "cell_type": "code",
   "execution_count": 277,
   "metadata": {},
   "outputs": [],
   "source": [
    "DT_titanic=DecisionTreeClassifier(criterion='entropy',max_depth=6)"
   ]
  },
  {
   "cell_type": "code",
   "execution_count": 278,
   "metadata": {},
   "outputs": [
    {
     "data": {
      "text/plain": [
       "DecisionTreeClassifier(class_weight=None, criterion='entropy', max_depth=6,\n",
       "            max_features=None, max_leaf_nodes=None,\n",
       "            min_impurity_decrease=0.0, min_impurity_split=None,\n",
       "            min_samples_leaf=1, min_samples_split=2,\n",
       "            min_weight_fraction_leaf=0.0, presort=False, random_state=None,\n",
       "            splitter='best')"
      ]
     },
     "execution_count": 278,
     "metadata": {},
     "output_type": "execute_result"
    }
   ],
   "source": [
    "DT_titanic.fit(x_train,y_train)"
   ]
  },
  {
   "cell_type": "code",
   "execution_count": 279,
   "metadata": {},
   "outputs": [
    {
     "data": {
      "text/plain": [
       "0.8461538461538461"
      ]
     },
     "execution_count": 279,
     "metadata": {},
     "output_type": "execute_result"
    }
   ],
   "source": [
    "DT_titanic.score(x_test,y_test)"
   ]
  },
  {
   "cell_type": "markdown",
   "metadata": {},
   "source": [
    "## Random Forest Implementation"
   ]
  },
  {
   "cell_type": "code",
   "execution_count": 280,
   "metadata": {},
   "outputs": [],
   "source": [
    "def DatasetCreate(data):\n",
    "    col_name=[each for each in data.columns if each!=\"Survived\"]\n",
    "    Rand_Col=np.random.choice(col_name,size=4,replace=False)\n",
    "    Ndata=data[[col for col in data.columns if col in Rand_Col or col==\"Survived\"]]\n",
    "    \n",
    "    return Ndata.reset_index(drop=True)"
   ]
  },
  {
   "cell_type": "code",
   "execution_count": 295,
   "metadata": {},
   "outputs": [],
   "source": [
    "def splitdata(data):\n",
    "    X=data[[each for each in data.columns if each!=\"Survived\"]]\n",
    "    y=pd.DataFrame(data[\"Survived\"],columns=[\"Survived\"]) \n",
    "    x_train1, x_test1 = X[:split], X[split:]\n",
    "    y_train1, y_test1 = y[:split], y[split:]\n",
    "    return x_test1.reset_index(drop=True),y_test1.reset_index(drop=True)"
   ]
  },
  {
   "cell_type": "code",
   "execution_count": 282,
   "metadata": {},
   "outputs": [
    {
     "data": {
      "text/html": [
       "<div>\n",
       "<style scoped>\n",
       "    .dataframe tbody tr th:only-of-type {\n",
       "        vertical-align: middle;\n",
       "    }\n",
       "\n",
       "    .dataframe tbody tr th {\n",
       "        vertical-align: top;\n",
       "    }\n",
       "\n",
       "    .dataframe thead th {\n",
       "        text-align: right;\n",
       "    }\n",
       "</style>\n",
       "<table border=\"1\" class=\"dataframe\">\n",
       "  <thead>\n",
       "    <tr style=\"text-align: right;\">\n",
       "      <th></th>\n",
       "      <th>Sex</th>\n",
       "      <th>Age</th>\n",
       "      <th>SibSp</th>\n",
       "      <th>Parch</th>\n",
       "    </tr>\n",
       "  </thead>\n",
       "  <tbody>\n",
       "    <tr>\n",
       "      <th>0</th>\n",
       "      <td>0</td>\n",
       "      <td>22.0</td>\n",
       "      <td>1</td>\n",
       "      <td>0</td>\n",
       "    </tr>\n",
       "    <tr>\n",
       "      <th>1</th>\n",
       "      <td>1</td>\n",
       "      <td>38.0</td>\n",
       "      <td>1</td>\n",
       "      <td>0</td>\n",
       "    </tr>\n",
       "    <tr>\n",
       "      <th>2</th>\n",
       "      <td>1</td>\n",
       "      <td>26.0</td>\n",
       "      <td>0</td>\n",
       "      <td>0</td>\n",
       "    </tr>\n",
       "    <tr>\n",
       "      <th>3</th>\n",
       "      <td>1</td>\n",
       "      <td>35.0</td>\n",
       "      <td>1</td>\n",
       "      <td>0</td>\n",
       "    </tr>\n",
       "    <tr>\n",
       "      <th>4</th>\n",
       "      <td>0</td>\n",
       "      <td>35.0</td>\n",
       "      <td>0</td>\n",
       "      <td>0</td>\n",
       "    </tr>\n",
       "  </tbody>\n",
       "</table>\n",
       "</div>"
      ],
      "text/plain": [
       "   Sex   Age  SibSp  Parch\n",
       "0    0  22.0      1      0\n",
       "1    1  38.0      1      0\n",
       "2    1  26.0      0      0\n",
       "3    1  35.0      1      0\n",
       "4    0  35.0      0      0"
      ]
     },
     "execution_count": 282,
     "metadata": {},
     "output_type": "execute_result"
    }
   ],
   "source": [
    "splitdata(DatasetCreate(dataset))[0][:5]"
   ]
  },
  {
   "cell_type": "markdown",
   "metadata": {},
   "source": [
    "### Concept of Random Selection of column"
   ]
  },
  {
   "cell_type": "code",
   "execution_count": 214,
   "metadata": {},
   "outputs": [
    {
     "data": {
      "text/plain": [
       "array([ 5,  7, 55])"
      ]
     },
     "execution_count": 214,
     "metadata": {},
     "output_type": "execute_result"
    }
   ],
   "source": [
    "np.random.choice([1,4,5,55,7],size=3,replace=False) #repalce to get unique output  ==it mean we find random value without replacement of choice value"
   ]
  },
  {
   "cell_type": "code",
   "execution_count": 224,
   "metadata": {},
   "outputs": [
    {
     "name": "stdout",
     "output_type": "stream",
     "text": [
      "['Pclass', 'Sex', 'Age', 'SibSp', 'Parch', 'Fare']\n",
      "['Sex' 'Pclass' 'SibSp' 'Parch']\n"
     ]
    },
    {
     "data": {
      "text/html": [
       "<div>\n",
       "<style scoped>\n",
       "    .dataframe tbody tr th:only-of-type {\n",
       "        vertical-align: middle;\n",
       "    }\n",
       "\n",
       "    .dataframe tbody tr th {\n",
       "        vertical-align: top;\n",
       "    }\n",
       "\n",
       "    .dataframe thead th {\n",
       "        text-align: right;\n",
       "    }\n",
       "</style>\n",
       "<table border=\"1\" class=\"dataframe\">\n",
       "  <thead>\n",
       "    <tr style=\"text-align: right;\">\n",
       "      <th></th>\n",
       "      <th>Survived</th>\n",
       "      <th>Pclass</th>\n",
       "      <th>Sex</th>\n",
       "      <th>SibSp</th>\n",
       "      <th>Parch</th>\n",
       "    </tr>\n",
       "  </thead>\n",
       "  <tbody>\n",
       "    <tr>\n",
       "      <th>0</th>\n",
       "      <td>0</td>\n",
       "      <td>3</td>\n",
       "      <td>0</td>\n",
       "      <td>1</td>\n",
       "      <td>0</td>\n",
       "    </tr>\n",
       "    <tr>\n",
       "      <th>1</th>\n",
       "      <td>1</td>\n",
       "      <td>1</td>\n",
       "      <td>1</td>\n",
       "      <td>1</td>\n",
       "      <td>0</td>\n",
       "    </tr>\n",
       "    <tr>\n",
       "      <th>2</th>\n",
       "      <td>1</td>\n",
       "      <td>3</td>\n",
       "      <td>1</td>\n",
       "      <td>0</td>\n",
       "      <td>0</td>\n",
       "    </tr>\n",
       "  </tbody>\n",
       "</table>\n",
       "</div>"
      ],
      "text/plain": [
       "   Survived  Pclass  Sex  SibSp  Parch\n",
       "0         0       3    0      1      0\n",
       "1         1       1    1      1      0\n",
       "2         1       3    1      0      0"
      ]
     },
     "execution_count": 224,
     "metadata": {},
     "output_type": "execute_result"
    }
   ],
   "source": [
    "# Rand_Col=np.random.choice(x_test.columns,size=5)\n",
    "col_name=[each for each in dataset.columns if each!=\"Survived\"]\n",
    "print(col_name)\n",
    "Rand_Col=np.random.choice(col_name,size=4,replace=False)\n",
    "print(Rand_Col)\n",
    "Ndata=dataset[[col for col in dataset.columns if col in Rand_Col or col==\"Survived\"]]\n",
    "Ndata.head(3)"
   ]
  },
  {
   "cell_type": "code",
   "execution_count": 314,
   "metadata": {},
   "outputs": [
    {
     "name": "stdout",
     "output_type": "stream",
     "text": [
      "0 --> 0.7132867132867133\n",
      "1 --> 0.8321678321678322\n",
      "2 --> 0.7972027972027972\n",
      "3 --> 0.7972027972027972\n",
      "4 --> 0.7622377622377622\n"
     ]
    },
    {
     "data": {
      "text/plain": [
       "(5, 143)"
      ]
     },
     "execution_count": 314,
     "metadata": {},
     "output_type": "execute_result"
    }
   ],
   "source": [
    "n_tree=5\n",
    "prediction=[]\n",
    "acc=[]\n",
    "# print(dataset.shape,split)\n",
    "for i in range(n_tree):\n",
    "    newData=DatasetCreate(dataset)\n",
    "#     print(newData.shape)\n",
    "    Dt=DecisionTree(maxdepth=5)\n",
    "    Dt.fit(newData,\"Survived\")\n",
    "    test,label=splitdata(newData)\n",
    "#     print(test.shape,label.shape)\n",
    "    scr=Dt.score(test,label,newData[split:])\n",
    "    acc.append(scr)\n",
    "    print(\"{} --> {}\".format(i,scr))\n",
    "    prediction.append(Dt.Predictlist(test,label,newData[split:]))\n",
    "    \n",
    "prediction=np.array(prediction)\n",
    "prediction.shape"
   ]
  },
  {
   "cell_type": "code",
   "execution_count": 315,
   "metadata": {},
   "outputs": [
    {
     "data": {
      "text/plain": [
       "array([[0, 1, 0, 1, 0, 1, 0, 1, 1, 0, 1, 1],\n",
       "       [0, 1, 0, 0, 0, 0, 0, 1, 0, 1, 1, 0]])"
      ]
     },
     "execution_count": 315,
     "metadata": {},
     "output_type": "execute_result"
    }
   ],
   "source": [
    "prediction[:2,:12]"
   ]
  },
  {
   "cell_type": "code",
   "execution_count": 316,
   "metadata": {},
   "outputs": [],
   "source": [
    "pred=prediction.mean(axis=0)"
   ]
  },
  {
   "cell_type": "code",
   "execution_count": 317,
   "metadata": {},
   "outputs": [
    {
     "data": {
      "text/plain": [
       "array([0. , 1. , 0. , 0.2, 0. , 0.6, 0. , 0.8, 0.2, 0.2, 1. , 0.2])"
      ]
     },
     "execution_count": 317,
     "metadata": {},
     "output_type": "execute_result"
    }
   ],
   "source": [
    "pred[:12]"
   ]
  },
  {
   "cell_type": "code",
   "execution_count": 318,
   "metadata": {},
   "outputs": [
    {
     "data": {
      "text/plain": [
       "[<matplotlib.lines.Line2D at 0x7f9457048f60>]"
      ]
     },
     "execution_count": 318,
     "metadata": {},
     "output_type": "execute_result"
    },
    {
     "data": {
      "image/png": "[encoded data removed]",
      "text/plain": [
       "<Figure size 432x288 with 1 Axes>"
      ]
     },
     "metadata": {
      "needs_background": "light"
     },
     "output_type": "display_data"
    }
   ],
   "source": [
    "plt.plot(acc)"
   ]
  },
  {
   "cell_type": "code",
   "execution_count": 320,
   "metadata": {},
   "outputs": [
    {
     "data": {
      "text/plain": [
       "array([0., 1., 0., 0., 0., 1., 0., 1., 0., 0., 1., 0.])"
      ]
     },
     "execution_count": 320,
     "metadata": {},
     "output_type": "execute_result"
    }
   ],
   "source": [
    "for p in  range(pred.shape[0]):\n",
    "    if pred[p]>=0.5:\n",
    "        pred[p]=1\n",
    "    else:\n",
    "        pred[p]=0\n",
    "pred[:12]"
   ]
  },
  {
   "cell_type": "code",
   "execution_count": 324,
   "metadata": {},
   "outputs": [],
   "source": [
    "\n",
    "final_pred=(pred == y_test[\"Survived\"].values).sum() / y_test.shape[0]"
   ]
  },
  {
   "cell_type": "code",
   "execution_count": 325,
   "metadata": {},
   "outputs": [
    {
     "name": "stdout",
     "output_type": "stream",
     "text": [
      "0.8181818181818182\n"
     ]
    }
   ],
   "source": [
    "print(final_pred)"
   ]
  },
  {
   "cell_type": "code",
   "execution_count": null,
   "metadata": {},
   "outputs": [],
   "source": []
  }
 ],
 "metadata": {
  "kernelspec": {
   "display_name": "Python 3",
   "language": "python",
   "name": "python3"
  },
  "language_info": {
   "codemirror_mode": {
    "name": "ipython",
    "version": 3
   },
   "file_extension": ".py",
   "mimetype": "text/x-python",
   "name": "python",
   "nbconvert_exporter": "python",
   "pygments_lexer": "ipython3",
   "version": "3.6.8"
  }
 },
 "nbformat": 4,
 "nbformat_minor": 2
}
