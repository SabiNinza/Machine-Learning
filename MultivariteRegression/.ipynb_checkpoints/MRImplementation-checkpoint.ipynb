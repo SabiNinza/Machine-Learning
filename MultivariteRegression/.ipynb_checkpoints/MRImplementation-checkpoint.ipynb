{
 "cells": [
  {
   "cell_type": "code",
   "execution_count": 1,
   "metadata": {},
   "outputs": [],
   "source": [
    "import numpy as np\n",
    "import matplotlib.pyplot as plt\n",
    "from sklearn.model_selection import train_test_split\n",
    "from sklearn.datasets import load_boston"
   ]
  },
  {
   "cell_type": "code",
   "execution_count": 2,
   "metadata": {},
   "outputs": [
    {
     "data": {
      "text/plain": [
       "((506, 13), (506,))"
      ]
     },
     "execution_count": 2,
     "metadata": {},
     "output_type": "execute_result"
    }
   ],
   "source": [
    "dataset=load_boston()\n",
    "dataset.data.shape,dataset.target.shape"
   ]
  },
  {
   "cell_type": "code",
   "execution_count": 3,
   "metadata": {},
   "outputs": [
    {
     "name": "stdout",
     "output_type": "stream",
     "text": [
      "(404, 13) (102, 13) (404,) (102,)\n"
     ]
    }
   ],
   "source": [
    "#Stratification ==the distribution of label in train and test is equal\n",
    "#Random Sampling ==does'nt care for distribution of label\n",
    "x_train,x_test,y_train,y_test=train_test_split(dataset.data,dataset.target,test_size=0.2)\n",
    "print(x_train.shape,x_test.shape,y_train.shape,y_test.shape)\n"
   ]
  },
  {
   "cell_type": "code",
   "execution_count": 87,
   "metadata": {},
   "outputs": [
    {
     "data": {
      "text/plain": [
       "<matplotlib.collections.PathCollection at 0x1e7c9f36c18>"
      ]
     },
     "execution_count": 87,
     "metadata": {},
     "output_type": "execute_result"
    },
    {
     "data": {
      "image/png": "[encoded data removed]",
      "text/plain": [
       "<Figure size 432x288 with 1 Axes>"
      ]
     },
     "metadata": {
      "needs_background": "light"
     },
     "output_type": "display_data"
    }
   ],
   "source": [
    "plt.scatter(x_train[:,0],y_train)"
   ]
  },
  {
   "cell_type": "code",
   "execution_count": 109,
   "metadata": {},
   "outputs": [],
   "source": [
    " class Multivariate_LR:\n",
    "        \n",
    "    def __init__(self,n_feature=5):\n",
    "        self.coef=np.random.uniform(low=-1,high=1,size=(n_feature,))\n",
    "        self.bias=np.random.random()\n",
    "        self.theta=list()\n",
    "        \n",
    "    def Compute_Loss(self,X,Y):\n",
    "        losses=[]\n",
    "        for x , y in zip(X,Y):\n",
    "            y_cap=self.Predict(x)\n",
    "            loss=(y_cap-y)**2\n",
    "            losses.append(loss)\n",
    "\n",
    "        losses=np.array(losses)\n",
    "        return losses.sum()/2*X.shape[0]\n",
    "\n",
    "    def Predict(self,x):\n",
    "        return self.coef.dot(x)+self.bias\n",
    "\n",
    "    def GetAllPredict(self,X):\n",
    "        pred=[]\n",
    "        for x in X:\n",
    "            y=self.Predict(x)\n",
    "            pred.append(y)\n",
    "\n",
    "        return pred\n",
    "\n",
    "    def Gradient_descent(self,X,Y):\n",
    "        grad_0=0\n",
    "        grad_1=[]\n",
    "        y_pred=np.array(self.GetAllPredict(X))\n",
    "        #first calculate the theta_0\n",
    "        diff=y_pred-Y\n",
    "        grad_0+=diff.sum()/X.shape[0]\n",
    "        #now calculate the other thetas \n",
    "        for j in range(X.shape[1]):\n",
    "            grad=(diff*X[:,j]).sum()/X.shape[0]\n",
    "            grad_1.append(grad)\n",
    "\n",
    "        return (grad_0,np.array(grad_1))\n",
    "\n",
    "    def Update_Weight(self,gradient,alpha=0.1):\n",
    "        self.theta.append((self.coef,self.bias))\n",
    "        self.coef-=alpha*gradient[1]\n",
    "        self.bias-=alpha*gradient[0]\n",
    "\n",
    "    def Fit(self,X,Y,alpha=0.1,iteration=10,Optimizer=\"batch\",batch_size=1):\n",
    "        #Normalise our dataset\n",
    "        x=(X-X.mean(axis=0))/X.std(axis=0)\n",
    "        y=(Y-Y.mean(axis=0))/Y.std(axis=0)\n",
    "        if Optimizer==\"batch\":\n",
    "            loss=[]\n",
    "            for _ in range(iteration):\n",
    "                gradient=self.Gradient_descent(x,y)\n",
    "                self.Update_Weight(gradient,alpha)\n",
    "                loss.append(self.Compute_Loss(x,y))\n",
    "            return loss\n",
    "        \n",
    "        if Optimizer==\"Sgb\" and batch_size==1:\n",
    "            loss=[]\n",
    "            for _ in range(iteration):\n",
    "                t=0\n",
    "                while True:\n",
    "                    if t+batch_size>X.shape[0]:\n",
    "                        break\n",
    "                    gradient=self.Gradient_descent(x[t:batch_size+t],y[t:t+batch_size])\n",
    "                    self.Update_Weight(gradient,alpha)\n",
    "                    t+=batch_size\n",
    "                loss.append(self.Compute_Loss(x,y))\n",
    "            return loss\n",
    "      \n",
    "        if Optimizer==\"Mini\" and batch_size>1:\n",
    "\n",
    "            loss=[]\n",
    "            for _ in range(iteration):\n",
    "                t=0\n",
    "                while True:\n",
    "                    if t+batch_size>X.shape[0]:\n",
    "                        break\n",
    "                    gradient=self.Gradient_descent(x[t:batch_size+t],y[t:t+batch_size])\n",
    "                    self.Update_Weight(gradient,alpha)\n",
    "                    t+=batch_size\n",
    "                loss.append(self.Compute_Loss(x,y))\n",
    "            return loss\n",
    "        \n",
    "    def R2Score(self,X,Y):\n",
    "        y_bar=Y.mean()\n",
    "        #totalerror of mean =best model represent\n",
    "        T_error=0\n",
    "        for y in Y:\n",
    "            T_error+=((y_bar-y)**2)\n",
    "        Pred_error=0\n",
    "        for x,y in zip(X,Y):\n",
    "                 Pred_error+=((self.Predict(x)-y)**2)\n",
    "        return (1-Pred_error/float(T_error))\n",
    "            "
   ]
  },
  {
   "cell_type": "markdown",
   "metadata": {},
   "source": [
    "## Training of Model Normal Gradient"
   ]
  },
  {
   "cell_type": "code",
   "execution_count": 116,
   "metadata": {},
   "outputs": [],
   "source": [
    "MLR=Multivariate_LR(n_feature=13)"
   ]
  },
  {
   "cell_type": "code",
   "execution_count": 117,
   "metadata": {},
   "outputs": [],
   "source": [
    "loss=MLR.Fit(x_train,y_train,iteration=200)"
   ]
  },
  {
   "cell_type": "code",
   "execution_count": 118,
   "metadata": {},
   "outputs": [
    {
     "data": {
      "text/plain": [
       "[<matplotlib.lines.Line2D at 0x1e7c9cc5358>]"
      ]
     },
     "execution_count": 118,
     "metadata": {},
     "output_type": "execute_result"
    },
    {
     "data": {
      "image/png": "[encoded data removed]",
      "text/plain": [
       "<Figure size 432x288 with 1 Axes>"
      ]
     },
     "metadata": {
      "needs_background": "light"
     },
     "output_type": "display_data"
    }
   ],
   "source": [
    "plt.plot(loss)"
   ]
  },
  {
   "cell_type": "markdown",
   "metadata": {},
   "source": [
    "### Score Training Data"
   ]
  },
  {
   "cell_type": "code",
   "execution_count": 123,
   "metadata": {},
   "outputs": [
    {
     "data": {
      "text/plain": [
       "0.7369490306257525"
      ]
     },
     "execution_count": 123,
     "metadata": {},
     "output_type": "execute_result"
    }
   ],
   "source": [
    "x1=(x_train-x_train.mean(axis=0))/x_train.std(axis=0)\n",
    "y1=(y_train-y_train.mean(axis=0))/y_train.std(axis=0)\n",
    "MLR.R2Score(x1,y1)"
   ]
  },
  {
   "cell_type": "markdown",
   "metadata": {},
   "source": [
    "### Score Testing Data"
   ]
  },
  {
   "cell_type": "code",
   "execution_count": 136,
   "metadata": {},
   "outputs": [
    {
     "data": {
      "text/plain": [
       "0.7065594489915019"
      ]
     },
     "execution_count": 136,
     "metadata": {},
     "output_type": "execute_result"
    }
   ],
   "source": [
    "x2=(x_train-x_test.mean(axis=0))/x_test.std(axis=0)\n",
    "y2=(y_train-y_test.mean(axis=0))/y_test.std(axis=0)\n",
    "MLR.R2Score(x2,y2)"
   ]
  },
  {
   "cell_type": "markdown",
   "metadata": {},
   "source": [
    "## Stochastic Batch Gradient"
   ]
  },
  {
   "cell_type": "code",
   "execution_count": 125,
   "metadata": {},
   "outputs": [],
   "source": [
    "MLR1=Multivariate_LR(n_feature=13)"
   ]
  },
  {
   "cell_type": "code",
   "execution_count": 126,
   "metadata": {},
   "outputs": [
    {
     "data": {
      "text/plain": [
       "[4626687.152010928, 328075313.19713324, 18218478482.386288, 970215750219.8575]"
      ]
     },
     "execution_count": 126,
     "metadata": {},
     "output_type": "execute_result"
    }
   ],
   "source": [
    "Loss_sgb=MLR1.Fit(x_train,y_train,Optimizer=\"Sgb\",iteration=100)\n",
    "Loss_sgb[:4]"
   ]
  },
  {
   "cell_type": "code",
   "execution_count": 127,
   "metadata": {},
   "outputs": [
    {
     "data": {
      "text/plain": [
       "[<matplotlib.lines.Line2D at 0x1e7c9df94a8>]"
      ]
     },
     "execution_count": 127,
     "metadata": {},
     "output_type": "execute_result"
    },
    {
     "data": {
      "image/png": "[encoded data removed]",
      "text/plain": [
       "<Figure size 432x288 with 1 Axes>"
      ]
     },
     "metadata": {
      "needs_background": "light"
     },
     "output_type": "display_data"
    }
   ],
   "source": [
    "plt.plot(Loss_sgb)"
   ]
  },
  {
   "cell_type": "code",
   "execution_count": 128,
   "metadata": {},
   "outputs": [
    {
     "data": {
      "text/plain": [
       "-3.336729036739523e+172"
      ]
     },
     "execution_count": 128,
     "metadata": {},
     "output_type": "execute_result"
    }
   ],
   "source": [
    "MLR1.R2Score(x1,y1)"
   ]
  },
  {
   "cell_type": "code",
   "execution_count": 139,
   "metadata": {},
   "outputs": [
    {
     "data": {
      "text/plain": [
       "-4.4149591236030425e+172"
      ]
     },
     "execution_count": 139,
     "metadata": {},
     "output_type": "execute_result"
    }
   ],
   "source": [
    " MLR1.R2Score(x2,y2)"
   ]
  },
  {
   "cell_type": "markdown",
   "metadata": {},
   "source": [
    "## Mini Batch Gradient"
   ]
  },
  {
   "cell_type": "code",
   "execution_count": 110,
   "metadata": {},
   "outputs": [],
   "source": [
    "MLR2=Multivariate_LR(n_feature=13)"
   ]
  },
  {
   "cell_type": "code",
   "execution_count": 111,
   "metadata": {},
   "outputs": [
    {
     "data": {
      "text/plain": [
       "[450542.661614484, 289613.20374310284, 193510.65441555297, 135626.28442635562]"
      ]
     },
     "execution_count": 111,
     "metadata": {},
     "output_type": "execute_result"
    }
   ],
   "source": [
    "Loss_mini=MLR2.Fit(x_train,y_train,Optimizer=\"Mini\",batch_size=150,iteration=200)\n",
    "Loss_mini[:4]"
   ]
  },
  {
   "cell_type": "code",
   "execution_count": 112,
   "metadata": {},
   "outputs": [
    {
     "data": {
      "text/plain": [
       "[<matplotlib.lines.Line2D at 0x1e7c9efed30>]"
      ]
     },
     "execution_count": 112,
     "metadata": {},
     "output_type": "execute_result"
    },
    {
     "data": {
      "image/png": "[encoded data removed]",
      "text/plain": [
       "<Figure size 432x288 with 1 Axes>"
      ]
     },
     "metadata": {
      "needs_background": "light"
     },
     "output_type": "display_data"
    }
   ],
   "source": [
    "plt.plot(Loss_mini)"
   ]
  },
  {
   "cell_type": "code",
   "execution_count": 124,
   "metadata": {},
   "outputs": [
    {
     "data": {
      "text/plain": [
       "0.729562439688688"
      ]
     },
     "execution_count": 124,
     "metadata": {},
     "output_type": "execute_result"
    }
   ],
   "source": [
    "MLR2.R2Score(x1,y1)"
   ]
  },
  {
   "cell_type": "code",
   "execution_count": 137,
   "metadata": {},
   "outputs": [
    {
     "data": {
      "text/plain": [
       "0.6814648506847172"
      ]
     },
     "execution_count": 137,
     "metadata": {},
     "output_type": "execute_result"
    }
   ],
   "source": [
    "MLR2.R2Score(x2,y2)"
   ]
  },
  {
   "cell_type": "markdown",
   "metadata": {},
   "source": [
    "## Sklearn LoadBoston"
   ]
  },
  {
   "cell_type": "code",
   "execution_count": 129,
   "metadata": {},
   "outputs": [],
   "source": [
    "from sklearn.linear_model import LinearRegression"
   ]
  },
  {
   "cell_type": "code",
   "execution_count": 131,
   "metadata": {},
   "outputs": [],
   "source": [
    "model=LinearRegression(normalize=True)"
   ]
  },
  {
   "cell_type": "code",
   "execution_count": 132,
   "metadata": {},
   "outputs": [
    {
     "data": {
      "text/plain": [
       "LinearRegression(copy_X=True, fit_intercept=True, n_jobs=None, normalize=True)"
      ]
     },
     "execution_count": 132,
     "metadata": {},
     "output_type": "execute_result"
    }
   ],
   "source": [
    "model.fit(x_train,y_train)"
   ]
  },
  {
   "cell_type": "code",
   "execution_count": 133,
   "metadata": {},
   "outputs": [
    {
     "data": {
      "text/plain": [
       "0.7256552916985728"
      ]
     },
     "execution_count": 133,
     "metadata": {},
     "output_type": "execute_result"
    }
   ],
   "source": [
    "model.score(x_test,y_test)"
   ]
  },
  {
   "cell_type": "code",
   "execution_count": 134,
   "metadata": {},
   "outputs": [
    {
     "data": {
      "text/plain": [
       "0.7380422134063738"
      ]
     },
     "execution_count": 134,
     "metadata": {},
     "output_type": "execute_result"
    }
   ],
   "source": [
    "model.score(x_train,y_train)"
   ]
  },
  {
   "cell_type": "code",
   "execution_count": null,
   "metadata": {},
   "outputs": [],
   "source": []
  }
 ],
 "metadata": {
  "kernelspec": {
   "display_name": "Python 3",
   "language": "python",
   "name": "python3"
  },
  "language_info": {
   "codemirror_mode": {
    "name": "ipython",
    "version": 3
   },
   "file_extension": ".py",
   "mimetype": "text/x-python",
   "name": "python",
   "nbconvert_exporter": "python",
   "pygments_lexer": "ipython3",
   "version": "3.7.3"
  }
 },
 "nbformat": 4,
 "nbformat_minor": 2
}
