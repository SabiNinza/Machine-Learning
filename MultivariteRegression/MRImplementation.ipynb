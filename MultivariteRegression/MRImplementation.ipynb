{
 "cells": [
  {
   "cell_type": "code",
   "execution_count": null,
   "metadata": {},
   "outputs": [],
   "source": [
    "import numpy as np\n",
    "import matplotlib.pyplot as plt\n",
    "from sklearn.model_selection import train_test_split\n",
    "from sklearn.datasets import load_boston"
   ]
  },
  {
   "cell_type": "code",
   "execution_count": 11,
   "metadata": {},
   "outputs": [
    {
     "data": {
      "text/plain": [
       "((506, 13), (506,))"
      ]
     },
     "execution_count": 11,
     "metadata": {},
     "output_type": "execute_result"
    }
   ],
   "source": [
    "dataset=load_boston()\n",
    "dataset.data.shape,dataset.target.shape"
   ]
  },
  {
   "cell_type": "code",
   "execution_count": 137,
   "metadata": {},
   "outputs": [
    {
     "name": "stdout",
     "output_type": "stream",
     "text": [
      "(404, 13) (102, 13) (404,) (102,)\n"
     ]
    }
   ],
   "source": [
    "#Stratification ==the distribution of label in train and test is equal\n",
    "#Random Sampling ==does'nt care for distribution of label\n",
    "x_train,x_test,y_train,y_test=train_test_split(dataset.data,dataset.target,test_size=0.2)\n",
    "print(x_train.shape,x_test.shape,y_train.shape,y_test.shape)\n"
   ]
  },
  {
   "cell_type": "code",
   "execution_count": 138,
   "metadata": {},
   "outputs": [
    {
     "data": {
      "text/plain": [
       "<matplotlib.collections.PathCollection at 0x7fdb8f21d400>"
      ]
     },
     "execution_count": 138,
     "metadata": {},
     "output_type": "execute_result"
    },
    {
     "data": {
      "image/png": "[encoded data removed]",
      "text/plain": [
       "<Figure size 432x288 with 1 Axes>"
      ]
     },
     "metadata": {
      "needs_background": "light"
     },
     "output_type": "display_data"
    }
   ],
   "source": [
    "plt.scatter(x_train[:,0],y_train)"
   ]
  },
  {
   "cell_type": "code",
   "execution_count": 140,
   "metadata": {},
   "outputs": [],
   "source": [
    " class Multivariate_LR:\n",
    "        \n",
    "    def __init__(self,n_feature=5):\n",
    "        self.coef=np.random.uniform(low=-1,high=1,size=(n_feature,))\n",
    "        self.bias=np.random.random()\n",
    "        self.theta=list()\n",
    "        \n",
    "    def Compute_Loss(self,X,Y):\n",
    "        losses=[]\n",
    "        for x , y in zip(X,Y):\n",
    "            y_cap=self.Predict(x)\n",
    "            loss=(y_cap-y)**2\n",
    "            losses.append(loss)\n",
    "\n",
    "        losses=np.array(losses)\n",
    "        return losses.sum()/2*X.shape[0]\n",
    "\n",
    "    def Predict(self,x):\n",
    "        return self.coef.dot(x)+self.bias\n",
    "\n",
    "    def GetAllPredict(self,X):\n",
    "        pred=[]\n",
    "        for x in X:\n",
    "            y=self.Predict(x)\n",
    "            pred.append(y)\n",
    "\n",
    "        return pred\n",
    "\n",
    "    def Gradient_descent(self,X,Y):\n",
    "        grad_0=0\n",
    "        grad_1=[]\n",
    "        y_pred=np.array(self.GetAllPredict(X))\n",
    "        #first calculate the theta_0\n",
    "        diff=y_pred-Y\n",
    "        grad_0+=diff.sum()/X.shape[0]\n",
    "        #now calculate the other thetas \n",
    "        for j in range(X.shape[1]):\n",
    "            grad=(diff*X[:,j]).sum()/X.shape[0]\n",
    "            grad_1.append(grad)\n",
    "\n",
    "        return (grad_0,np.array(grad_1))\n",
    "\n",
    "    def Update_Weight(self,gradient,alpha=0.1):\n",
    "        self.theta.append((self.coef,self.bias))\n",
    "        self.coef-=alpha*gradient[1]\n",
    "        self.bias-=alpha*gradient[0]\n",
    "\n",
    "    def Fit(self,X,Y,alpha=0.1,iteration=10,Optimizer=\"batch\",batch_size=1):\n",
    "        #Normalise our dataset\n",
    "        x=(X-X.mean(axis=0))/X.std(axis=0)\n",
    "        y=Y\n",
    "        if Optimizer==\"batch\":\n",
    "            loss=[]\n",
    "            for _ in range(iteration):\n",
    "                gradient=self.Gradient_descent(x,y)\n",
    "                self.Update_Weight(gradient,alpha)\n",
    "                loss.append(self.Compute_Loss(x,y))\n",
    "            return loss\n",
    "        \n",
    "        if Optimizer==\"Sgb\" and batch_size==1:\n",
    "            loss=[]\n",
    "            for _ in range(iteration):\n",
    "                t=0\n",
    "                while True:\n",
    "                    if t+batch_size>X.shape[0]:\n",
    "                        break\n",
    "                    gradient=self.Gradient_descent(x[t:batch_size+t],y[t:t+batch_size])\n",
    "                    self.Update_Weight(gradient,alpha)\n",
    "                    t+=batch_size\n",
    "                loss.append(self.Compute_Loss(x,y))\n",
    "                return loss\n",
    "      \n",
    "        if Optimizer==\"Mini\" and batch_size>1:\n",
    "\n",
    "            loss=[]\n",
    "            for _ in range(iteration):\n",
    "                t=0\n",
    "                while True:\n",
    "                    if t+batch_size<=X.shape[0]:\n",
    "                        break\n",
    "                    gradient=self.Gradient_descent(x[t:batch_size+t],y[t:t+batch_size])\n",
    "                    self.Update_Weight(gradient,alpha)\n",
    "                    t+=batch_size\n",
    "                loss.append(self.Compute_Loss(x,y))\n",
    "                return loss\n",
    "            "
   ]
  },
  {
   "cell_type": "markdown",
   "metadata": {},
   "source": [
    "## Training of Model"
   ]
  },
  {
   "cell_type": "code",
   "execution_count": 146,
   "metadata": {},
   "outputs": [
    {
     "data": {
      "text/plain": [
       "3"
      ]
     },
     "execution_count": 146,
     "metadata": {},
     "output_type": "execute_result"
    }
   ],
   "source": [
    "MLR=Multivariate_LR(n_feature=13)"
   ]
  },
  {
   "cell_type": "code",
   "execution_count": 115,
   "metadata": {},
   "outputs": [],
   "source": [
    "loss=MLR.Fit(x_train,y_train,iteration=200)"
   ]
  },
  {
   "cell_type": "code",
   "execution_count": 116,
   "metadata": {},
   "outputs": [
    {
     "data": {
      "text/plain": [
       "[<matplotlib.lines.Line2D at 0x7fdb8f3bd6a0>]"
      ]
     },
     "execution_count": 116,
     "metadata": {},
     "output_type": "execute_result"
    },
    {
     "data": {
      "image/png": "[encoded data removed]",
      "text/plain": [
       "<Figure size 432x288 with 1 Axes>"
      ]
     },
     "metadata": {
      "needs_background": "light"
     },
     "output_type": "display_data"
    }
   ],
   "source": [
    "plt.plot(loss)"
   ]
  },
  {
   "cell_type": "code",
   "execution_count": null,
   "metadata": {},
   "outputs": [],
   "source": [
    "MLR1=Multivariate_LR(n_feature=13)\n",
    "Loss_sgb=0\n",
    "Loss_sgb=MLR1.Fit(x_train,y_train,Optimizer=\"Sgb\")\n",
    "print(Loss_sgb)"
   ]
  },
  {
   "cell_type": "code",
   "execution_count": null,
   "metadata": {},
   "outputs": [],
   "source": []
  },
  {
   "cell_type": "code",
   "execution_count": null,
   "metadata": {},
   "outputs": [],
   "source": []
  },
  {
   "cell_type": "code",
   "execution_count": null,
   "metadata": {},
   "outputs": [],
   "source": []
  }
 ],
 "metadata": {
  "kernelspec": {
   "display_name": "Python 3",
   "language": "python",
   "name": "python3"
  },
  "language_info": {
   "codemirror_mode": {
    "name": "ipython",
    "version": 3
   },
   "file_extension": ".py",
   "mimetype": "text/x-python",
   "name": "python",
   "nbconvert_exporter": "python",
   "pygments_lexer": "ipython3",
   "version": "3.6.8"
  }
 },
 "nbformat": 4,
 "nbformat_minor": 2
}
