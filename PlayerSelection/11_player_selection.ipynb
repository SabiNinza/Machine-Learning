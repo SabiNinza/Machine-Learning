{
 "cells": [
  {
   "cell_type": "markdown",
   "metadata": {},
   "source": [
    "## https://www.cricbuzz.com/cricket-series/2849/australia-tour-of-india-2020/matches"
   ]
  },
  {
   "cell_type": "code",
   "execution_count": 1,
   "metadata": {},
   "outputs": [],
   "source": [
    "aus_squad = {\n",
    "    \n",
    "'batsmen':\"Aaron Finch\",\n",
    "'batsmen':\"Steven Smith\",\n",
    "'batsmen':\"D Arcy Short\",\n",
    "'batsmen':\"David Warner\",\n",
    "'batting_allrounder':\"Marnus Labuschagne\",\n",
    "'batting_allrounder':\"Ashton Turner\",\n",
    "'bowling_allrounder':\"Ashton Agar\",\n",
    "'wk-batsmen':\"Alex Carey\",\n",
    "'wk-batsmen':\"Peter Handscomb\",\n",
    "'bolwer':\"Pat Cummins\",\n",
    "'bowler':\"Josh Hazlewood\",\n",
    "'bowler':\"Kane Richardson\",\n",
    "'bowler':\"Mitchell Starc\",\n",
    "'bowler':\"Adam Zampa\",\n",
    "}\n",
    "\n",
    "india_squad = {\n",
    "'1':\"Virat Kohli\",\n",
    "'2':\"Rohit Sharma\",\n",
    "'3':\"Shikhar Dhawan\",\n",
    "'4':\"Shreyas Iyer\",\n",
    "'5':\"Manish Pandey\",\n",
    "'6':\"Lokesh Rahul\",\n",
    "'7':\"Rishabh Pant\",\n",
    "'8':\"Srikar Bharat\",\n",
    "'9':\"Kedar Jadhav\",\n",
    "'10':\"Shivam Dube\",\n",
    "'11':\"Ravindra Jadeja\",\n",
    "'12':\"Yuzvendra Chahal\",\n",
    "'13':\"Kuldeep Yadav\",\n",
    "'14':\"Navdeep Saini\",\n",
    "'15':\"Jasprit Bumrah\",\n",
    "'16':\"Shardul Thakur\",\n",
    "'17':\"Mohammed Shami\",\n",
    "}"
   ]
  },
  {
   "cell_type": "code",
   "execution_count": 2,
   "metadata": {},
   "outputs": [],
   "source": [
    "import json\n",
    "from statistics import mean "
   ]
  },
  {
   "cell_type": "code",
   "execution_count": 3,
   "metadata": {},
   "outputs": [],
   "source": [
    "with open(\"./india_squad_player_squad_stats.json\", encoding='utf-8', errors='ignore') as json_data:\n",
    "     data = json.load(json_data, strict=False)"
   ]
  },
  {
   "cell_type": "code",
   "execution_count": 4,
   "metadata": {},
   "outputs": [
    {
     "data": {
      "text/plain": [
       "{'batsmen': {'1': {'venue': {'match': 5,\n",
       "    'innings': 5,\n",
       "    'avg': 66.2,\n",
       "    '50': 1,\n",
       "    '100': 1},\n",
       "   'year': {'match': 26, 'innings': 25, 'avg': 59.9, '50': 7, '100': 5},\n",
       "   'overall': {'match': 241, 'innings': 232, 'avg': 59.3, '50': 58, '100': 43},\n",
       "   'oponent': {'match': 40, 'innings': 38, 'avg': 67, '50': 8, '100': 8},\n",
       "   '5_match': {'avg': [120.0, 141.0, 4.0, 0.0, 85.0],\n",
       "    '50': [0, 0, 0, 0, 1],\n",
       "    '100': [1, 1, 0, 0, 0]}},\n",
       "  '2': {'venue': {'match': 1, 'innings': 1, 'avg': 66.2, '50': 0, '100': 0},\n",
       "   'year': {'match': 28, 'innings': 27, 'avg': 57.3, '50': 7, '100': 6},\n",
       "   'overall': {'match': 222,\n",
       "    'innings': 215,\n",
       "    'avg': 49.72,\n",
       "    '50': 43,\n",
       "    '100': 29},\n",
       "   'oponent': {'match': 37, 'innings': 37, 'avg': 61.32, '50': 8, '100': 8},\n",
       "   '5_match': {'avg': [18.0, 10.0, 36.0, 159.0, 63.0],\n",
       "    '50': [0, 0, 0, 0, 1],\n",
       "    '100': [0, 0, 0, 1, 0]}},\n",
       "  '3': {'venue': {'match': 1, 'innings': 1, 'avg': 35.0, '50': 0, '100': 0},\n",
       "   'year': {'match': 18, 'innings': 17, 'avg': 36.43, '50': 2, '100': 2},\n",
       "   'overall': {'match': 133,\n",
       "    'innings': 130,\n",
       "    'avg': 45.14,\n",
       "    '50': 29,\n",
       "    '100': 16},\n",
       "   'oponent': {'match': 25, 'innings': 24, 'avg': 45.8, '50': 6, '100': 4},\n",
       "   '5_match': {'avg': [12.0, 8.0, 117.0, 2.0, 36.0],\n",
       "    '50': [0, 0, 0, 0, 0],\n",
       "    '100': [0, 0, 0, 1, 0]}},\n",
       "  '4': {'venue': {'match': 0, 'innings': 1, 'avg': 0, '50': 0, '100': 0},\n",
       "   'year': {'match': 6, 'innings': 5, 'avg': 53.2, '50': 4, '100': 0},\n",
       "   'overall': {'match': 15, 'innings': 13, 'avg': 49.86, '50': 8, '100': 1},\n",
       "   'oponent': {'match': 0, 'innings': 1, 'avg': 0, '50': 0, '100': 0},\n",
       "   '5_match': {'avg': [71.0, 65.0, 70.0, 52.0, 7.0],\n",
       "    '50': [1, 1, 1, 1, 0],\n",
       "    '100': [0, 0, 0, 0, 0]}},\n",
       "  '5': {'venue': {'match': 0, 'innings': 1, 'avg': 0, '50': 0, '100': 0},\n",
       "   'year': {'match': 1, 'innings': 1, 'avg': 8, '50': 0, '100': 0},\n",
       "   'overall': {'match': 23, 'innings': 19, 'avg': 35.14, '50': 2, '100': 1},\n",
       "   'oponent': {'match': 0, 'innings': 1, 'avg': 0, '50': 0, '100': 0},\n",
       "   '5_match': {'avg': [36.0, 33.0, 11.0, 2.0, 8.0],\n",
       "    '50': [0, 0, 0, 0, 0],\n",
       "    '100': [0, 0, 0, 0, 0]}},\n",
       "  '6': {'venue': {'match': 0, 'innings': 2, 'avg': 30, '50': 0, '100': 0},\n",
       "   'year': {'match': 13, 'innings': 13, 'avg': 47.66, '50': 3, '100': 2},\n",
       "   'overall': {'match': 29, 'innings': 28, 'avg': 47.65, '50': 6, '100': 3},\n",
       "   'oponent': {'match': 0, 'innings': 1, 'avg': 0, '50': 0, '100': 0},\n",
       "   '5_match': {'avg': [111.0, 1.0, 6.0, 102.0, 77.0],\n",
       "    '50': [0, 0, 0, 0, 1],\n",
       "    '100': [1, 0, 0, 1, 0]}},\n",
       "  '7': {'venue': {'match': 0, 'innings': 1, 'avg': 0, '50': 0, '100': 0},\n",
       "   'year': {'match': 12, 'innings': 11, 'avg': 27.71, '50': 1, '100': 0},\n",
       "   'overall': {'match': 13, 'innings': 11, 'avg': 26.71, '50': 1, '100': 0},\n",
       "   'oponent': {'match': 0, 'innings': 1, 'avg': 0, '50': 0, '100': 0},\n",
       "   '5_match': {'avg': [20.0, 0.0, 71.0, 39.0, 7.0],\n",
       "    '50': [0, 0, 0, 1, 0],\n",
       "    '100': [0, 0, 0, 0, 0]}},\n",
       "  '8': {'venue': {'match': 1, 'innings': 1, 'avg': 0, '50': 0, '100': 0},\n",
       "   'year': {'match': 1, 'innings': 1, 'avg': 0, '50': 0, '100': 0},\n",
       "   'overall': {'match': 51, 'innings': 51, 'avg': 37.24, '50': 5, '100': 3},\n",
       "   'oponent': {'match': 1, 'innings': 1, 'avg': 0, '50': 0, '100': 0},\n",
       "   '5_match': {'avg': [1.0, 0.0, 0.0, 0.0, 0.0],\n",
       "    '50': [0, 0, 0, 0, 0],\n",
       "    '100': [0, 0, 0, 0, 0]}},\n",
       "  '9': {'venue': {'match': 5, 'innings': 5, 'avg': 66.2, '50': 1, '100': 1},\n",
       "   'year': {'match': 23, 'innings': 19, 'avg': 42.72, '50': 3, '100': 0},\n",
       "   'overall': {'match': 71, 'innings': 50, 'avg': 42.09, '50': 6, '100': 2},\n",
       "   'oponent': {'match': 12, 'innings': 12, 'avg': 46.37, '50': 3, '100': 1},\n",
       "   '5_match': {'avg': [16.0, 19.0, 40.0, 16.0, 9.0],\n",
       "    '50': [0, 0, 0, 0, 0],\n",
       "    '100': [0, 0, 0, 0, 0]}},\n",
       "  '10': {'venue': {'match': 0, 'innings': 1, 'avg': 0, '50': 0, '100': 0},\n",
       "   'year': {'match': 0, 'innings': 1, 'avg': 0, '50': 0, '100': 0},\n",
       "   'overall': {'match': 37, 'innings': 25, 'avg': 48.19, '50': 0, '100': 0},\n",
       "   'oponent': {'match': 0, 'innings': 1, 'avg': 0, '50': 0, '100': 0},\n",
       "   '5_match': {'avg': [9.0, 0.0, 0.0, 0.0, 0.0],\n",
       "    '50': [0, 0, 0, 0, 0],\n",
       "    '100': [0, 0, 0, 0, 0]}},\n",
       "  '11': {'venue': {'match': 1, 'innings': 1, 'avg': 25.0, '50': 0, '100': 0},\n",
       "   'year': {'match': 15, 'innings': 9, 'avg': 34.33, '50': 1, '100': 0},\n",
       "   'overall': {'match': 162, 'innings': 108, 'avg': 31.88, '50': 0, '100': 0},\n",
       "   'oponent': {'match': 29, 'innings': 19, 'avg': 18, '50': 0, '100': 0},\n",
       "   '5_match': {'avg': [0.0, 77.0, 16.0, 21.0, 39.0],\n",
       "    '50': [0, 1, 0, 0, 0],\n",
       "    '100': [0, 0, 0, 0, 0]}}},\n",
       " 'bowler': {'9': {'venue': {'match': 1,\n",
       "    'innings': 1,\n",
       "    'avg': 0,\n",
       "    '5': 0,\n",
       "    '3': 0},\n",
       "   'year': {'match': 23, 'innings': 16, 'avg': 64.0, '5': 0, '3': 0},\n",
       "   'overall': {'match': 71, 'innings': 40, 'avg': 37.7, '5': 0, '3': 0},\n",
       "   'oponent': {'match': 12, 'innings': 9, 'avg': 70.75, '5': 0, '3': 0},\n",
       "   '5_match': {'avg': [100, 0, 0, 0, 0],\n",
       "    '5': [0, 0, 0, 0, 0],\n",
       "    '3': [0, 0, 0, 0, 0]}},\n",
       "  '10': {'venue': {'match': 0, 'innings': 1, 'avg': 0, '5': 0, '3': 0},\n",
       "   'year': {'match': 1, 'innings': 1, 'avg': 0, '5': 0, '3': 0},\n",
       "   'overall': {'match': 1, 'innings': 1, 'avg': 68.0, '5': 0, '3': 0},\n",
       "   'oponent': {'match': 0, 'innings': 1, 'avg': 0, '5': 0, '3': 0},\n",
       "   '5_match': {'avg': [68, 0, 0, 0, 0],\n",
       "    '5': [0, 0, 0, 0, 0],\n",
       "    '3': [0, 0, 0, 0, 0]}},\n",
       "  '11': {'venue': {'match': 2, 'innings': 2, 'avg': 41.0, '5': 0, '3': 0},\n",
       "   'year': {'match': 15, 'innings': 15, 'avg': 53.91, '5': 0, '3': 0},\n",
       "   'overall': {'match': 159, 'innings': 157, 'avg': 36.57, '5': 1, '3': 7},\n",
       "   'oponent': {'match': 21, 'innings': 19, 'avg': 55.37, '5': 0, '3': 0},\n",
       "   '5_match': {'avg': [15.0, 26.0, 0, 37.0, 54],\n",
       "    '5': [0, 0, 0, 0, 0],\n",
       "    '3': [0, 0, 0, 0, 0]}},\n",
       "  '12': {'venue': {'match': 1, 'innings': 1, 'avg': 0, '5': 0, '3': 0},\n",
       "   'year': {'match': 16, 'innings': 16, 'avg': 28.1, '5': 1, '3': 1},\n",
       "   'overall': {'match': 52, 'innings': 51, 'avg': 25.83, '5': 2, '3': 2},\n",
       "   'oponent': {'match': 7, 'innings': 7, 'avg': 23.73, '5': 1, '3': 0},\n",
       "   '5_match': {'avg': [19.5, 0, 50.0, 63.0, 32.0],\n",
       "    '5': [0, 0, 0, 0, 0],\n",
       "    '3': [0, 0, 0, 0, 0]}},\n",
       "  '13': {'venue': {'match': 2, 'innings': 2, 'avg': 119.0, '5': 0, '3': 0},\n",
       "   'year': {'match': 23, 'innings': 23, 'avg': 24.77, '5': 0, '3': 2},\n",
       "   'overall': {'match': 60, 'innings': 58, 'avg': 26.16, '5': 1, '3': 4},\n",
       "   'oponent': {'match': 15, 'innings': 15, 'avg': 39.5, '5': 0, '3': 0},\n",
       "   '5_match': {'avg': [3.0, 29.5, 0, 17.3, 0],\n",
       "    '5': [0, 0, 0, 0, 0],\n",
       "    '3': [0, 0, 0, 1, 0]}},\n",
       "  '14': {'venue': {'match': 0, 'innings': 1, 'avg': 0, '5': 0, '3': 0},\n",
       "   'year': {'match': 1, 'innings': 1, 'avg': 29.0, '5': 0, '3': 0},\n",
       "   'overall': {'match': 5, 'innings': 5, 'avg': 60.2, '5': 0, '3': 0},\n",
       "   'oponent': {'match': 0, 'innings': 1, 'avg': 0, '5': 0, '3': 0},\n",
       "   '5_match': {'avg': [0, 0, 0, 0, 29.0],\n",
       "    '5': [0, 0, 0, 0, 0],\n",
       "    '3': [0, 0, 0, 0, 0]}},\n",
       "  '15': {'venue': {'match': 1, 'innings': 1, 'avg': 42, '5': 0, '3': 0},\n",
       "   'year': {'match': 14, 'innings': 14, 'avg': 24.6, '5': 0, '3': 1},\n",
       "   'overall': {'match': 64, 'innings': 64, 'avg': 24.43, '5': 1, '3': 6},\n",
       "   'oponent': {'match': 14, 'innings': 14, 'avg': 34.83, '5': 0, '3': 0},\n",
       "   '5_match': {'avg': [4.5, 44.0, 13.8, 12.3, 39.0],\n",
       "    '5': [0, 0, 0, 0, 0],\n",
       "    '3': [0, 0, 1, 1, 0]}},\n",
       "  '16': {'venue': {'match': 0, 'innings': 1, 'avg': 0, '5': 0, '3': 0},\n",
       "   'year': {'match': 2, 'innings': 2, 'avg': 60.5, '5': 0, '3': 0},\n",
       "   'overall': {'match': 7, 'innings': 7, 'avg': 50.75, '5': 0, '3': 1},\n",
       "   'oponent': {'match': 0, 'innings': 1, 'avg': 0, '5': 0, '3': 0},\n",
       "   '5_match': {'avg': [51.0, 13.0, 0, 55.0, 66.0],\n",
       "    '5': [0, 0, 0, 0, 0],\n",
       "    '3': [0, 0, 0, 0, 0]}},\n",
       "  '17': {'venue': {'match': 1, 'innings': 1, 'avg': 42, '5': 0, '3': 0},\n",
       "   'year': {'match': 21, 'innings': 21, 'avg': 22.64, '5': 1, '3': 2},\n",
       "   'overall': {'match': 73, 'innings': 72, 'avg': 25.42, '5': 1, '3': 9},\n",
       "   'oponent': {'match': 15, 'innings': 14, 'avg': 35.84, '5': 0, '3': 1},\n",
       "   '5_match': {'avg': [19.5, 25.0, 57.0, 13.0, 66.0],\n",
       "    '5': [0, 0, 0, 0, 0],\n",
       "    '3': [0, 0, 0, 1, 0]}}}}"
      ]
     },
     "execution_count": 4,
     "metadata": {},
     "output_type": "execute_result"
    }
   ],
   "source": [
    "data"
   ]
  },
  {
   "cell_type": "markdown",
   "metadata": {},
   "source": [
    "## Calculating Bating  and Bowling Score"
   ]
  },
  {
   "cell_type": "code",
   "execution_count": 5,
   "metadata": {},
   "outputs": [],
   "source": [
    "def batting_score(data,MAX_BATTING_AVG=250,MAX_50_100=6.0): #20*49+5*96\n",
    "    B = data['avg']/MAX_BATTING_AVG\n",
    "    C = (20*data['100'] + 5*data['50'])/data['innings']\n",
    "    D = C/MAX_50_100\n",
    "    E = 0.4*D + 0.6*B\n",
    "    return E\n",
    "def bowling_score(data,MAX_BOWL_AVG=150,MAX_5_3=1.279):\n",
    "    H = data['avg']/MAX_BOWL_AVG\n",
    "    F = (20*data['5'] + 5*data['3'])/data['innings']\n",
    "    G = F/MAX_5_3\n",
    "    I = 0.4*G + 0.6*H\n",
    "    return I\n",
    "def last5_batting_score(data,MAX_BATTING_AVG=250,MAX_50_100=6.0):\n",
    "    avg = mean(data['avg'])\n",
    "    max_avg = max(data['avg'])\n",
    "    fif = sum(data['50'])\n",
    "    hun = sum(data['100'])\n",
    "    B = avg/max_avg\n",
    "    C = (20*hun + 5*fif)/5\n",
    "    D = C/MAX_50_100\n",
    "    E = 0.2*D + 0.8*B\n",
    "    return E\n",
    "def last5_bowling_score(data,MAX_5_3=1.279):\n",
    "    avg = mean(data['avg'])\n",
    "    max_avg = max(data['avg'])\n",
    "    five_wic = sum(data['5'])\n",
    "    three_wic = sum(data['3'])\n",
    "    B = avg/max_avg\n",
    "    C = (20*five_wic + 5*three_wic)/5\n",
    "    D = C/MAX_5_3\n",
    "    E = 0.2*D + 0.8*B\n",
    "    return E"
   ]
  },
  {
   "cell_type": "markdown",
   "metadata": {},
   "source": [
    "## Calculated Total Score"
   ]
  },
  {
   "cell_type": "code",
   "execution_count": 6,
   "metadata": {},
   "outputs": [],
   "source": [
    "def total_batting_score(data):\n",
    "    overall = data['overall']\n",
    "    A = overall['innings']/overall['match']\n",
    "    E = batting_score(overall)\n",
    "    R = batting_score(data['venue'])\n",
    "    P = batting_score(data['year'])\n",
    "    Q = batting_score(data['oponent'])\n",
    "    L = last5_batting_score(data['5_match'])\n",
    "    ans = A*((0.25*E) + (0.15*P) + (0.1*(Q+R))+(0.5*L))\n",
    "    return ans\n",
    "def total_bowling_score(data):\n",
    "    overall = data['overall']\n",
    "    V = overall['innings']/overall['match']\n",
    "    I = bowling_score(overall)\n",
    "    S = bowling_score(data['year'])\n",
    "    T = bowling_score(data['oponent'])\n",
    "    U = bowling_score(data['venue'])\n",
    "    L1 = last5_bowling_score(data['5_match'])\n",
    "    ans = V*((0.25*I) +(0.15*S) + (0.1 *\n",
    "    (T+U) )+(0.5*L1))\n",
    "    return ans"
   ]
  },
  {
   "cell_type": "code",
   "execution_count": 7,
   "metadata": {},
   "outputs": [],
   "source": [
    "bats_men_score = set()\n",
    "bowl_men_score = set()"
   ]
  },
  {
   "cell_type": "code",
   "execution_count": 8,
   "metadata": {
    "scrolled": true
   },
   "outputs": [
    {
     "name": "stdout",
     "output_type": "stream",
     "text": [
      "1 Virat Kohli 0.6187272069004506\n",
      "2 Rohit Sharma 0.44875812516613167\n",
      "3 Shikhar Dhawan 0.3572539688436778\n",
      "4 Shreyas Iyer 0.4604160538341157\n",
      "5 Manish Pandey 0.2067528695652174\n",
      "6 Lokesh Rahul 0.49519523096996204\n",
      "7 Rishabh Pant 0.1769778796677501\n",
      "8 Srikar Bharat 0.13012177777777778\n",
      "9 Kedar Jadhav 0.24764496334733543\n",
      "10 Shivam Dube 0.07359054054054055\n",
      "11 Ravindra Jadeja 0.1486600407888408\n"
     ]
    }
   ],
   "source": [
    "batsmen = data['batsmen']\n",
    "for i in batsmen.keys():\n",
    "    print(i,india_squad[i],total_batting_score(batsmen[i]))\n",
    "    bats_men_score.add((total_batting_score(batsmen[i]),i))"
   ]
  },
  {
   "cell_type": "code",
   "execution_count": 9,
   "metadata": {},
   "outputs": [
    {
     "name": "stdout",
     "output_type": "stream",
     "text": [
      "9 Kedar Jadhav 0.10388732394366199\n",
      "10 Shivam Dube 0.148\n",
      "11 Ravindra Jadeja 0.3262534891853513\n",
      "12 Yuzvendra Chahal 0.4907562163935882\n",
      "13 Kuldeep Yadav 0.3789108450399084\n",
      "14 Navdeep Saini 0.15760000000000002\n",
      "15 Jasprit Bumrah 0.5106766581643533\n",
      "16 Shardul Thakur 0.3671396262976013\n",
      "17 Mohammed Shami 0.5088177889598914\n"
     ]
    }
   ],
   "source": [
    "bowler = data['bowler']\n",
    "for i in bowler.keys():\n",
    "    print(i,india_squad[i],total_bowling_score(bowler[i]))\n",
    "    bowl_men_score.add((total_bowling_score(bowler[i]),i))"
   ]
  },
  {
   "cell_type": "code",
   "execution_count": 10,
   "metadata": {},
   "outputs": [
    {
     "data": {
      "text/plain": [
       "{(0.07359054054054055, '10'),\n",
       " (0.13012177777777778, '8'),\n",
       " (0.1486600407888408, '11'),\n",
       " (0.1769778796677501, '7'),\n",
       " (0.2067528695652174, '5'),\n",
       " (0.24764496334733543, '9'),\n",
       " (0.3572539688436778, '3'),\n",
       " (0.44875812516613167, '2'),\n",
       " (0.4604160538341157, '4'),\n",
       " (0.49519523096996204, '6'),\n",
       " (0.6187272069004506, '1')}"
      ]
     },
     "execution_count": 10,
     "metadata": {},
     "output_type": "execute_result"
    }
   ],
   "source": [
    "bats_men_score"
   ]
  },
  {
   "cell_type": "code",
   "execution_count": 11,
   "metadata": {},
   "outputs": [
    {
     "data": {
      "text/plain": [
       "{(0.10388732394366199, '9'),\n",
       " (0.148, '10'),\n",
       " (0.15760000000000002, '14'),\n",
       " (0.3262534891853513, '11'),\n",
       " (0.3671396262976013, '16'),\n",
       " (0.3789108450399084, '13'),\n",
       " (0.4907562163935882, '12'),\n",
       " (0.5088177889598914, '17'),\n",
       " (0.5106766581643533, '15')}"
      ]
     },
     "execution_count": 11,
     "metadata": {},
     "output_type": "execute_result"
    }
   ],
   "source": [
    "bowl_men_score"
   ]
  }
 ],
 "metadata": {
  "kernelspec": {
   "display_name": "Python 3",
   "language": "python",
   "name": "python3"
  },
  "language_info": {
   "codemirror_mode": {
    "name": "ipython",
    "version": 3
   },
   "file_extension": ".py",
   "mimetype": "text/x-python",
   "name": "python",
   "nbconvert_exporter": "python",
   "pygments_lexer": "ipython3",
   "version": "3.8.2"
  }
 },
 "nbformat": 4,
 "nbformat_minor": 4
}
