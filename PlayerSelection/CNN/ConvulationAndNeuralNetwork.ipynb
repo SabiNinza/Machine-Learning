{
 "cells": [
  {
   "cell_type": "code",
   "execution_count": 18,
   "metadata": {},
   "outputs": [],
   "source": [
    "import numpy as np\n",
    "import matplotlib.pyplot as plt\n",
    "from pandas import read_csv\n",
    "from tensorflow import keras\n",
    "from keras.models import Sequential,Model\n",
    "from keras.layers import Activation,Dense,Input\n",
    "from keras.utils import np_utils\n",
    "from sklearn.model_selection import train_test_split\n"
   ]
  },
  {
   "cell_type": "code",
   "execution_count": 28,
   "metadata": {},
   "outputs": [],
   "source": [
    "dataset = read_csv(\"test.csv.csv\")\n",
    "dataset = dataset.values"
   ]
  },
  {
   "cell_type": "code",
   "execution_count": 29,
   "metadata": {},
   "outputs": [],
   "source": [
    "X, y = dataset[:, 1:]/255, dataset[:, 0]\n",
    "X_train, X_test, y_train, y_test = train_test_split(X, y, test_size=0.2)\n",
    "y_train = np_utils.to_categorical(y_train)\n",
    "y_test  = np_utils.to_categorical(y_test)"
   ]
  },
  {
   "cell_type": "code",
   "execution_count": 30,
   "metadata": {},
   "outputs": [
    {
     "name": "stdout",
     "output_type": "stream",
     "text": [
      "(7999, 784) (7999, 10) (2000, 784) (2000, 10)\n"
     ]
    }
   ],
   "source": [
    "print(X_train.shape,y_train.shape,X_test.shape,y_test.shape)"
   ]
  },
  {
   "cell_type": "markdown",
   "metadata": {},
   "source": [
    "## NN using Keras Functional API"
   ]
  },
  {
   "cell_type": "code",
   "execution_count": 31,
   "metadata": {},
   "outputs": [
    {
     "name": "stdout",
     "output_type": "stream",
     "text": [
      "_________________________________________________________________\n",
      "Layer (type)                 Output Shape              Param #   \n",
      "=================================================================\n",
      "input_6 (InputLayer)         (None, 784)               0         \n",
      "_________________________________________________________________\n",
      "dense_22 (Dense)             (None, 256)               200960    \n",
      "_________________________________________________________________\n",
      "dense_23 (Dense)             (None, 64)                16448     \n",
      "_________________________________________________________________\n",
      "dense_24 (Dense)             (None, 10)                650       \n",
      "=================================================================\n",
      "Total params: 218,058\n",
      "Trainable params: 218,058\n",
      "Non-trainable params: 0\n",
      "_________________________________________________________________\n"
     ]
    }
   ],
   "source": [
    "inp=Input(shape=(784,))\n",
    "fc1=Dense(256,activation=\"sigmoid\")(inp)\n",
    "fc2=Dense(64,activation=\"sigmoid\")(fc1)\n",
    "out=Dense(10,activation=\"softmax\")(fc2)\n",
    "\n",
    "model=Model(inputs=inp,outputs=out)\n",
    "model.summary()"
   ]
  },
  {
   "cell_type": "code",
   "execution_count": 22,
   "metadata": {},
   "outputs": [],
   "source": [
    "model.compile(loss='categorical_crossentropy', optimizer='sgd', metrics=['accuracy'])"
   ]
  },
  {
   "cell_type": "code",
   "execution_count": 24,
   "metadata": {},
   "outputs": [
    {
     "name": "stdout",
     "output_type": "stream",
     "text": [
      "Train on 8000 samples, validate on 2000 samples\n",
      "Epoch 1/40\n",
      "8000/8000 [==============================] - 0s 47us/step - loss: 1.2884 - acc: 0.6350 - val_loss: 1.2709 - val_acc: 0.6445\n",
      "Epoch 2/40\n",
      "8000/8000 [==============================] - 0s 40us/step - loss: 1.2742 - acc: 0.6440 - val_loss: 1.2566 - val_acc: 0.6430\n",
      "Epoch 3/40\n",
      "8000/8000 [==============================] - 0s 45us/step - loss: 1.2603 - acc: 0.6416 - val_loss: 1.2429 - val_acc: 0.6380\n",
      "Epoch 4/40\n",
      "8000/8000 [==============================] - 0s 42us/step - loss: 1.2469 - acc: 0.6392 - val_loss: 1.2295 - val_acc: 0.6500\n",
      "Epoch 5/40\n",
      "8000/8000 [==============================] - 0s 43us/step - loss: 1.2338 - acc: 0.6509 - val_loss: 1.2170 - val_acc: 0.6445\n",
      "Epoch 6/40\n",
      "8000/8000 [==============================] - 0s 50us/step - loss: 1.2213 - acc: 0.6454 - val_loss: 1.2042 - val_acc: 0.6530\n",
      "Epoch 7/40\n",
      "8000/8000 [==============================] - 0s 35us/step - loss: 1.2090 - acc: 0.6489 - val_loss: 1.1920 - val_acc: 0.6560\n",
      "Epoch 8/40\n",
      "8000/8000 [==============================] - 0s 42us/step - loss: 1.1970 - acc: 0.6502 - val_loss: 1.1803 - val_acc: 0.6665\n",
      "Epoch 9/40\n",
      "8000/8000 [==============================] - 0s 44us/step - loss: 1.1855 - acc: 0.6557 - val_loss: 1.1689 - val_acc: 0.6675\n",
      "Epoch 10/40\n",
      "8000/8000 [==============================] - 0s 44us/step - loss: 1.1742 - acc: 0.6630 - val_loss: 1.1577 - val_acc: 0.6655\n",
      "Epoch 11/40\n",
      "8000/8000 [==============================] - 0s 46us/step - loss: 1.1634 - acc: 0.6598 - val_loss: 1.1469 - val_acc: 0.6670\n",
      "Epoch 12/40\n",
      "8000/8000 [==============================] - 0s 36us/step - loss: 1.1527 - acc: 0.6590 - val_loss: 1.1363 - val_acc: 0.6695\n",
      "Epoch 13/40\n",
      "8000/8000 [==============================] - 0s 38us/step - loss: 1.1424 - acc: 0.6640 - val_loss: 1.1263 - val_acc: 0.6650\n",
      "Epoch 14/40\n",
      "8000/8000 [==============================] - 0s 37us/step - loss: 1.1323 - acc: 0.6666 - val_loss: 1.1166 - val_acc: 0.6715\n",
      "Epoch 15/40\n",
      "8000/8000 [==============================] - 0s 35us/step - loss: 1.1224 - acc: 0.6684 - val_loss: 1.1066 - val_acc: 0.6735\n",
      "Epoch 16/40\n",
      "8000/8000 [==============================] - 0s 37us/step - loss: 1.1129 - acc: 0.6690 - val_loss: 1.0971 - val_acc: 0.6735\n",
      "Epoch 17/40\n",
      "8000/8000 [==============================] - 0s 36us/step - loss: 1.1035 - acc: 0.6679 - val_loss: 1.0878 - val_acc: 0.6755\n",
      "Epoch 18/40\n",
      "8000/8000 [==============================] - 0s 37us/step - loss: 1.0944 - acc: 0.6715 - val_loss: 1.0787 - val_acc: 0.6750\n",
      "Epoch 19/40\n",
      "8000/8000 [==============================] - 0s 40us/step - loss: 1.0855 - acc: 0.6726 - val_loss: 1.0700 - val_acc: 0.6805\n",
      "Epoch 20/40\n",
      "8000/8000 [==============================] - 0s 45us/step - loss: 1.0767 - acc: 0.6757 - val_loss: 1.0617 - val_acc: 0.6830\n",
      "Epoch 21/40\n",
      "8000/8000 [==============================] - 0s 49us/step - loss: 1.0683 - acc: 0.6780 - val_loss: 1.0530 - val_acc: 0.6845\n",
      "Epoch 22/40\n",
      "8000/8000 [==============================] - 0s 42us/step - loss: 1.0600 - acc: 0.6789 - val_loss: 1.0450 - val_acc: 0.6850\n",
      "Epoch 23/40\n",
      "8000/8000 [==============================] - 0s 42us/step - loss: 1.0519 - acc: 0.6820 - val_loss: 1.0367 - val_acc: 0.6880\n",
      "Epoch 24/40\n",
      "8000/8000 [==============================] - 0s 42us/step - loss: 1.0439 - acc: 0.6810 - val_loss: 1.0288 - val_acc: 0.6900\n",
      "Epoch 25/40\n",
      "8000/8000 [==============================] - 0s 44us/step - loss: 1.0360 - acc: 0.6836 - val_loss: 1.0213 - val_acc: 0.6890\n",
      "Epoch 26/40\n",
      "8000/8000 [==============================] - 0s 43us/step - loss: 1.0285 - acc: 0.6844 - val_loss: 1.0136 - val_acc: 0.6940\n",
      "Epoch 27/40\n",
      "8000/8000 [==============================] - 0s 41us/step - loss: 1.0210 - acc: 0.6886 - val_loss: 1.0063 - val_acc: 0.6915\n",
      "Epoch 28/40\n",
      "8000/8000 [==============================] - 0s 43us/step - loss: 1.0137 - acc: 0.6859 - val_loss: 0.9991 - val_acc: 0.6985\n",
      "Epoch 29/40\n",
      "8000/8000 [==============================] - 0s 43us/step - loss: 1.0065 - acc: 0.6900 - val_loss: 0.9918 - val_acc: 0.7010\n",
      "Epoch 30/40\n",
      "8000/8000 [==============================] - 0s 43us/step - loss: 0.9995 - acc: 0.6951 - val_loss: 0.9849 - val_acc: 0.6975\n",
      "Epoch 31/40\n",
      "8000/8000 [==============================] - 0s 43us/step - loss: 0.9926 - acc: 0.6904 - val_loss: 0.9782 - val_acc: 0.7025\n",
      "Epoch 32/40\n",
      "8000/8000 [==============================] - 0s 42us/step - loss: 0.9858 - acc: 0.6963 - val_loss: 0.9716 - val_acc: 0.7015\n",
      "Epoch 33/40\n",
      "8000/8000 [==============================] - 0s 46us/step - loss: 0.9791 - acc: 0.6924 - val_loss: 0.9649 - val_acc: 0.7045\n",
      "Epoch 34/40\n",
      "8000/8000 [==============================] - 0s 43us/step - loss: 0.9724 - acc: 0.6984 - val_loss: 0.9584 - val_acc: 0.7020\n",
      "Epoch 35/40\n",
      "8000/8000 [==============================] - 0s 43us/step - loss: 0.9660 - acc: 0.6967 - val_loss: 0.9520 - val_acc: 0.7075\n",
      "Epoch 36/40\n",
      "8000/8000 [==============================] - 0s 44us/step - loss: 0.9598 - acc: 0.6977 - val_loss: 0.9459 - val_acc: 0.7100\n",
      "Epoch 37/40\n",
      "8000/8000 [==============================] - 0s 48us/step - loss: 0.9537 - acc: 0.7025 - val_loss: 0.9399 - val_acc: 0.7025\n",
      "Epoch 38/40\n",
      "8000/8000 [==============================] - 0s 44us/step - loss: 0.9475 - acc: 0.6994 - val_loss: 0.9340 - val_acc: 0.7055\n",
      "Epoch 39/40\n",
      "8000/8000 [==============================] - 0s 45us/step - loss: 0.9416 - acc: 0.7015 - val_loss: 0.9276 - val_acc: 0.7100\n",
      "Epoch 40/40\n",
      "8000/8000 [==============================] - 0s 48us/step - loss: 0.9355 - acc: 0.7040 - val_loss: 0.9221 - val_acc: 0.7090\n"
     ]
    }
   ],
   "source": [
    "hist = model.fit(X_train, y_train,\n",
    "          shuffle=True,\n",
    "          epochs=40,\n",
    "          batch_size=128,\n",
    "          validation_data=(X_test, y_test)\n",
    "         )"
   ]
  },
  {
   "cell_type": "code",
   "execution_count": 25,
   "metadata": {},
   "outputs": [
    {
     "data": {
      "image/png": "[encoded data removed]",
      "text/plain": [
       "<Figure size 432x288 with 1 Axes>"
      ]
     },
     "metadata": {
      "needs_background": "light"
     },
     "output_type": "display_data"
    },
    {
     "data": {
      "image/png": "[encoded data removed]",
      "text/plain": [
       "<Figure size 432x288 with 1 Axes>"
      ]
     },
     "metadata": {
      "needs_background": "light"
     },
     "output_type": "display_data"
    }
   ],
   "source": [
    "plt.figure(0)\n",
    "plt.title(\"Loss\")\n",
    "plt.plot(hist.history['loss'], 'r', label='Training')\n",
    "plt.plot(hist.history['val_loss'], 'b', label='Testing')\n",
    "plt.legend()\n",
    "plt.show()\n",
    "\n",
    "plt.figure(1)\n",
    "plt.title(\"Accuracy\")\n",
    "plt.plot(hist.history['acc'], 'r', label='Training')\n",
    "plt.plot(hist.history['val_acc'], 'b', label='Testing')\n",
    "plt.legend()\n",
    "plt.show()"
   ]
  },
  {
   "cell_type": "code",
   "execution_count": null,
   "metadata": {},
   "outputs": [],
   "source": []
  }
 ],
 "metadata": {
  "kernelspec": {
   "display_name": "Python 3",
   "language": "python",
   "name": "python3"
  },
  "language_info": {
   "codemirror_mode": {
    "name": "ipython",
    "version": 3
   },
   "file_extension": ".py",
   "mimetype": "text/x-python",
   "name": "python",
   "nbconvert_exporter": "python",
   "pygments_lexer": "ipython3",
   "version": "3.6.8"
  }
 },
 "nbformat": 4,
 "nbformat_minor": 2
}
