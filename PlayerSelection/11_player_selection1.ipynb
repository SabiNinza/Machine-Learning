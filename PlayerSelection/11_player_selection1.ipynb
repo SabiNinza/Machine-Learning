{
 "cells": [
  {
   "cell_type": "code",
   "execution_count": 1,
   "metadata": {},
   "outputs": [],
   "source": [
    "import json\n",
    "import requests\n",
    "from statistics import mean "
   ]
  },
  {
   "cell_type": "markdown",
   "metadata": {},
   "source": [
    "## Data Cleaning and Preparation"
   ]
  },
  {
   "cell_type": "code",
   "execution_count": 2,
   "metadata": {},
   "outputs": [],
   "source": [
    "def return_url_params(var_url,player_id,start_date,year,oponent_team_id,venue_id,matchtype=None):\n",
    "    year_wise_url = var_url+\"api/year_wise_playermatchstats/\"\n",
    "    year_wise_params = {'player_id':player_id,'start_date':start_date,'year':year,'matchtype':matchtype,'lr':matchtype,'hr':matchtype}\n",
    "    opponent_wise_url = var_url + 'api/opponent_wise_playermatchstats/'\n",
    "    opponent_wise_params = {'player_id':player_id,'team_id':oponent_team_id,'start_date':start_date,'matchtype':matchtype,'lr':matchtype,'hr':matchtype}\n",
    "    venue_wise_url = var_url + \"api/venue_wise_playermatchstats/\"\n",
    "    venue_wise_params = {'player_id':player_id,'venue_id':venue_id,'start_date':start_date,'matchtype':matchtype,'lr':matchtype,'hr':matchtype}\n",
    "    overall_url = var_url+'api/playermatchstats/'\n",
    "    overall_params = {'player_id':player_id,'start_date':start_date,'lr':matchtype,'hr':matchtype}\n",
    "    url_parms = {\n",
    "        'v_u':venue_wise_url,\n",
    "        'v_p':venue_wise_params,\n",
    "        'o_u':opponent_wise_url,\n",
    "        'o_p':opponent_wise_params,\n",
    "        'y_u':year_wise_url,\n",
    "        'y_p':year_wise_params,\n",
    "        'ov_u':overall_url,\n",
    "        'ov_p':overall_params\n",
    "    }\n",
    "    return url_parms"
   ]
  },
  {
   "cell_type": "code",
   "execution_count": 3,
   "metadata": {},
   "outputs": [],
   "source": [
    "local_var = 'http://localhost:8000/'\n",
    "global_var = 'https://win11.neolen.com/'"
   ]
  },
  {
   "cell_type": "code",
   "execution_count": 4,
   "metadata": {},
   "outputs": [],
   "source": [
    "def get_stats(url,params):\n",
    "    response = requests.request(\"GET\", url, params = params)\n",
    "    json_data = json.loads(response.text)\n",
    "    return json_data\n",
    "\n",
    "def return_int(d):\n",
    "    try:\n",
    "        d = int(d)\n",
    "        return d\n",
    "    except:\n",
    "        return 0"
   ]
  },
  {
   "cell_type": "code",
   "execution_count": 5,
   "metadata": {},
   "outputs": [],
   "source": [
    "def return_stats(json_data):     \n",
    "    match_count = 0\n",
    "    bowl_avg_list = []\n",
    "    order_list = []\n",
    "    bat_inning_count = 0\n",
    "    bowl_inning_count = 0\n",
    "    bat_avg_list = []\n",
    "    list_50 = []\n",
    "    list_100 = []\n",
    "    list_5w = []\n",
    "    list_3w = []\n",
    "    for m in json_data:\n",
    "        scorecard = m.get('scorecard',[])\n",
    "        match_count += 1\n",
    "        bowling_avg = 0 \n",
    "        batting_avg = 0\n",
    "        for s in scorecard:\n",
    "            bat = s.get('match_batting_inning')\n",
    "            bowl = s.get('match_bowling_inning')\n",
    "            \n",
    "            bat = bat[0] if len(bat) != 0 else None\n",
    "                \n",
    "            if bat:\n",
    "                \n",
    "                order = bat.get('order')\n",
    "                run = return_int(bat.get('runs'))\n",
    "                f_w = bat.get('fall_of_wicket_over')\n",
    "                how_out = bat.get('how_out')\n",
    "\n",
    "                #calculate batting average\n",
    "                if f_w != '' and how_out != '':\n",
    "                    bat_avg_list.append(float(run))\n",
    "                elif how_out != \"not out\" and how_out != 'retired hurt':\n",
    "                    bat_avg_list.append(float(run))\n",
    "                else:\n",
    "                    bat_avg_list.append(0.0)\n",
    "                #end\n",
    "\n",
    "                #calculate 50\n",
    "                list_50.append(1 if run >= 50 and run < 100 else 0)\n",
    "                #end\n",
    "\n",
    "                #calculate 100\n",
    "                list_100.append(1 if run>=100 else 0)\n",
    "                #end\n",
    "                \n",
    "                bat_inning_count+=1\n",
    "                order_list.append(order)\n",
    "\n",
    "            bowl = bowl[0] if len(bowl) != 0 else None\n",
    "\n",
    "            if bowl:\n",
    "                \n",
    "                run_conceded = return_int(bowl.get('run_conceded',0))\n",
    "                wickets = return_int(bowl.get('wickets',0))\n",
    "                \n",
    "                #calculate bowling average\n",
    "                if wickets != 0:\n",
    "                    bowling_avg = run_conceded/wickets\n",
    "                    bowl_avg_list.append(bowling_avg)\n",
    "                else:\n",
    "                    bowl_avg_list.append(0.0)\n",
    "                #end\n",
    "                \n",
    "                #5 and 3 w\n",
    "                list_3w.append(1 if wickets >= 3 and wickets < 5 else 0)\n",
    "                list_5w.append(1 if wickets >= 5 else 0)\n",
    "                #end\n",
    "                \n",
    "                bowl_inning_count+=1\n",
    "\n",
    "#     print(match_count,bat_avg_list,bowl_avg_list,list_100,list_50,list_3w,list_5w,order_list,sep = '\\n')\n",
    "    bat_data = {\n",
    "        'total_match':match_count,\n",
    "        'innings':bat_inning_count,\n",
    "        'avg':mean(bat_avg_list) if len(bat_avg_list) != 0 else 0,\n",
    "        '50': sum(list_50),\n",
    "        'order':mean(order_list) if len(order_list) != 0 else 0,\n",
    "        '100':sum(list_100),\n",
    "    }\n",
    "    bowl_data = {\n",
    "        'total_match':match_count,\n",
    "        'innings': bowl_inning_count,\n",
    "        'avg': mean(bowl_avg_list) if len(bowl_avg_list) != 0 else 0,\n",
    "        '5w': sum(list_5w),\n",
    "        '3w': sum(list_3w),\n",
    "    }\n",
    "    return bat_data , bowl_data"
   ]
  },
  {
   "cell_type": "code",
   "execution_count": 6,
   "metadata": {},
   "outputs": [],
   "source": [
    "def batting_score(data,MAX_BATTING_AVG=250,MAX_50_100=30.0): #20*49+5*96\n",
    "    B = data['avg']/MAX_BATTING_AVG\n",
    "    C = (20*data['100'] + 5*data['50'])/data['innings'] if data['innings'] != 0 else 0\n",
    "    D = C/MAX_50_100\n",
    "    E = 0.4*D + 0.6*B\n",
    "    return E\n",
    "def bowling_score(data,MAX_BOWL_AVG=150,MAX_5_3=10.0):\n",
    "    H = data['avg']/MAX_BOWL_AVG\n",
    "    F = (20*data['5w'] + 5*data['3w'])/data['innings'] if data['innings'] != 0 else 0\n",
    "    G = F/MAX_5_3\n",
    "    I = 0.4*G + 0.6*H\n",
    "    return I"
   ]
  },
  {
   "cell_type": "code",
   "execution_count": 7,
   "metadata": {},
   "outputs": [],
   "source": [
    "def total_batting_score(data,player_stats):\n",
    "    overall = player_stats['overall'][0]\n",
    "    A = overall['innings']/overall['total_match'] if overall['total_match'] != 0 else 0\n",
    "    E = data['overall']\n",
    "    R = data['venue']\n",
    "    P = data['year']\n",
    "    Q = data['oponent']\n",
    "    L = data['last_5']\n",
    "    ans = A*((0.25*E) + (0.15*P) + (0.1*(Q+R))+(0.5*L))\n",
    "    return ans\n",
    "def total_bowling_score(data,player_stats):\n",
    "    overall = player_stats['overall'][1]\n",
    "    V = overall['innings']/overall['total_match'] if overall['total_match'] != 0 else 0\n",
    "    I = data['overall']\n",
    "    S = data['year']\n",
    "    T = data['oponent']\n",
    "    U = data['venue']\n",
    "    L1 = data['last_5']\n",
    "    ans = V*((0.25*I) +(0.15*S) + (0.1 *\n",
    "    (T+U) )+(0.5*L1))\n",
    "    return ans"
   ]
  },
  {
   "cell_type": "code",
   "execution_count": 8,
   "metadata": {},
   "outputs": [],
   "source": [
    "def returnplayerusing_score(bat_score,bowl_score,allrounder_score):\n",
    "    \n",
    "    all_len = len(allrounder_score)\n",
    "    bat_player_len = 0\n",
    "    bowl_player_len = 0\n",
    "    playing_11 = []\n",
    "    if all_len == 3:\n",
    "        bat_player_len = 4\n",
    "        bowl_player_len = 4\n",
    "    elif all_len < 3:\n",
    "        bat_player_len = 5\n",
    "        bowl_player_len = 11 - all_len - 5\n",
    "    else:\n",
    "        all_len = 3\n",
    "        bat_player_len = 4\n",
    "        bowl_player_len = 4\n",
    "    for x in allrounder_score:\n",
    "        playing_11.append(x[1])\n",
    "        all_len -= 1\n",
    "        if all_len == 0:\n",
    "            break\n",
    "    for y in bat_score:\n",
    "        playing_11.append(y[1])\n",
    "        bat_player_len-=1\n",
    "        if bat_player_len == 0:\n",
    "            break\n",
    "    for y in bowl_score:\n",
    "        playing_11.append(y[1])\n",
    "        bowl_player_len-=1\n",
    "        if bowl_player_len == 0:\n",
    "            break\n",
    "    \n",
    "    return playing_11"
   ]
  },
  {
   "cell_type": "code",
   "execution_count": 9,
   "metadata": {},
   "outputs": [],
   "source": [
    "def accuracy(player1 , player2):\n",
    "    ans  = 0\n",
    "    for p in player1:\n",
    "        if p in player2:\n",
    "            ans+=1\n",
    "    return (ans/11)*100"
   ]
  },
  {
   "cell_type": "code",
   "execution_count": 10,
   "metadata": {},
   "outputs": [],
   "source": [
    "def get_series_player(url,params):\n",
    "    series_data = get_stats(local_var + url,params)\n",
    "    series_data = series_data['results']\n",
    "    team1_players = set()\n",
    "    team2_players = set()\n",
    "    for m in series_data:\n",
    "        url_match_player = 'api/permatchplayer/'\n",
    "        players_team1_match = get_stats(local_var+url_match_player,{'match_id':m['id'],'team_id':m['team1']})['results'][0]['players']\n",
    "        players_team2_match = get_stats(local_var+url_match_player,{'match_id':m['id'],'team_id':m['team2']})['results'][0]['players']\n",
    "        for p in players_team1_match:\n",
    "            team1_players.add(p)\n",
    "        for p in players_team2_match:\n",
    "            team2_players.add(p)\n",
    "    return team1_players,team2_players,series_data"
   ]
  },
  {
   "cell_type": "code",
   "execution_count": 11,
   "metadata": {},
   "outputs": [],
   "source": [
    "team1players , team2players , matches_19 = get_series_player('api/perseriesmatch/',{'series_id':31,'lr':50.0,'hr':50.0})"
   ]
  },
  {
   "cell_type": "code",
   "execution_count": 12,
   "metadata": {},
   "outputs": [
    {
     "data": {
      "text/plain": [
       "{34, 35, 36, 37, 38, 40, 41, 42, 757, 764, 770, 771, 774, 1987}"
      ]
     },
     "execution_count": 12,
     "metadata": {},
     "output_type": "execute_result"
    }
   ],
   "source": [
    "team1players"
   ]
  },
  {
   "cell_type": "code",
   "execution_count": 13,
   "metadata": {},
   "outputs": [],
   "source": [
    "# url_match = 'api/peryearmatch/'\n",
    "# matches_19 = get_stats(local_var+url_match,{'year':2019})['results']"
   ]
  },
  {
   "cell_type": "code",
   "execution_count": null,
   "metadata": {},
   "outputs": [
    {
     "name": "stdout",
     "output_type": "stream",
     "text": [
      "\n",
      "\n",
      "\n",
      "\n",
      "1st ODI (D/N), India tour of New Zealand at Hamilton, Feb 5 2020 4\n",
      "\n",
      "batting score of player - > {(0.0011925, 770), (0.012789818181818182, 757), (0.11012292957746478, 34), (0.043996713178294566, 40), (0.04956953667953668, 764), (0.010207142857142856, 1987), (0.13747924528301889, 38), (0.14258155753968252, 771), (0.03792051282051282, 41), (0.11907333333333332, 774), (0.17827916129032256, 37), (0.16412922204501154, 36), (0.06913333333333334, 35), (0.013622222222222221, 42)}\n",
      "bowling score of player - > {(0.08934642857142858, 1987), (0.0412121052631579, 36), (0.002675892857142857, 771), (0.01605, 774), (0.0, 34), (0.1464825, 757), (0.10471716216216216, 764), (0.13677604166666668, 770), (0.0, 38), (0.04822936046511628, 40), (0.0021, 35), (0.138013603988604, 41), (0.0014758064516129032, 37), (0.18611238562091503, 42)}\n",
      "allrounder score of player - > {(0.10471716216216216, 764), (0.06913333333333334, 35), (0.11012292957746478, 34)}\n",
      "\n",
      "[764, 35, 34, 770, 757, 34, 40, 1987, 36, 771, 774]\n",
      "72.72727272727273\n",
      "\n",
      "\n",
      "\n",
      "\n"
     ]
    }
   ],
   "source": [
    "for m in matches_19:\n",
    "    \n",
    "    url_match_player = 'api/permatchplayer/'\n",
    "    players_team1_match = get_stats(local_var+url_match_player,{'match_id':m['id'],'team_id':m['team1']})['results'][0]['players']\n",
    "    players_team2_match = get_stats(local_var+url_match_player,{'match_id':m['id'],'team_id':m['team2']})['results'][0]['players']\n",
    "#     print(players_team1_match,players_team2_match,sep='\\n')\n",
    "    bat_score_player_id = {}\n",
    "    bow_score_player_id = {}\n",
    "    bat_score = set()\n",
    "    bowl_score = set()\n",
    "    all_rounder_score_player = set()\n",
    "    \n",
    "    for p in team1players:\n",
    "        \n",
    "        batting_score_id = {}\n",
    "        bowling_score_id = {}\n",
    "        player_all_stats = return_url_params(local_var,p,m['start_date'],2019,m['team2'],m['venue'],matchtype=50.0)\n",
    "        \n",
    "        #overallstats and last 5 match stats\n",
    "        overall_stats = return_stats(get_stats(player_all_stats['ov_u'],player_all_stats['ov_p']).get('result',{}))\n",
    "        if len(overall_stats) < 5:\n",
    "            h = len(overall_stats)\n",
    "        elif len(overall_stats) == 0:\n",
    "            h = 0\n",
    "        else:\n",
    "            h = 5\n",
    "        if h != 0:\n",
    "            last_5_stats = overall_stats[:h]\n",
    "        #end\n",
    "        \n",
    "        player_stats = {\n",
    "            'year': return_stats(get_stats(player_all_stats['y_u'],player_all_stats['y_p'])['result']),\n",
    "            'oponent': return_stats(get_stats(player_all_stats['o_u'],player_all_stats['o_p'])['result']),\n",
    "            'venue': return_stats(get_stats(player_all_stats['v_u'],player_all_stats['v_p'])['result']),\n",
    "            'overall': overall_stats,\n",
    "            'last_5': last_5_stats\n",
    "        }\n",
    "        batting_score_id = {\n",
    "            'overall' :batting_score(player_stats['overall'][0]),\n",
    "             'venue'  :batting_score(player_stats['venue'][0]),\n",
    "            'oponent':batting_score(player_stats['oponent'][0]),\n",
    "             'year'   :batting_score(player_stats['year'][0]),\n",
    "            'last_5': batting_score(player_stats['last_5'][0])\n",
    "        }\n",
    "        bowling_score_id = {\n",
    "            'overall' :bowling_score(player_stats['overall'][1]),\n",
    "             'venue'  :bowling_score(player_stats['venue'][1]),\n",
    "            'oponent':bowling_score(player_stats['oponent'][1]),\n",
    "             'year'   :bowling_score(player_stats['year'][1]),\n",
    "            'last_5': bowling_score(player_stats['last_5'][1])\n",
    "        }\n",
    "        bat_score_player_id[p] = total_batting_score(batting_score_id,player_stats)\n",
    "        bat_score.add((total_batting_score(batting_score_id,player_stats),p))\n",
    "        bow_score_player_id[p] = total_bowling_score(bowling_score_id,player_stats)\n",
    "        bowl_score.add((total_bowling_score(bowling_score_id,player_stats),p))\n",
    "#         break\n",
    "\n",
    "    #calculate the all rounder using threeshold\n",
    "    for p in players_team1_match:\n",
    "        if bat_score_player_id[p] <= 0.12 and bat_score_player_id[p] >= 0.05:\n",
    "            all_rounder_score_player.add((bat_score_player_id[p],p))\n",
    "            bat_score_player_id.pop(p)\n",
    "        if bow_score_player_id[p] <= 0.12 and bow_score_player_id[p] >= 0.05:\n",
    "            all_rounder_score_player.add((bow_score_player_id[p],p))\n",
    "            bow_score_player_id.pop(p)\n",
    "    #end\n",
    "    playing_11 = returnplayerusing_score(bat_score,bowl_score,all_rounder_score_player)\n",
    "    print('\\n\\n\\n')\n",
    "    print(m['description'],m['team1'])\n",
    "    print()\n",
    "    print('batting score of player - >' , bat_score)\n",
    "    print('bowling score of player - >' , bowl_score)\n",
    "    print('allrounder score of player - >' , all_rounder_score_player)\n",
    "    print()\n",
    "    print(playing_11)\n",
    "    print(accuracy(playing_11,players_team1_match))\n",
    "    print('\\n\\n\\n')\n",
    "#     break"
   ]
  },
  {
   "cell_type": "markdown",
   "metadata": {},
   "source": [
    "## github push"
   ]
  },
  {
   "cell_type": "code",
   "execution_count": null,
   "metadata": {},
   "outputs": [],
   "source": [
    "!git add ."
   ]
  },
  {
   "cell_type": "code",
   "execution_count": null,
   "metadata": {},
   "outputs": [],
   "source": [
    "!git commit -m \"add allrounder concept\""
   ]
  },
  {
   "cell_type": "code",
   "execution_count": null,
   "metadata": {},
   "outputs": [],
   "source": [
    "!git push origin master"
   ]
  },
  {
   "cell_type": "code",
   "execution_count": null,
   "metadata": {},
   "outputs": [],
   "source": []
  },
  {
   "cell_type": "code",
   "execution_count": null,
   "metadata": {},
   "outputs": [],
   "source": []
  },
  {
   "cell_type": "code",
   "execution_count": null,
   "metadata": {},
   "outputs": [],
   "source": []
  }
 ],
 "metadata": {
  "kernelspec": {
   "display_name": "Python 3",
   "language": "python",
   "name": "python3"
  },
  "language_info": {
   "codemirror_mode": {
    "name": "ipython",
    "version": 3
   },
   "file_extension": ".py",
   "mimetype": "text/x-python",
   "name": "python",
   "nbconvert_exporter": "python",
   "pygments_lexer": "ipython3",
   "version": "3.8.2"
  }
 },
 "nbformat": 4,
 "nbformat_minor": 4
}
