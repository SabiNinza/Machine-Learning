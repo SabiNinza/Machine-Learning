{
 "cells": [
  {
   "cell_type": "code",
   "execution_count": 64,
   "metadata": {},
   "outputs": [],
   "source": [
    "import json\n",
    "from statistics import mean "
   ]
  },
  {
   "cell_type": "code",
   "execution_count": 83,
   "metadata": {},
   "outputs": [],
   "source": [
    "import requests\n",
    "url = \"http://localhost:8000/api/year_wise_playermatchstats/\"\n",
    "params = {'player_id':958,'start_date':'2020-01-07','year':2019}\n",
    "response = requests.request(\"GET\", url, headers=headers, params = params)"
   ]
  },
  {
   "cell_type": "code",
   "execution_count": 84,
   "metadata": {},
   "outputs": [],
   "source": [
    "json_data = json.loads(response.text)\n",
    "json_data = json_data.get('result')"
   ]
  },
  {
   "cell_type": "code",
   "execution_count": 90,
   "metadata": {},
   "outputs": [],
   "source": [
    "# json_data"
   ]
  },
  {
   "cell_type": "code",
   "execution_count": 31,
   "metadata": {},
   "outputs": [],
   "source": [
    "def return_int(d):\n",
    "    try:\n",
    "        d = int(d)\n",
    "        return d\n",
    "    except:\n",
    "        return 0"
   ]
  },
  {
   "cell_type": "code",
   "execution_count": 88,
   "metadata": {},
   "outputs": [],
   "source": [
    "def return_stats(json_data):     \n",
    "    match_count = 0\n",
    "    bowl_avg_list = []\n",
    "    bat_inning_count = 0\n",
    "    bowl_inning_count = 0\n",
    "    bat_avg_list = []\n",
    "    list_50 = []\n",
    "    list_100 = []\n",
    "    list_5w = []\n",
    "    list_3w = []\n",
    "    for m in json_data:\n",
    "        scorecard = m.get('scorecard',[])\n",
    "        match_count += 1\n",
    "        bowling_avg = 0 \n",
    "        batting_avg = 0\n",
    "        for s in scorecard:\n",
    "            bat = s.get('match_batting_inning')\n",
    "            bowl = s.get('match_bowling_inning')\n",
    "            \n",
    "            bat = bat[0] if len(bat) != 0 else None\n",
    "                \n",
    "            if bat:\n",
    "                \n",
    "                order = bat.get('order')\n",
    "                run = return_int(bat.get('runs'))\n",
    "                f_w = bat.get('fall_of_wicket_over')\n",
    "                how_out = bat.get('how_out')\n",
    "\n",
    "                #calculate batting average\n",
    "                if f_w != '' and how_out != '':\n",
    "                    bat_avg_list.append(float(run))\n",
    "                elif how_out != \"not out\" and how_out != 'retired hurt':\n",
    "                    bat_avg_list.append(float(run))\n",
    "                else:\n",
    "                    bat_avg_list.append(0.0)\n",
    "                #end\n",
    "\n",
    "                #calculate 50\n",
    "                list_50.append(1 if run >= 50 and run < 100 else 0)\n",
    "                #end\n",
    "\n",
    "                #calculate 100\n",
    "                list_100.append(1 if run>=100 else 0)\n",
    "                #end\n",
    "                \n",
    "                bat_inning_count+=1\n",
    "\n",
    "            bowl = bowl[0] if len(bowl) != 0 else None\n",
    "\n",
    "            if bowl:\n",
    "                \n",
    "                run_conceded = return_int(bowl.get('run_conceded',0))\n",
    "                wickets = return_int(bowl.get('wickets',0))\n",
    "                \n",
    "                #calculate bowling average\n",
    "                if wickets != 0:\n",
    "                    bowling_avg = run_conceded/wickets\n",
    "                    bowl_avg_list.append(bowling_avg)\n",
    "                else:\n",
    "                    bowl_avg_list.append(0.0)\n",
    "                #end\n",
    "                \n",
    "                #5 and 3 w\n",
    "                list_3w.append(1 if wickets >= 3 and wickets < 5 else 0)\n",
    "                list_5w.append(1 if wickets >= 5 else 0)\n",
    "                #end\n",
    "                \n",
    "                bowl_inning_count+=1\n",
    "\n",
    "    print(match_count,bat_avg_list,bowl_avg_list,list_100,list_50,list_3w,list_5w,sep = '\\n')\n",
    "    bat_data = {\n",
    "        'total_match':match_count,\n",
    "        'inning':bat_inning_count,\n",
    "        'bat_avg':mean(bat_avg_list) if len(bat_avg_list) != 0 else 0,\n",
    "        '50': sum(list_50),\n",
    "        '100':sum(list_100),\n",
    "    }\n",
    "    bowl_data = {\n",
    "        'total_match':match_count,\n",
    "        'inning': bowl_inning_count,\n",
    "        'bowl_avg': mean(bowl_avg_list) if len(bowl_avg_list) != 0 else 0,\n",
    "        '5w': sum(list_5w),\n",
    "        '3w': sum(list_3w),\n",
    "    }\n",
    "    return bat_data , bowl_data"
   ]
  },
  {
   "cell_type": "code",
   "execution_count": 89,
   "metadata": {},
   "outputs": [
    {
     "name": "stdout",
     "output_type": "stream",
     "text": [
      "57\n",
      "[85.0, 0.0, 4.0, 0.0, 19.0, 0.0, 136.0, 0.0, 12.0, 20.0, 0.0, 9.0, 0.0, 9.0, 51.0, 0.0, 120.0, 59.0, 28.0, 19.0, 1.0, 0.0, 26.0, 66.0, 72.0, 67.0, 77.0, 82.0, 18.0, 47.0, 18.0, 16.0, 25.0, 23.0, 13.0, 9.0, 100.0, 8.0, 67.0, 41.0, 84.0, 23.0, 3.0, 46.0, 6.0, 20.0, 7.0, 123.0, 116.0, 44.0, 0.0, 24.0, 60.0, 43.0, 45.0, 46.0, 104.0, 3.0, 23.0]\n",
      "[]\n",
      "[0, 0, 0, 0, 0, 0, 1, 0, 0, 0, 0, 0, 0, 0, 0, 1, 1, 0, 0, 0, 0, 0, 0, 0, 0, 0, 0, 0, 0, 0, 0, 0, 0, 0, 0, 0, 1, 0, 0, 0, 0, 0, 0, 0, 0, 0, 0, 1, 1, 0, 0, 0, 0, 0, 0, 0, 1, 0, 0]\n",
      "[1, 0, 0, 1, 0, 1, 0, 0, 0, 0, 0, 0, 1, 0, 1, 0, 0, 1, 0, 0, 0, 0, 0, 1, 1, 1, 1, 1, 0, 0, 0, 0, 0, 0, 0, 0, 0, 0, 1, 0, 1, 0, 0, 0, 0, 0, 0, 0, 0, 0, 1, 0, 1, 0, 0, 0, 0, 0, 0]\n",
      "[]\n",
      "[]\n"
     ]
    },
    {
     "data": {
      "text/plain": [
       "({'total_match': 57,\n",
       "  'inning': 59,\n",
       "  'bat_avg': 36.728813559322035,\n",
       "  '50': 15,\n",
       "  '100': 7},\n",
       " {'total_match': 57, 'inning': 0, 'bowl_avg': 0, '5w': 0, '3w': 0})"
      ]
     },
     "execution_count": 89,
     "metadata": {},
     "output_type": "execute_result"
    }
   ],
   "source": [
    "return_stats(json_data)"
   ]
  },
  {
   "cell_type": "code",
   "execution_count": null,
   "metadata": {},
   "outputs": [],
   "source": []
  }
 ],
 "metadata": {
  "kernelspec": {
   "display_name": "Python 3",
   "language": "python",
   "name": "python3"
  },
  "language_info": {
   "codemirror_mode": {
    "name": "ipython",
    "version": 3
   },
   "file_extension": ".py",
   "mimetype": "text/x-python",
   "name": "python",
   "nbconvert_exporter": "python",
   "pygments_lexer": "ipython3",
   "version": "3.8.2"
  }
 },
 "nbformat": 4,
 "nbformat_minor": 4
}
