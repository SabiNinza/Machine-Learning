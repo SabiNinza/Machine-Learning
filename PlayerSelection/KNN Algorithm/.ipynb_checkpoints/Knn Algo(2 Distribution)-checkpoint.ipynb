{
 "cells": [
  {
   "cell_type": "code",
   "execution_count": 4,
   "metadata": {},
   "outputs": [],
   "source": [
    "import numpy as np\n",
    "import matplotlib.pyplot as plt"
   ]
  },
  {
   "cell_type": "code",
   "execution_count": 2,
   "metadata": {},
   "outputs": [
    {
     "name": "stdout",
     "output_type": "stream",
     "text": [
      "(500, 2)\n",
      "(500, 2)\n"
     ]
    }
   ],
   "source": [
    "#first Normal distribution\n",
    "mean_01=[2,4]\n",
    "cov_01=[[5,0.6],[0.6,6]]\n",
    "dist_01=np.random.multivariate_normal(mean_01,cov_01,500)\n",
    "#second normal distribution\n",
    "mean_02=[10,8]\n",
    "cov_02=[[8,-0.4],[-0.4,5]]\n",
    "dist_02=np.random.multivariate_normal(mean_02,cov_02,500)\n",
    "\n",
    "print(dist_01.shape)\n",
    "print(dist_02.shape)"
   ]
  },
  {
   "cell_type": "code",
   "execution_count": 5,
   "metadata": {},
   "outputs": [
    {
     "data": {
      "image/png": "[encoded data removed]",
      "text/plain": [
       "<Figure size 432x288 with 1 Axes>"
      ]
     },
     "metadata": {
      "needs_background": "light"
     },
     "output_type": "display_data"
    }
   ],
   "source": [
    "#lets plot these two distribution point on graph\n",
    "plt.figure()\n",
    "plt.scatter(dist_01[:,0],dist_01[:,1],color=\"indigo\")\n",
    "plt.scatter(dist_02[:,0],dist_02[:,1],color=\"green\")\n",
    "#plot a point for which we want to know from which distribution it belong\n",
    "plt.scatter(4,8,color=\"red\",marker=\"*\",s=500)\n",
    "plt.show()"
   ]
  },
  {
   "cell_type": "code",
   "execution_count": 6,
   "metadata": {},
   "outputs": [
    {
     "data": {
      "text/plain": [
       "(1000, 3)"
      ]
     },
     "execution_count": 6,
     "metadata": {},
     "output_type": "execute_result"
    }
   ],
   "source": [
    "row=dist_01.shape[0]+dist_02.shape[0]\n",
    "column=dist_01.shape[1]+1\n",
    "\n",
    "dataset=np.zeros((row,column))  #it create array filled with 0\n",
    "dataset.shape"
   ]
  },
  {
   "cell_type": "code",
   "execution_count": 12,
   "metadata": {},
   "outputs": [],
   "source": [
    "\n",
    "#Now we need to copy the datapoint of dist_01 or dist_02 to dataset\n",
    "dataset[:dist_01.shape[0],:-1]=dist_01\n",
    "dataset[dist_02.shape[0]:,:-1]=dist_02\n",
    "\n",
    "#Now Assign a label for 2 distribution \n",
    "dataset[:dist_01.shape[0],-1]=0\n",
    "dataset[dist_02.shape[0]:,-1]=1\n",
    "np.random.shuffle(dataset)\n",
    "split=int(0.8*dataset.shape[0]) #80 % dataset for traning\n",
    "x_train=dataset[:split,:-1]\n",
    "x_test=dataset[split:,:-1]\n",
    "\n",
    "y_train=dataset[:split,-1]\n",
    "y_test=dataset[split:,-1]"
   ]
  },
  {
   "cell_type": "code",
   "execution_count": 9,
   "metadata": {},
   "outputs": [],
   "source": [
    "point=np.array([2.5,5.0])\n"
   ]
  },
  {
   "cell_type": "code",
   "execution_count": 13,
   "metadata": {},
   "outputs": [
    {
     "data": {
      "text/plain": [
       "0.95"
      ]
     },
     "execution_count": 13,
     "metadata": {},
     "output_type": "execute_result"
    }
   ],
   "source": [
    "def euclidean_Dis(l1,l2):\n",
    "    return np.sqrt(np.sum((l1-l2)**2))\n",
    "def KNN_Algo(x_train,y_train,test_point,k=5):\n",
    "    distances=[]\n",
    "    \n",
    "    #compute the distace from testpoint\n",
    "    for datapoint,label in zip(x_train,y_train):\n",
    "        distance=euclidean_Dis(test_point,datapoint)\n",
    "        distances.append((distance,label))\n",
    "    \n",
    "    #sort\n",
    "    distances=sorted(distances,key=lambda x :x[0])\n",
    "    #choose first k nearest neighbour\n",
    "    k_near_neigh=np.array(distances[:k])\n",
    "    freq=np.unique(k_near_neigh[:,1],return_counts=True)\n",
    "    labels,counts=freq\n",
    "    #print(k_near_neigh[:,1])\n",
    "    #choose most freq label\n",
    "    ans=labels[counts.argmax()]\n",
    "    return ans\n",
    "def Get_Prediction(x_train,y_train,x_test,k=5):\n",
    "    pred_x_test=[]\n",
    "    \n",
    "    for t_point in x_test:\n",
    "        p=KNN_Algo(x_train,y_train,t_point,k)\n",
    "        pred_x_test.append(p)\n",
    "    return np.array(pred_x_test)\n",
    "def Cal_Accuracy(pred_x_test,y_test,k=5):\n",
    "    return (pred_x_test==y_test).sum()/y_test.shape[0]\n",
    "pred_x_test=Get_Prediction(x_train,y_train,x_test)\n",
    "#print(pred_x_test)\n",
    "Cal_Accuracy(pred_x_test,y_test)"
   ]
  },
  {
   "cell_type": "code",
   "execution_count": 17,
   "metadata": {},
   "outputs": [
    {
     "data": {
      "text/plain": [
       "0.95"
      ]
     },
     "execution_count": 17,
     "metadata": {},
     "output_type": "execute_result"
    }
   ],
   "source": [
    "from sklearn.neighbors import KNeighborsClassifier\n",
    "knn = KNeighborsClassifier(n_neighbors=5) \n",
    "knn.fit(x_train, y_train)\n",
    "knn.score(x_test, y_test)\n",
    "\n"
   ]
  },
  {
   "cell_type": "code",
   "execution_count": null,
   "metadata": {},
   "outputs": [],
   "source": []
  }
 ],
 "metadata": {
  "kernelspec": {
   "display_name": "Python 3",
   "language": "python",
   "name": "python3"
  },
  "language_info": {
   "codemirror_mode": {
    "name": "ipython",
    "version": 3
   },
   "file_extension": ".py",
   "mimetype": "text/x-python",
   "name": "python",
   "nbconvert_exporter": "python",
   "pygments_lexer": "ipython3",
   "version": "3.7.3"
  }
 },
 "nbformat": 4,
 "nbformat_minor": 2
}
