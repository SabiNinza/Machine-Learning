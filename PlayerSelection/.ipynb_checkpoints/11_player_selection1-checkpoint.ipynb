{
 "cells": [
  {
   "cell_type": "code",
   "execution_count": 1,
   "metadata": {},
   "outputs": [],
   "source": [
    "import json\n",
    "import requests\n",
    "from statistics import mean "
   ]
  },
  {
   "cell_type": "markdown",
   "metadata": {},
   "source": [
    "## Data Cleaning and Preparation"
   ]
  },
  {
   "cell_type": "code",
   "execution_count": 2,
   "metadata": {},
   "outputs": [],
   "source": [
    "def return_url_params(var_url,player_id,start_date,year,oponent_team_id,venue_id,matchtype=None):\n",
    "    year_wise_url = var_url+\"api/year_wise_playermatchstats/\"\n",
    "    year_wise_params = {'player_id':player_id,'start_date':start_date,'year':year,'matchtype':matchtype}\n",
    "    opponent_wise_url = var_url + 'api/opponent_wise_playermatchstats/'\n",
    "    opponent_wise_params = {'player_id':player_id,'team_id':oponent_team_id,'start_date':start_date,'matchtype':matchtype}\n",
    "    venue_wise_url = var_url + \"api/venue_wise_playermatchstats/\"\n",
    "    venue_wise_params = {'player_id':player_id,'venue_id':venue_id,'start_date':start_date,'matchtype':matchtype}\n",
    "    overall_url = var_url+'api/playermatchstats/'\n",
    "    overall_params = {'player_id':player_id,'start_date':start_date}\n",
    "    url_parms = {\n",
    "        'v_u':venue_wise_url,\n",
    "        'v_p':venue_wise_params,\n",
    "        'o_u':opponent_wise_url,\n",
    "        'o_p':opponent_wise_params,\n",
    "        'y_u':year_wise_url,\n",
    "        'y_p':year_wise_params,\n",
    "        'ov_u':overall_url,\n",
    "        'ov_p':overall_params\n",
    "    }\n",
    "    return url_parms"
   ]
  },
  {
   "cell_type": "code",
   "execution_count": 3,
   "metadata": {},
   "outputs": [],
   "source": [
    "local_var = 'http://localhost:8000/'\n",
    "global_var = 'https://win11.neolen.com/'"
   ]
  },
  {
   "cell_type": "code",
   "execution_count": 4,
   "metadata": {},
   "outputs": [],
   "source": [
    "def get_stats(url,params):\n",
    "    response = requests.request(\"GET\", url, params = params)\n",
    "    json_data = json.loads(response.text)\n",
    "    return json_data\n",
    "\n",
    "def return_int(d):\n",
    "    try:\n",
    "        d = int(d)\n",
    "        return d\n",
    "    except:\n",
    "        return 0"
   ]
  },
  {
   "cell_type": "code",
   "execution_count": 5,
   "metadata": {},
   "outputs": [],
   "source": [
    "def return_stats(json_data):     \n",
    "    match_count = 0\n",
    "    bowl_avg_list = []\n",
    "    order_list = []\n",
    "    bat_inning_count = 0\n",
    "    bowl_inning_count = 0\n",
    "    bat_avg_list = []\n",
    "    list_50 = []\n",
    "    list_100 = []\n",
    "    list_5w = []\n",
    "    list_3w = []\n",
    "    for m in json_data:\n",
    "        scorecard = m.get('scorecard',[])\n",
    "        match_count += 1\n",
    "        bowling_avg = 0 \n",
    "        batting_avg = 0\n",
    "        for s in scorecard:\n",
    "            bat = s.get('match_batting_inning')\n",
    "            bowl = s.get('match_bowling_inning')\n",
    "            \n",
    "            bat = bat[0] if len(bat) != 0 else None\n",
    "                \n",
    "            if bat:\n",
    "                \n",
    "                order = bat.get('order')\n",
    "                run = return_int(bat.get('runs'))\n",
    "                f_w = bat.get('fall_of_wicket_over')\n",
    "                how_out = bat.get('how_out')\n",
    "\n",
    "                #calculate batting average\n",
    "                if f_w != '' and how_out != '':\n",
    "                    bat_avg_list.append(float(run))\n",
    "                elif how_out != \"not out\" and how_out != 'retired hurt':\n",
    "                    bat_avg_list.append(float(run))\n",
    "                else:\n",
    "                    bat_avg_list.append(0.0)\n",
    "                #end\n",
    "\n",
    "                #calculate 50\n",
    "                list_50.append(1 if run >= 50 and run < 100 else 0)\n",
    "                #end\n",
    "\n",
    "                #calculate 100\n",
    "                list_100.append(1 if run>=100 else 0)\n",
    "                #end\n",
    "                \n",
    "                bat_inning_count+=1\n",
    "                order_list.append(order)\n",
    "\n",
    "            bowl = bowl[0] if len(bowl) != 0 else None\n",
    "\n",
    "            if bowl:\n",
    "                \n",
    "                run_conceded = return_int(bowl.get('run_conceded',0))\n",
    "                wickets = return_int(bowl.get('wickets',0))\n",
    "                \n",
    "                #calculate bowling average\n",
    "                if wickets != 0:\n",
    "                    bowling_avg = run_conceded/wickets\n",
    "                    bowl_avg_list.append(bowling_avg)\n",
    "                else:\n",
    "                    bowl_avg_list.append(0.0)\n",
    "                #end\n",
    "                \n",
    "                #5 and 3 w\n",
    "                list_3w.append(1 if wickets >= 3 and wickets < 5 else 0)\n",
    "                list_5w.append(1 if wickets >= 5 else 0)\n",
    "                #end\n",
    "                \n",
    "                bowl_inning_count+=1\n",
    "\n",
    "#     print(match_count,bat_avg_list,bowl_avg_list,list_100,list_50,list_3w,list_5w,order_list,sep = '\\n')\n",
    "    bat_data = {\n",
    "        'total_match':match_count,\n",
    "        'innings':bat_inning_count,\n",
    "        'avg':mean(bat_avg_list) if len(bat_avg_list) != 0 else 0,\n",
    "        '50': sum(list_50),\n",
    "        'order':mean(order_list) if len(order_list) != 0 else 0,\n",
    "        '100':sum(list_100),\n",
    "    }\n",
    "    bowl_data = {\n",
    "        'total_match':match_count,\n",
    "        'innings': bowl_inning_count,\n",
    "        'avg': mean(bowl_avg_list) if len(bowl_avg_list) != 0 else 0,\n",
    "        '5w': sum(list_5w),\n",
    "        '3w': sum(list_3w),\n",
    "    }\n",
    "    return bat_data , bowl_data"
   ]
  },
  {
   "cell_type": "code",
   "execution_count": 6,
   "metadata": {},
   "outputs": [],
   "source": [
    "def batting_score(data,MAX_BATTING_AVG=250,MAX_50_100=30.0): #20*49+5*96\n",
    "    B = data['avg']/MAX_BATTING_AVG\n",
    "    C = (20*data['100'] + 5*data['50'])/data['innings']\n",
    "    D = C/MAX_50_100\n",
    "    E = 0.4*D + 0.6*B\n",
    "    return E\n",
    "def bowling_score(data,MAX_BOWL_AVG=150,MAX_5_3=10.0):\n",
    "    H = data['avg']/MAX_BOWL_AVG\n",
    "    F = (20*data['5w'] + 5*data['3w'])/data['innings'] if data['innings'] != 0 else 0\n",
    "    G = F/MAX_5_3\n",
    "    I = 0.4*G + 0.6*H\n",
    "    return I"
   ]
  },
  {
   "cell_type": "code",
   "execution_count": 7,
   "metadata": {},
   "outputs": [],
   "source": [
    "def total_batting_score(data,player_stats):\n",
    "    overall = player_stats['overall'][0]\n",
    "    A = overall['innings']/overall['total_match']\n",
    "    E = data['overall']\n",
    "    R = data['venue']\n",
    "    P = data['year']\n",
    "    Q = data['oponent']\n",
    "    L = data['last_5']\n",
    "    ans = A*((0.25*E) + (0.15*P) + (0.1*(Q+R))+(0.5*L))\n",
    "    return ans\n",
    "def total_bowling_score(data,player_stats):\n",
    "    overall = player_stats['overall'][1]\n",
    "    V = overall['innings']/overall['total_match']\n",
    "    I = data['overall']\n",
    "    S = data['year']\n",
    "    T = data['oponent']\n",
    "    U = data['venue']\n",
    "    L1 = data['last_5']\n",
    "    ans = V*((0.25*I) +(0.15*S) + (0.1 *\n",
    "    (T+U) )+(0.5*L1))\n",
    "    return ans"
   ]
  },
  {
   "cell_type": "code",
   "execution_count": 8,
   "metadata": {},
   "outputs": [],
   "source": [
    "url_match = 'api/peryearmatch/'\n",
    "matches_19 = get_stats(local_var+url_match,{'year':2019})"
   ]
  },
  {
   "cell_type": "code",
   "execution_count": 9,
   "metadata": {},
   "outputs": [
    {
     "name": "stdout",
     "output_type": "stream",
     "text": [
      "[478, 479, 480, 481, 482, 483, 484, 485, 486, 487, 488]\n",
      "[489, 490, 491, 492, 493, 494, 495, 496, 497, 498, 499]\n",
      "{478: 0.1541656341079853, 479: 0.10928468229166667, 480: 0.12600119540229884, 481: 0.10789521840539289, 482: 0.11361593856270974, 483: 0.0897073066347082, 484: 0.06851834972677595, 485: 0.04189020361247947, 486: 0.007457391304347826, 487: 0.0, 488: 0.006945588428665351}\n",
      "{478: 0.0, 479: 0.0, 480: 0.005597290640394088, 481: 0.0007692650334075724, 482: 0.03444896121883656, 483: 0.11357366576796285, 484: 0.034694689518132135, 485: 0.08112756049606776, 486: 0.248528115942029, 487: 0.06344, 488: 0.18504008547008552}\n",
      "{(0.07403244989077315, 482), (0.06579924302134646, 480), (0.1279927536231884, 486), (0.05433224171940023, 481), (0.07708281705399266, 478), (0.054642341145833336, 479), (0.05160651962245404, 484), (0.061508882054273614, 485), (0.03172, 487), (0.09599283694937544, 488), (0.10164048620133553, 483)}\n"
     ]
    }
   ],
   "source": [
    "for m in matches_19['results']:\n",
    "    url_match_player = 'api/permatchplayer/'\n",
    "    players_team1_match = get_stats(local_var+url_match_player,{'match_id':m['id'],'team_id':m['team1']})['results'][0]['players']\n",
    "    players_team2_match = get_stats(local_var+url_match_player,{'match_id':m['id'],'team_id':m['team2']})['results'][0]['players']\n",
    "    print(players_team1_match,players_team2_match,sep='\\n')\n",
    "    bat_score_player_id = {}\n",
    "    bow_score_player_id = {}\n",
    "    all_rounder_score_player = set()\n",
    "    for p in players_team1_match:\n",
    "        batting_score_id = {}\n",
    "        bowling_score_id = {}\n",
    "        player_all_stats = return_url_params(local_var,p,m['start_date'],2019,m['team2'],m['venue'])\n",
    "        player_stats = {\n",
    "            'year': return_stats(get_stats(player_all_stats['y_u'],player_all_stats['y_p'])['result']),\n",
    "            'oponent': return_stats(get_stats(player_all_stats['o_u'],player_all_stats['o_p'])['result']),\n",
    "            'venue': return_stats(get_stats(player_all_stats['v_u'],player_all_stats['v_p'])['result']),\n",
    "            'overall': return_stats(get_stats(player_all_stats['ov_u'],player_all_stats['ov_p'])['result']),\n",
    "            'last_5': return_stats(get_stats(player_all_stats['ov_u'],player_all_stats['ov_p'])['result'][:5])\n",
    "        }\n",
    "        batting_score_id = {\n",
    "            'overall' :batting_score(player_stats['overall'][0]),\n",
    "             'venue'  :batting_score(player_stats['venue'][0]),\n",
    "            'oponent':batting_score(player_stats['oponent'][0]),\n",
    "             'year'   :batting_score(player_stats['year'][0]),\n",
    "            'last_5': batting_score(player_stats['last_5'][0])\n",
    "        }\n",
    "        bowling_score_id = {\n",
    "            'overall' :bowling_score(player_stats['overall'][1]),\n",
    "             'venue'  :bowling_score(player_stats['venue'][1]),\n",
    "            'oponent':bowling_score(player_stats['oponent'][1]),\n",
    "             'year'   :bowling_score(player_stats['year'][1]),\n",
    "            'last_5': bowling_score(player_stats['last_5'][1])\n",
    "        }\n",
    "        bat_score_player_id[p] = total_batting_score(batting_score_id,player_stats)\n",
    "        bow_score_player_id[p] = total_bowling_score(bowling_score_id,player_stats)\n",
    "    print(bat_score_player_id,bow_score_player_id,sep='\\n')\n",
    "    #calculate the all rounder\n",
    "    for p in players_team1_match:\n",
    "        avg = (bat_score_player_id[p]+bow_score_player_id[p])/2\n",
    "        all_rounder_score_player.add((avg,p))\n",
    "    print(all_rounder_score_player)\n",
    "    break"
   ]
  },
  {
   "cell_type": "markdown",
   "metadata": {},
   "source": [
    "## Statistical Model Implementation"
   ]
  },
  {
   "cell_type": "code",
   "execution_count": null,
   "metadata": {},
   "outputs": [],
   "source": []
  },
  {
   "cell_type": "code",
   "execution_count": null,
   "metadata": {},
   "outputs": [],
   "source": []
  },
  {
   "cell_type": "code",
   "execution_count": null,
   "metadata": {},
   "outputs": [],
   "source": []
  },
  {
   "cell_type": "code",
   "execution_count": null,
   "metadata": {},
   "outputs": [],
   "source": []
  }
 ],
 "metadata": {
  "kernelspec": {
   "display_name": "Python 3",
   "language": "python",
   "name": "python3"
  },
  "language_info": {
   "codemirror_mode": {
    "name": "ipython",
    "version": 3
   },
   "file_extension": ".py",
   "mimetype": "text/x-python",
   "name": "python",
   "nbconvert_exporter": "python",
   "pygments_lexer": "ipython3",
   "version": "3.8.2"
  }
 },
 "nbformat": 4,
 "nbformat_minor": 4
}
