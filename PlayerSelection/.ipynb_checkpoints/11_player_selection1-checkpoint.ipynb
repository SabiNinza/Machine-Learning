{
 "cells": [
  {
   "cell_type": "code",
   "execution_count": 8,
   "metadata": {},
   "outputs": [],
   "source": [
    "import json"
   ]
  },
  {
   "cell_type": "code",
   "execution_count": 5,
   "metadata": {},
   "outputs": [],
   "source": [
    "import requests\n",
    "\n",
    "url = \"https://win11.neolen.com/api/year_wise_playermatchstats/\"\n",
    "params = {'player_id':569,'start_date':'2020-01-07','year':2019}\n",
    "response = requests.request(\"GET\", url, headers=headers, params = params)"
   ]
  },
  {
   "cell_type": "code",
   "execution_count": 12,
   "metadata": {},
   "outputs": [],
   "source": [
    "json_data = json.loads(response.text)\n",
    "json_data = json_data.get('result')"
   ]
  },
  {
   "cell_type": "code",
   "execution_count": 21,
   "metadata": {},
   "outputs": [
    {
     "name": "stdout",
     "output_type": "stream",
     "text": [
      "{'player': 569, 'runs': '44', 'order': 1, 'balls': '26', 'fall_of_wicket_over': '', 'strike_rate': '169.23', 'how_out': 'not out', 'sixes': '0', 'fours': '7'}\n",
      "{'player': 569, 'runs': '94', 'order': 4, 'balls': '69', 'fall_of_wicket_over': '', 'strike_rate': '136.23', 'how_out': 'not out', 'sixes': '4', 'fours': '8'}\n",
      "54 55\n"
     ]
    }
   ],
   "source": [
    "match_count = 0\n",
    "wicket_dismissed = 0\n",
    "for m in json_data:\n",
    "    scorecard = m.get('scorecard',[])\n",
    "    match_count += 1\n",
    "    for s in scorecard:\n",
    "        bat = s.get('match_batting_inning')\n",
    "        bowl = s.get('match_bowling_inning')\n",
    "        if len(bat) == 1:\n",
    "            bat = bat[0]\n",
    "            order = bat.get('order')\n",
    "            run = bat.get('runs')\n",
    "            f_w = bat.get('fall_of_wicket_over')\n",
    "            how_out = bat.get('how_out')\n",
    "            if f_w != '' and how_out != '':\n",
    "                wicket_dismissed+=1\n",
    "            elif how_out != \"not out\" and how_out != 'retired hurt':\n",
    "                wicket_dismissed+=1\n",
    "            else:\n",
    "                print(bat)\n",
    "        if len(bowl) == 1:\n",
    "            print(bowl)\n",
    "print(match_count,wicket_dismissed)"
   ]
  },
  {
   "cell_type": "code",
   "execution_count": null,
   "metadata": {},
   "outputs": [],
   "source": []
  }
 ],
 "metadata": {
  "kernelspec": {
   "display_name": "Python 3",
   "language": "python",
   "name": "python3"
  },
  "language_info": {
   "codemirror_mode": {
    "name": "ipython",
    "version": 3
   },
   "file_extension": ".py",
   "mimetype": "text/x-python",
   "name": "python",
   "nbconvert_exporter": "python",
   "pygments_lexer": "ipython3",
   "version": "3.8.2"
  }
 },
 "nbformat": 4,
 "nbformat_minor": 4
}
