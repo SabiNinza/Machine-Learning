{
 "cells": [
  {
   "cell_type": "markdown",
   "metadata": {},
   "source": [
    "## https://www.cricbuzz.com/cricket-series/2849/australia-tour-of-india-2020/matches"
   ]
  },
  {
   "cell_type": "code",
   "execution_count": 1,
   "metadata": {},
   "outputs": [],
   "source": [
    "aus_squad = {\n",
    "    \n",
    "'batsmen':\"Aaron Finch\",\n",
    "'batsmen':\"Steven Smith\",\n",
    "'batsmen':\"D Arcy Short\",\n",
    "'batsmen':\"David Warner\",\n",
    "'batting_allrounder':\"Marnus Labuschagne\",\n",
    "'batting_allrounder':\"Ashton Turner\",\n",
    "'bowling_allrounder':\"Ashton Agar\",\n",
    "'wk-batsmen':\"Alex Carey\",\n",
    "'wk-batsmen':\"Peter Handscomb\",\n",
    "'bolwer':\"Pat Cummins\",\n",
    "'bowler':\"Josh Hazlewood\",\n",
    "'bowler':\"Kane Richardson\",\n",
    "'bowler':\"Mitchell Starc\",\n",
    "'bowler':\"Adam Zampa\",\n",
    "}\n",
    "\n",
    "india_squad = {\n",
    "'batsmen':\"Virat Kohli\",\n",
    "'batsmen':\"Rohit Sharma\",\n",
    "'batsmen':\"Shikhar Dhawan\",\n",
    "'batsmen':\"Shreyas Iyer\",\n",
    "'batsmen':\"Manish Pandey\",\n",
    "'batting_allrounder':\"Kedar Jadhav\",\n",
    "'bowling_allrounder':\"Shivam Dube\",\n",
    "'bowling_allrounder':\"Ravindra Jadeja\",\n",
    "'wk-batsmen':\"Lokesh Rahul\",\n",
    "'wk-batsmen':\"Rishabh Pant\",\n",
    "'wk-batsmen':\"Srikar Bharat\",\n",
    "'bowler':\"Yuzvendra Chahal\",\n",
    "'bowler':\"Kuldeep Yadav\",\n",
    "'bowler':\"Navdeep Saini\",\n",
    "'bowler':\"Jasprit Bumrah\",\n",
    "'bowler':\"Shardul Thakur\",\n",
    "'bowler':\"Mohammed Shami\",\n",
    "}"
   ]
  },
  {
   "cell_type": "code",
   "execution_count": 2,
   "metadata": {},
   "outputs": [],
   "source": [
    "import json"
   ]
  },
  {
   "cell_type": "code",
   "execution_count": 11,
   "metadata": {},
   "outputs": [],
   "source": [
    "with open(\"./india_squad_player_squad_stats.json\", encoding='utf-8', errors='ignore') as json_data:\n",
    "     data = json.load(json_data, strict=False)"
   ]
  },
  {
   "cell_type": "code",
   "execution_count": 12,
   "metadata": {},
   "outputs": [
    {
     "data": {
      "text/plain": [
       "{'1': {'venue': {'match': '5',\n",
       "   'innnings': '5',\n",
       "   'avg': '66.2',\n",
       "   '50': '1',\n",
       "   '100': '1'},\n",
       "  'year': {'match': '-',\n",
       "   'innnings': '25',\n",
       "   'avg': '59.9',\n",
       "   '50': '7',\n",
       "   '100': '5'},\n",
       "  'overall': {'match': '241',\n",
       "   'innnings': '232',\n",
       "   'avg': '59.3',\n",
       "   '50': '58',\n",
       "   '100': '43'},\n",
       "  'oponent': {'match': '40',\n",
       "   'innnings': '38',\n",
       "   'avg': '67',\n",
       "   '50': '8',\n",
       "   '100': '8'},\n",
       "  '5_match': {'avg': ['120.0', '-', '4.0', '0.0', '85.0'],\n",
       "   '50': ['0', '0', '0', '0', '1'],\n",
       "   '100': ['1', '1', '0', '0', '0']}}}"
      ]
     },
     "execution_count": 12,
     "metadata": {},
     "output_type": "execute_result"
    }
   ],
   "source": [
    "data"
   ]
  },
  {
   "cell_type": "markdown",
   "metadata": {},
   "source": [
    "## Calculating Bating  and Bowling Score"
   ]
  },
  {
   "cell_type": "code",
   "execution_count": 6,
   "metadata": {},
   "outputs": [],
   "source": [
    "def batting_score(data,MAX_BATTING_AVG=63.43,MAX_50_100=1460): #20*49+5*96\n",
    "    B = data['avg']/MAX_BATTING_AVG\n",
    "    C = (20*data['100'] + 5*data['50'])/data['innings']\n",
    "    D = C/MAX_50_100\n",
    "    E = 0.4*D + 0.6*B\n",
    "    return E\n",
    "def bowling_score(data,MAX_BOWL_AVG=None,MAX_5_3=None):\n",
    "    H = data['avg']/MAX_BOWL_AVG\n",
    "    F = (20*data['5w'] + 5*data['3w'])/data['innings']\n",
    "    G = F/MAX_5_3\n",
    "    I = 0.4*G + 0.6*H\n",
    "    return I"
   ]
  },
  {
   "cell_type": "markdown",
   "metadata": {},
   "source": [
    "## Calculated Total Score"
   ]
  },
  {
   "cell_type": "code",
   "execution_count": null,
   "metadata": {},
   "outputs": [],
   "source": [
    "def total_score(data):\n",
    "    overall = data['overall']\n",
    "    A = overall['innings']/overall['match']\n",
    "    batting_score_overall = batting_score(overall)\n",
    "    batting_score_venue = batting_score(data['venue'])\n",
    "    batting_score_"
   ]
  }
 ],
 "metadata": {
  "kernelspec": {
   "display_name": "Python 3",
   "language": "python",
   "name": "python3"
  },
  "language_info": {
   "codemirror_mode": {
    "name": "ipython",
    "version": 3
   },
   "file_extension": ".py",
   "mimetype": "text/x-python",
   "name": "python",
   "nbconvert_exporter": "python",
   "pygments_lexer": "ipython3",
   "version": "3.8.2"
  }
 },
 "nbformat": 4,
 "nbformat_minor": 4
}
