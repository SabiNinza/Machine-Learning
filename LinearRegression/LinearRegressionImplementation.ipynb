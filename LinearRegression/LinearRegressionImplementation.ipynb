{
 "cells": [
  {
   "cell_type": "code",
   "execution_count": 7,
   "metadata": {},
   "outputs": [],
   "source": [
    "import numpy as np\n",
    "import pandas as pd\n",
    "import matplotlib.pyplot as plt\n",
    "from sklearn.datasets import make_regression"
   ]
  },
  {
   "cell_type": "markdown",
   "metadata": {},
   "source": [
    "## Sklearn Dataset Make_Regression"
   ]
  },
  {
   "cell_type": "code",
   "execution_count": 60,
   "metadata": {},
   "outputs": [],
   "source": [
    "X,Y=make_regression(n_samples=100,n_features=1,bias=5,noise=8)#Here noise is  gaussian noise\n",
    "#in this noise means point is scatter more or variance increase or std dev change from 1 which is std bcz of noising addition"
   ]
  },
  {
   "cell_type": "code",
   "execution_count": 61,
   "metadata": {},
   "outputs": [
    {
     "name": "stdout",
     "output_type": "stream",
     "text": [
      "(100, 1) (100,)\n",
      "[[-0.45217448]\n",
      " [ 0.34789371]\n",
      " [-0.04296039]]\n",
      "[-20.60701204  24.51204873  22.85748025]\n"
     ]
    }
   ],
   "source": [
    "print(X.shape,Y.shape)\n",
    "print(X[:3],Y[:3],sep='\\n')"
   ]
  },
  {
   "cell_type": "code",
   "execution_count": 62,
   "metadata": {},
   "outputs": [
    {
     "data": {
      "text/plain": [
       "<matplotlib.collections.PathCollection at 0x26587301978>"
      ]
     },
     "execution_count": 62,
     "metadata": {},
     "output_type": "execute_result"
    },
    {
     "data": {
      "image/png": "[encoded data removed]",
      "text/plain": [
       "<Figure size 432x288 with 1 Axes>"
      ]
     },
     "metadata": {
      "needs_background": "light"
     },
     "output_type": "display_data"
    }
   ],
   "source": [
    "plt.figure()\n",
    "plt.scatter(X,Y,color=\"red\")"
   ]
  },
  {
   "cell_type": "code",
   "execution_count": 63,
   "metadata": {},
   "outputs": [
    {
     "data": {
      "image/png": "[encoded data removed]",
      "text/plain": [
       "<Figure size 432x288 with 1 Axes>"
      ]
     },
     "metadata": {
      "needs_background": "light"
     },
     "output_type": "display_data"
    },
    {
     "data": {
      "image/png": "[encoded data removed]",
      "text/plain": [
       "<Figure size 432x288 with 1 Axes>"
      ]
     },
     "metadata": {
      "needs_background": "light"
     },
     "output_type": "display_data"
    },
    {
     "name": "stdout",
     "output_type": "stream",
     "text": [
      "5.17254396534143 5.69178341125819\n",
      "-0.01888080502898231 1.043692093392089\n"
     ]
    }
   ],
   "source": [
    "plt.hist(Y)\n",
    "plt.show()\n",
    "plt.hist(X)\n",
    "plt.show()\n",
    "print(Y.mean(),Y.std()**0.5)\n",
    "print(X.mean(),X.std()**0.5)"
   ]
  },
  {
   "cell_type": "markdown",
   "metadata": {},
   "source": [
    "## Implementation of Univariate Linear Regression"
   ]
  },
  {
   "cell_type": "code",
   "execution_count": 67,
   "metadata": {},
   "outputs": [],
   "source": [
    "class Univariate_LinearRegression:\n",
    "    def __init__(self,X,Y):\n",
    "        self.x=X\n",
    "        self.y=Y\n",
    "        self.bias=np.random.random()\n",
    "        self.coef=np.random.uniform(low=-1,high=1)\n",
    "        \n",
    "    def Compute_Loss(self):\n",
    "        loss=[]\n",
    "        \n",
    "        for x,y in zip(self.x,self.y):\n",
    "            y_cap=self.predict(x)\n",
    "            diff=(y_cap-y)**2\n",
    "            loss.append(diff)\n",
    "            \n",
    "        loss=np.array(loss)\n",
    "        return loss.sum()/self.x.shape[0]\n",
    "    \n",
    "    def Predict(self,x):\n",
    "        return self.coef*x+self.bias\n",
    "    # Gradient Calculation=->y_cap-y or (y_cap-Y)x\n",
    "    def CalCulate_Gradient(self):\n",
    "        grad_0=[]\n",
    "        grad_1=[]\n",
    "        \n",
    "        for x,y in zip(self.x,self.y):\n",
    "            y_cap=self.predict(x)\n",
    "            grad_0.append(y_cap-y)\n",
    "            grad_1.append(y_cap-y)*x\n",
    "            \n",
    "        grad_0=np.array(grad_0)\n",
    "        grad_1=np.array(grad_1)\n",
    "        grad_0=np.sum(grad_0)/self.x.shape[0]\n",
    "        grad_1=np.sum(grad_1)/self.x.shape[1]\n",
    "        return(grad_0,grad_1)\n",
    "        \n",
    "    def Update_Weight(self,gradient,alpha=0.4):\n",
    "        self.bias-=alpha*gradient[0]\n",
    "        self.coef-=alpha*gradient[1]\n",
    "        \n",
    "    def Get_All_Pred(self):\n",
    "        pred=[]\n",
    "        for x,y in zip(self.x,self.y):\n",
    "            pred.append(self.Predict(x))\n",
    "        \n",
    "        return pred\n",
    "        \n",
    "    def Train(X,Y,alpha=0.4,it=10):\n",
    "        loss=[]\n",
    "        for _ in range(it):\n",
    "            grad=self.CalCulate_Gradient()\n",
    "            self.Update_Weight(gradient,alpha)\n",
    "            loss.append(self.Compute_Loss())\n",
    "            \n",
    "        return loss\n",
    "    def Gradient_batch(Self,batch_size=0):\n",
    "        grad_0=[]\n",
    "        grad_1=[]\n",
    "        idx=np.arange(0,self.y.shape)\n",
    "        np.shuffle(idx)\n",
    "        idx=idx[:batch_size]\n",
    "        \n",
    "        for i in idx:\n",
    "            y_cap=self.Predict(self.x[i])\n",
    "            grad_0.append(y_cap-y[i])\n",
    "            grad_1.append(y_cap-y[i])*x[i]\n",
    "            \n",
    "        grad_0=np.sum(np.array(grad_0))/len(idx)\n",
    "        grad_1=np.sum(np.array(grad_1))/len(idx)\n",
    "        return grad_0 ,grad_1\n",
    "    \n",
    "    def Train_batch(X,Y,alpha=0.4,epoch=10,batch_size=0):\n",
    "        loss=[]\n",
    "        for _ in range(epoch):\n",
    "            grad=self.Gradient_batch(batch_size)\n",
    "            self.Update_Weight(gradient,alpha)\n",
    "            loss.append(self.Compute_Loss())\n",
    "            \n",
    "        return loss"
   ]
  },
  {
   "cell_type": "code",
   "execution_count": null,
   "metadata": {},
   "outputs": [],
   "source": []
  }
 ],
 "metadata": {
  "kernelspec": {
   "display_name": "Python 3",
   "language": "python",
   "name": "python3"
  },
  "language_info": {
   "codemirror_mode": {
    "name": "ipython",
    "version": 3
   },
   "file_extension": ".py",
   "mimetype": "text/x-python",
   "name": "python",
   "nbconvert_exporter": "python",
   "pygments_lexer": "ipython3",
   "version": "3.7.3"
  }
 },
 "nbformat": 4,
 "nbformat_minor": 2
}
