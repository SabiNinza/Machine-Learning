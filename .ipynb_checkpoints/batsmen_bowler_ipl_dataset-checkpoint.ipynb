{
 "cells": [
  {
   "cell_type": "code",
   "execution_count": 1,
   "metadata": {},
   "outputs": [
    {
     "name": "stderr",
     "output_type": "stream",
     "text": [
      "/home/puneet/.local/lib/python3.6/site-packages/requests/__init__.py:91: RequestsDependencyWarning: urllib3 (1.24.1) or chardet (2.3.0) doesn't match a supported version!\n",
      "  RequestsDependencyWarning)\n"
     ]
    }
   ],
   "source": [
    "import json\n",
    "import requests\n",
    "def extractData(url):\n",
    "    payload = {}\n",
    "    headers= {}\n",
    "    response = requests.request(\"GET\", url, headers=headers, data = payload)\n",
    "    return response.text"
   ]
  },
  {
   "cell_type": "code",
   "execution_count": null,
   "metadata": {},
   "outputs": [],
   "source": [
    "data = json.loads(extractData(\"https://win11.neolen.com/api/match-full\"))\n",
    "playersDetail = json.loads(extractData(\"https://win11.neolen.com/api/player-full\"))"
   ]
  },
  {
   "cell_type": "code",
   "execution_count": null,
   "metadata": {},
   "outputs": [],
   "source": [
    "ipl = list()\n",
    "for x in data[477:]:\n",
    "  ipl.append(x)\n",
    "len(ipl)"
   ]
  },
  {
   "cell_type": "code",
   "execution_count": null,
   "metadata": {},
   "outputs": [],
   "source": [
    "ipl[136]"
   ]
  },
  {
   "cell_type": "code",
   "execution_count": null,
   "metadata": {},
   "outputs": [],
   "source": [
    "ipl[1]['match_score'][0]['batmens'][1]"
   ]
  },
  {
   "cell_type": "code",
   "execution_count": null,
   "metadata": {},
   "outputs": [],
   "source": [
    "ipl[1]['match_score'][1]['batmens'][1]"
   ]
  },
  {
   "cell_type": "code",
   "execution_count": null,
   "metadata": {},
   "outputs": [],
   "source": [
    "def findPlayer(player_id):\n",
    "    for x in playersDetail:\n",
    "        if x['id'] == player_id:\n",
    "#             print(json.dumps(x, indent=4))\n",
    "            return x\n",
    "\n",
    "def batsmenInMatch(ipl,match_id=0):\n",
    "    batsmen = []\n",
    "    for i in range(2):\n",
    "        teams = ipl[match_id]['match_score']\n",
    "        if len(teams) != 0:\n",
    "            if len(teams[i]['batmens'])!=0:\n",
    "                 for x in  teams[i][\"batmens\"]:\n",
    "            #         print(\"{} --> {}\".format(x['player'],findPlayer(x['player'])['name']))\n",
    "                      batsmen.append((x['player'],findPlayer(x['player'])['name']))\n",
    "            else:\n",
    "                print('{} --> match-{}'.format(ipl[match_id]['match_summary_text'],match_id))\n",
    "                break\n",
    "\n",
    "        else:\n",
    "                print('{} --> match-{}'.format(ipl[match_id]['match_summary_text'],match_id))\n",
    "                break\n",
    "                \n",
    "    return batsmen\n",
    "\n",
    "def bowlersInMatch(ipl,match_id=0):\n",
    "    bowlers = []\n",
    "    for i in range(2):\n",
    "        teams = ipl[match_id]['match_score']\n",
    "        if len(teams) != 0:\n",
    "            if len(teams[i]['bowlers'])!=0:\n",
    "                 for x in  teams[i][\"bowlers\"]:\n",
    "            #         print(\"{} --> {}\".format(x['player'],findPlayer(x['player'])['name']))\n",
    "                      bowlers.append((x['player'],findPlayer(x['player'])['name']))\n",
    "#             else:\n",
    "#                 print('{} --> match-{}'.format(ipl[match_id]['match_summary_text'],match_id))\n",
    "\n",
    "#         else:\n",
    "#                 print('{} --> match-{}'.format(ipl[match_id]['match_summary_text'],match_id))\n",
    "    return bowlers\n",
    "def playersInMatch(ipl,match_id=0):\n",
    "    players = []\n",
    "    players.append(batsmenInMatch(ipl,match_id))\n",
    "    players.append(bowlersInMatch(ipl,match_id))\n",
    "    return players"
   ]
  },
  {
   "cell_type": "code",
   "execution_count": null,
   "metadata": {},
   "outputs": [],
   "source": [
    "# def batsmenInMatch(ipl,match_id=0):\n",
    "#     batsmen = []\n",
    "#     for i in range(2):\n",
    "#         try:\n",
    "#             for x in  ipl[match_id][\"match_score\"][i][\"batmens\"]:\n",
    "#         #         print(\"{} --> {}\".format(x['player'],findPlayer(x['player'])['name']))\n",
    "#                   batsmen.append((x['player'],findPlayer(x['player'])['name']))\n",
    "#         except IndexError:\n",
    "#             print(\"error----------{}\".format(x[match_id]))\n",
    "#             pass\n",
    "#     return batsmen"
   ]
  },
  {
   "cell_type": "code",
   "execution_count": null,
   "metadata": {},
   "outputs": [],
   "source": [
    "bat = playersInMatch(ipl,0)[0]\n",
    "print(bat)"
   ]
  },
  {
   "cell_type": "code",
   "execution_count": null,
   "metadata": {},
   "outputs": [],
   "source": [
    "bow = playersInMatch(ipl,0)[1]\n",
    "print(bow)"
   ]
  },
  {
   "cell_type": "code",
   "execution_count": null,
   "metadata": {},
   "outputs": [],
   "source": [
    "#otal no of bow and bat in one match of 0 id but it is not 22 bcz some player like jadeza appear in both bat and bow \n",
    "print(len(bow)+len(bat))"
   ]
  },
  {
   "cell_type": "code",
   "execution_count": null,
   "metadata": {},
   "outputs": [],
   "source": [
    "#dictionary of player name  and their id and total no of player\n",
    "player_to_id = {}\n",
    "for player in playersDetail:\n",
    "    player_to_id[player['id']] = player['name']\n",
    "print(len(player_to_id))"
   ]
  },
  {
   "cell_type": "code",
   "execution_count": null,
   "metadata": {},
   "outputs": [],
   "source": [
    "#batsmen\n",
    "def mappingBatsmenToMatch(ipl):\n",
    "    playerStatPerMatch = {}\n",
    "    for i,x in enumerate(ipl):\n",
    "        players = playersInMatch(ipl,i)\n",
    "        for j in players[0]:\n",
    "            playerStatPerMatch.setdefault(j[0],list())\n",
    "            playerStatPerMatch[j[0]].append(x[\"id\"])\n",
    "    for x,y in list(playerStatPerMatch.items()):\n",
    "        print(player_to_id[x],len(y))\n",
    "    return playerStatPerMatch"
   ]
  },
  {
   "cell_type": "code",
   "execution_count": null,
   "metadata": {},
   "outputs": [],
   "source": [
    "#bowlers\n",
    "def mappingBowlersToMatch(ipl):\n",
    "    playerStatPerMatch = {}\n",
    "    for i,x in enumerate(ipl):\n",
    "        players = playersInMatch(ipl,i)\n",
    "        for j in players[1]:\n",
    "            playerStatPerMatch.setdefault(j[0],list())\n",
    "            playerStatPerMatch[j[0]].append(x[\"id\"])\n",
    "    for x,y in list(playerStatPerMatch.items()):\n",
    "        print(player_to_id[x],len(y))\n",
    "    return playerStatPerMatch"
   ]
  },
  {
   "cell_type": "code",
   "execution_count": null,
   "metadata": {},
   "outputs": [],
   "source": [
    "#no of match played in every year\n",
    "year = ['2019','2018','2017','2016','2015','2014','2013','2012','2011','2010','2009','2008']\n",
    "cnt=0\n",
    "a=0 \n",
    "b=0\n",
    "for y in year:\n",
    "    print('{} -----------------------'.format(y))\n",
    "    print(cnt)\n",
    "    b=cnt\n",
    "    for x in ipl:\n",
    "        if x['name'].find(y) == -1:\n",
    "                a+=1 \n",
    "        else:\n",
    "            cnt+=1\n",
    "    print(cnt)\n",
    "    print(\"No of match played in {} is {}\".format(y,cnt-b))\n",
    "    print('--------------------------------')\n",
    "    print()"
   ]
  },
  {
   "cell_type": "code",
   "execution_count": null,
   "metadata": {},
   "outputs": [],
   "source": [
    "# 2019\n",
    "bat_08_19 = mappingBatsmenToMatch(ipl)\n"
   ]
  },
  {
   "cell_type": "code",
   "execution_count": null,
   "metadata": {},
   "outputs": [],
   "source": [
    "bowl_08_19 = mappingBowlersToMatch(ipl)"
   ]
  },
  {
   "cell_type": "code",
   "execution_count": null,
   "metadata": {},
   "outputs": [],
   "source": [
    "#No of player in bat and bowl in ipl\n",
    "print(len(bat_08_19.keys()),len(bowl_08_19.keys()))"
   ]
  },
  {
   "cell_type": "code",
   "execution_count": null,
   "metadata": {},
   "outputs": [],
   "source": [
    "# ipl[1]['name'].find('2019')"
   ]
  },
  {
   "cell_type": "code",
   "execution_count": null,
   "metadata": {},
   "outputs": [],
   "source": [
    "def findMatch(ipl,id):\n",
    "    for x in ipl:\n",
    "        if x['id']==id:\n",
    "            return x\n",
    "    return 'error'"
   ]
  },
  {
   "cell_type": "code",
   "execution_count": null,
   "metadata": {},
   "outputs": [],
   "source": [
    "player_to_id[121]"
   ]
  },
  {
   "cell_type": "code",
   "execution_count": null,
   "metadata": {},
   "outputs": [],
   "source": [
    "player_126 = bat_08_19[126]\n",
    "print(player_to_id[126],player_126)\n",
    "match_126_1 = findMatch(ipl,1118)\n",
    "match_126_1"
   ]
  },
  {
   "cell_type": "code",
   "execution_count": null,
   "metadata": {},
   "outputs": [],
   "source": [
    "def mapPlayerPerMatchDetail_batsmen(ipl,match_id_list,player_id):\n",
    "    player_matchDetail_list = list()\n",
    "    for match_id in match_id_list:\n",
    "        match = findMatch(ipl,match_id)\n",
    "        for x in match['match_score']:\n",
    "            batmens = x['batmens']\n",
    "            for j in range(len(batmens)):\n",
    "                player = batmens[j]\n",
    "                player_idNo = player['player']\n",
    "                if(player_idNo == player_id):\n",
    "                    for k in x.keys():\n",
    "                        if k != 'batmens' and k!= 'bowlers' and k!='id':\n",
    "                            player[k] = x[k]\n",
    "                    rem_list = [\"scorecard_json\",\"slug\",\"espn_id\",\"espn_url\",\"umpire1\",\"umpire2\",\"id\",\"match_score\"]\n",
    "                    for k in match.keys():\n",
    "                        if k not in rem_list:\n",
    "                            player[k] = match[k]\n",
    "                    player_matchDetail_list.append(player)\n",
    "    return player_matchDetail_list"
   ]
  },
  {
   "cell_type": "code",
   "execution_count": null,
   "metadata": {},
   "outputs": [],
   "source": [
    "list_player_126 = mapPlayerPerMatchDetail_batsmen(ipl, bat_08_19[126],126)\n",
    "list_player_126[1]"
   ]
  },
  {
   "cell_type": "code",
   "execution_count": null,
   "metadata": {},
   "outputs": [],
   "source": [
    "player_to_id[121]"
   ]
  },
  {
   "cell_type": "code",
   "execution_count": null,
   "metadata": {},
   "outputs": [],
   "source": [
    "import csv\n",
    "for x in bat_08_19.keys():\n",
    "    list_player_id = mapPlayerPerMatchDetail_batsmen(ipl, bat_08_19[x],x)\n",
    "    toCSV = list_player_id\n",
    "    keys = toCSV[0].keys()\n",
    "    with open(player_to_id[x], 'w') as output_file:\n",
    "        dict_writer = csv.DictWriter(output_file, keys)\n",
    "        dict_writer.writeheader()\n",
    "        dict_writer.writerows(toCSV)\n",
    "    break"
   ]
  },
  {
   "cell_type": "code",
   "execution_count": null,
   "metadata": {},
   "outputs": [],
   "source": [
    "\n",
    "# toCSV = virat_ipl_match \n",
    "# keys = toCSV[0].keys()\n",
    "# with open('people.csv', 'w') as output_file:\n",
    "#     dict_writer = csv.DictWriter(output_file, keys)\n",
    "#     dict_writer.writeheader()\n",
    "#     dict_writer.writerows(toCSV)"
   ]
  },
  {
   "cell_type": "code",
   "execution_count": null,
   "metadata": {},
   "outputs": [],
   "source": []
  }
 ],
 "metadata": {
  "kernelspec": {
   "display_name": "Python 3",
   "language": "python",
   "name": "python3"
  },
  "language_info": {
   "codemirror_mode": {
    "name": "ipython",
    "version": 3
   },
   "file_extension": ".py",
   "mimetype": "text/x-python",
   "name": "python",
   "nbconvert_exporter": "python",
   "pygments_lexer": "ipython3",
   "version": "3.6.9"
  }
 },
 "nbformat": 4,
 "nbformat_minor": 2
}
