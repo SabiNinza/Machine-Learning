{
 "cells": [
  {
   "cell_type": "code",
   "execution_count": 2,
   "metadata": {},
   "outputs": [],
   "source": [
    "import pandas as pd\n",
    "from sklearn.neighbors import KNeighborsClassifier\n",
    "from sklearn.tree import DecisionTreeClassifier\n",
    "from sklearn.ensemble import RandomForestClassifier, GradientBoostingClassifier\n",
    "from sklearn.svm import SVC\n",
    "from sklearn.linear_model import LogisticRegression\n",
    "from sklearn.metrics import classification_report, accuracy_score\n",
    "from sklearn.model_selection import GridSearchCV\n"
   ]
  },
  {
   "cell_type": "code",
   "execution_count": 3,
   "metadata": {},
   "outputs": [],
   "source": [
    "df = pd.read_csv('dataset_5.csv')\n",
    "# df1 = pd.read_csv('./pred_19.csv')"
   ]
  },
  {
   "cell_type": "code",
   "execution_count": 5,
   "metadata": {},
   "outputs": [
    {
     "name": "stdout",
     "output_type": "stream",
     "text": [
      "   winner  team1  team2  venue  strenth                       date\n",
      "0    83.0     82     83     15   -0.991  2009-05-24 09:00:00+00:00\n",
      "1    82.0     82     84     15   -0.940  2009-05-23 09:00:00+00:00\n",
      "2    82.0     82     83     45   -0.355  2009-05-21 09:00:00+00:00\n",
      "3    82.0     82     85     15    0.041  2009-05-19 09:00:00+00:00\n",
      "4    83.0     83     88     15    0.133  2009-05-16 09:15:00+00:00\n"
     ]
    }
   ],
   "source": [
    "print(df.head())\n",
    "df.strenth = df.strenth.fillna(0)"
   ]
  },
  {
   "cell_type": "code",
   "execution_count": 6,
   "metadata": {},
   "outputs": [
    {
     "name": "stdout",
     "output_type": "stream",
     "text": [
      "   winner  team1  team2  venue  strenth                      date\n",
      "0    88.0     82     88     25    1.606 2008-04-18 09:00:00+00:00\n",
      "1    84.0     87     84     77   -0.560 2008-04-19 06:00:00+00:00\n",
      "2    85.0     85     89     78   -0.815 2008-04-19 09:30:00+00:00\n",
      "3    82.0     86     82     23   -1.538 2008-04-20 09:00:00+00:00\n",
      "4    89.0     89     87    151   -1.036 2008-04-21 09:00:00+00:00\n"
     ]
    }
   ],
   "source": [
    "df.date = pd.to_datetime(df.date)\n",
    "df = df.sort_values('date', ascending=True)\n",
    "df.index = range(len(df))\n",
    "print(df.head())"
   ]
  },
  {
   "cell_type": "code",
   "execution_count": 8,
   "metadata": {},
   "outputs": [
    {
     "data": {
      "text/html": [
       "<div>\n",
       "<style scoped>\n",
       "    .dataframe tbody tr th:only-of-type {\n",
       "        vertical-align: middle;\n",
       "    }\n",
       "\n",
       "    .dataframe tbody tr th {\n",
       "        vertical-align: top;\n",
       "    }\n",
       "\n",
       "    .dataframe thead th {\n",
       "        text-align: right;\n",
       "    }\n",
       "</style>\n",
       "<table border=\"1\" class=\"dataframe\">\n",
       "  <thead>\n",
       "    <tr style=\"text-align: right;\">\n",
       "      <th></th>\n",
       "      <th>team1</th>\n",
       "      <th>team2</th>\n",
       "      <th>venue</th>\n",
       "      <th>strenth</th>\n",
       "    </tr>\n",
       "  </thead>\n",
       "  <tbody>\n",
       "    <tr>\n",
       "      <th>0</th>\n",
       "      <td>82</td>\n",
       "      <td>88</td>\n",
       "      <td>25</td>\n",
       "      <td>1.606</td>\n",
       "    </tr>\n",
       "    <tr>\n",
       "      <th>1</th>\n",
       "      <td>87</td>\n",
       "      <td>84</td>\n",
       "      <td>77</td>\n",
       "      <td>-0.560</td>\n",
       "    </tr>\n",
       "    <tr>\n",
       "      <th>2</th>\n",
       "      <td>85</td>\n",
       "      <td>89</td>\n",
       "      <td>78</td>\n",
       "      <td>-0.815</td>\n",
       "    </tr>\n",
       "    <tr>\n",
       "      <th>3</th>\n",
       "      <td>86</td>\n",
       "      <td>82</td>\n",
       "      <td>23</td>\n",
       "      <td>-1.538</td>\n",
       "    </tr>\n",
       "    <tr>\n",
       "      <th>4</th>\n",
       "      <td>89</td>\n",
       "      <td>87</td>\n",
       "      <td>151</td>\n",
       "      <td>-1.036</td>\n",
       "    </tr>\n",
       "    <tr>\n",
       "      <th>...</th>\n",
       "      <td>...</td>\n",
       "      <td>...</td>\n",
       "      <td>...</td>\n",
       "      <td>...</td>\n",
       "    </tr>\n",
       "    <tr>\n",
       "      <th>578</th>\n",
       "      <td>84</td>\n",
       "      <td>87</td>\n",
       "      <td>40</td>\n",
       "      <td>-0.511</td>\n",
       "    </tr>\n",
       "    <tr>\n",
       "      <th>579</th>\n",
       "      <td>92</td>\n",
       "      <td>84</td>\n",
       "      <td>23</td>\n",
       "      <td>-0.494</td>\n",
       "    </tr>\n",
       "    <tr>\n",
       "      <th>580</th>\n",
       "      <td>88</td>\n",
       "      <td>89</td>\n",
       "      <td>65</td>\n",
       "      <td>1.287</td>\n",
       "    </tr>\n",
       "    <tr>\n",
       "      <th>581</th>\n",
       "      <td>88</td>\n",
       "      <td>92</td>\n",
       "      <td>65</td>\n",
       "      <td>0.093</td>\n",
       "    </tr>\n",
       "    <tr>\n",
       "      <th>582</th>\n",
       "      <td>84</td>\n",
       "      <td>92</td>\n",
       "      <td>23</td>\n",
       "      <td>0.424</td>\n",
       "    </tr>\n",
       "  </tbody>\n",
       "</table>\n",
       "<p>583 rows × 4 columns</p>\n",
       "</div>"
      ],
      "text/plain": [
       "     team1  team2  venue  strenth\n",
       "0       82     88     25    1.606\n",
       "1       87     84     77   -0.560\n",
       "2       85     89     78   -0.815\n",
       "3       86     82     23   -1.538\n",
       "4       89     87    151   -1.036\n",
       "..     ...    ...    ...      ...\n",
       "578     84     87     40   -0.511\n",
       "579     92     84     23   -0.494\n",
       "580     88     89     65    1.287\n",
       "581     88     92     65    0.093\n",
       "582     84     92     23    0.424\n",
       "\n",
       "[583 rows x 4 columns]"
      ]
     },
     "execution_count": 8,
     "metadata": {},
     "output_type": "execute_result"
    }
   ],
   "source": [
    "valid = df[df.date.dt.year == 2019]\n",
    "train = df[df.date.dt.year < 2019]\n",
    "\n",
    "train_X = train.drop(['winner', 'date'], axis = 1)\n",
    "train_y = train['winner']\n",
    "\n",
    "valid_X = valid.drop(['winner', 'date'], axis = 1)\n",
    "valid_y = valid['winner']\n",
    "train_X"
   ]
  },
  {
   "cell_type": "code",
   "execution_count": null,
   "metadata": {},
   "outputs": [],
   "source": []
  },
  {
   "cell_type": "code",
   "execution_count": 10,
   "metadata": {},
   "outputs": [],
   "source": [
    "def train_and_test(model, train_input, train_label, valid_input, valid_label) :\n",
    "      model.fit(train_input, train_label)\n",
    "      predictions = model.predict(valid_input)\n",
    "      print(accuracy_score(valid_label, predictions))\n",
    "      print(classification_report(valid_label, predictions))\n",
    "      print('---------------------------------------------------')"
   ]
  },
  {
   "cell_type": "code",
   "execution_count": null,
   "metadata": {},
   "outputs": [],
   "source": []
  },
  {
   "cell_type": "code",
   "execution_count": 11,
   "metadata": {},
   "outputs": [],
   "source": []
  },
  {
   "cell_type": "code",
   "execution_count": null,
   "metadata": {},
   "outputs": [],
   "source": []
  },
  {
   "cell_type": "code",
   "execution_count": 11,
   "metadata": {},
   "outputs": [
    {
     "name": "stdout",
     "output_type": "stream",
     "text": [
      "0.5333333333333333\n",
      "              precision    recall  f1-score   support\n",
      "\n",
      "         0.0       0.00      0.00      0.00         3\n",
      "        82.0       0.60      0.60      0.60         5\n",
      "        84.0       0.78      0.70      0.74        10\n",
      "        85.0       0.50      0.22      0.31         9\n",
      "        86.0       0.50      0.50      0.50        10\n",
      "        87.0       0.43      0.50      0.46         6\n",
      "        88.0       0.50      0.50      0.50         6\n",
      "        89.0       0.33      0.60      0.43         5\n",
      "        92.0       0.60      1.00      0.75         6\n",
      "\n",
      "    accuracy                           0.53        60\n",
      "   macro avg       0.47      0.51      0.48        60\n",
      "weighted avg       0.52      0.53      0.51        60\n",
      "\n",
      "---------------------------------------------------\n",
      "0.48333333333333334\n",
      "              precision    recall  f1-score   support\n",
      "\n",
      "         0.0       0.00      0.00      0.00         3\n",
      "        82.0       0.25      0.20      0.22         5\n",
      "        84.0       0.89      0.80      0.84        10\n",
      "        85.0       1.00      0.33      0.50         9\n",
      "        86.0       0.73      0.80      0.76        10\n",
      "        87.0       0.33      0.33      0.33         6\n",
      "        88.0       0.20      0.17      0.18         6\n",
      "        89.0       0.18      0.40      0.25         5\n",
      "        91.0       0.00      0.00      0.00         0\n",
      "        92.0       0.50      0.67      0.57         6\n",
      "\n",
      "    accuracy                           0.48        60\n",
      "   macro avg       0.41      0.37      0.37        60\n",
      "weighted avg       0.56      0.48      0.49        60\n",
      "\n",
      "---------------------------------------------------\n"
     ]
    },
    {
     "name": "stderr",
     "output_type": "stream",
     "text": [
      "/home/falcon-puneet/.local/lib/python3.8/site-packages/sklearn/metrics/_classification.py:1221: UndefinedMetricWarning: Precision and F-score are ill-defined and being set to 0.0 in labels with no predicted samples. Use `zero_division` parameter to control this behavior.\n",
      "  _warn_prf(average, modifier, msg_start, len(result))\n",
      "/home/falcon-puneet/.local/lib/python3.8/site-packages/sklearn/metrics/_classification.py:1221: UndefinedMetricWarning: Recall and F-score are ill-defined and being set to 0.0 in labels with no true samples. Use `zero_division` parameter to control this behavior.\n",
      "  _warn_prf(average, modifier, msg_start, len(result))\n"
     ]
    },
    {
     "name": "stdout",
     "output_type": "stream",
     "text": [
      "0.5666666666666667\n",
      "              precision    recall  f1-score   support\n",
      "\n",
      "         0.0       0.00      0.00      0.00         3\n",
      "        82.0       0.50      0.40      0.44         5\n",
      "        84.0       0.89      0.80      0.84        10\n",
      "        85.0       1.00      0.56      0.71         9\n",
      "        86.0       0.80      0.80      0.80        10\n",
      "        87.0       0.43      0.50      0.46         6\n",
      "        88.0       0.20      0.17      0.18         6\n",
      "        89.0       0.30      0.60      0.40         5\n",
      "        92.0       0.50      0.67      0.57         6\n",
      "\n",
      "    accuracy                           0.57        60\n",
      "   macro avg       0.51      0.50      0.49        60\n",
      "weighted avg       0.61      0.57      0.57        60\n",
      "\n",
      "---------------------------------------------------\n",
      "0.3\n",
      "              precision    recall  f1-score   support\n",
      "\n",
      "         0.0       0.00      0.00      0.00         3\n",
      "        82.0       0.00      0.00      0.00         5\n",
      "        84.0       0.75      0.60      0.67        10\n",
      "        85.0       0.00      0.00      0.00         9\n",
      "        86.0       0.36      0.50      0.42        10\n",
      "        87.0       0.00      0.00      0.00         6\n",
      "        88.0       0.13      0.67      0.22         6\n",
      "        89.0       0.43      0.60      0.50         5\n",
      "        92.0       0.00      0.00      0.00         6\n",
      "\n",
      "    accuracy                           0.30        60\n",
      "   macro avg       0.18      0.26      0.20        60\n",
      "weighted avg       0.23      0.30      0.24        60\n",
      "\n",
      "---------------------------------------------------\n",
      "0.25\n"
     ]
    },
    {
     "name": "stderr",
     "output_type": "stream",
     "text": [
      "/home/falcon-puneet/.local/lib/python3.8/site-packages/sklearn/metrics/_classification.py:1221: UndefinedMetricWarning: Precision and F-score are ill-defined and being set to 0.0 in labels with no predicted samples. Use `zero_division` parameter to control this behavior.\n",
      "  _warn_prf(average, modifier, msg_start, len(result))\n",
      "/home/falcon-puneet/.local/lib/python3.8/site-packages/sklearn/linear_model/_logistic.py:762: ConvergenceWarning: lbfgs failed to converge (status=1):\n",
      "STOP: TOTAL NO. of ITERATIONS REACHED LIMIT.\n",
      "\n",
      "Increase the number of iterations (max_iter) or scale the data as shown in:\n",
      "    https://scikit-learn.org/stable/modules/preprocessing.html\n",
      "Please also refer to the documentation for alternative solver options:\n",
      "    https://scikit-learn.org/stable/modules/linear_model.html#logistic-regression\n",
      "  n_iter_i = _check_optimize_result(\n",
      "/home/falcon-puneet/.local/lib/python3.8/site-packages/sklearn/metrics/_classification.py:1221: UndefinedMetricWarning: Precision and F-score are ill-defined and being set to 0.0 in labels with no predicted samples. Use `zero_division` parameter to control this behavior.\n",
      "  _warn_prf(average, modifier, msg_start, len(result))\n"
     ]
    },
    {
     "name": "stdout",
     "output_type": "stream",
     "text": [
      "              precision    recall  f1-score   support\n",
      "\n",
      "         0.0       0.00      0.00      0.00         3\n",
      "        82.0       0.25      0.20      0.22         5\n",
      "        84.0       0.46      0.60      0.52        10\n",
      "        85.0       0.00      0.00      0.00         9\n",
      "        86.0       0.12      0.30      0.18        10\n",
      "        87.0       0.00      0.00      0.00         6\n",
      "        88.0       0.00      0.00      0.00         6\n",
      "        89.0       0.38      0.60      0.46         5\n",
      "        92.0       1.00      0.33      0.50         6\n",
      "\n",
      "    accuracy                           0.25        60\n",
      "   macro avg       0.25      0.23      0.21        60\n",
      "weighted avg       0.25      0.25      0.22        60\n",
      "\n",
      "---------------------------------------------------\n",
      "0.5166666666666667\n",
      "              precision    recall  f1-score   support\n",
      "\n",
      "         0.0       0.00      0.00      0.00         3\n",
      "        82.0       0.38      0.60      0.46         5\n",
      "        84.0       0.75      0.90      0.82        10\n",
      "        85.0       1.00      0.44      0.62         9\n",
      "        86.0       0.71      0.50      0.59        10\n",
      "        87.0       0.50      0.67      0.57         6\n",
      "        88.0       0.20      0.17      0.18         6\n",
      "        89.0       0.29      0.40      0.33         5\n",
      "        92.0       0.38      0.50      0.43         6\n",
      "\n",
      "    accuracy                           0.52        60\n",
      "   macro avg       0.47      0.46      0.44        60\n",
      "weighted avg       0.56      0.52      0.51        60\n",
      "\n",
      "---------------------------------------------------\n"
     ]
    }
   ],
   "source": [
    "train_and_test(KNeighborsClassifier(), train_X, train_y, valid_X, valid_y)\n",
    "train_and_test(DecisionTreeClassifier(), train_X, train_y, valid_X, valid_y)\n",
    "train_and_test(RandomForestClassifier(), train_X, train_y, valid_X, valid_y)\n",
    "train_and_test(SVC(), train_X, train_y, valid_X, valid_y)\n",
    "train_and_test(LogisticRegression(), train_X, train_y, valid_X, valid_y)\n",
    "train_and_test(GradientBoostingClassifier(), train_X, train_y, valid_X, valid_y)"
   ]
  },
  {
   "cell_type": "code",
   "execution_count": 12,
   "metadata": {},
   "outputs": [
    {
     "name": "stdout",
     "output_type": "stream",
     "text": [
      "0.5\n",
      "              precision    recall  f1-score   support\n",
      "\n",
      "         0.0       0.00      0.00      0.00         3\n",
      "        82.0       0.50      0.40      0.44         5\n",
      "        84.0       0.70      0.70      0.70        10\n",
      "        85.0       1.00      0.33      0.50         9\n",
      "        86.0       0.67      0.60      0.63        10\n",
      "        87.0       0.43      0.50      0.46         6\n",
      "        88.0       0.33      0.33      0.33         6\n",
      "        89.0       0.22      0.40      0.29         5\n",
      "        92.0       0.45      0.83      0.59         6\n",
      "\n",
      "    accuracy                           0.50        60\n",
      "   macro avg       0.48      0.46      0.44        60\n",
      "weighted avg       0.56      0.50      0.50        60\n",
      "\n",
      "---------------------------------------------------\n"
     ]
    }
   ],
   "source": [
    "parameters = {\"n_neighbors\":[1,3,5,7], \"weights\":[\"uniform\",\"distance\"],\"algorithm\" :[\"auto\", \"ball_tree\", \"kd_tree\", \"brute\"],\"leaf_size\":[10,20,30,40,50, 60, 70,80,90,100]}\n",
    "knn = KNeighborsClassifier()\n",
    "clf = GridSearchCV(knn, parameters)\n",
    "train_and_test(clf, train_X, train_y, valid_X, valid_y)"
   ]
  },
  {
   "cell_type": "markdown",
   "metadata": {},
   "source": [
    "## MLP"
   ]
  },
  {
   "cell_type": "code",
   "execution_count": null,
   "metadata": {},
   "outputs": [],
   "source": []
  }
 ],
 "metadata": {
  "kernelspec": {
   "display_name": "Python 3",
   "language": "python",
   "name": "python3"
  },
  "language_info": {
   "codemirror_mode": {
    "name": "ipython",
    "version": 3
   },
   "file_extension": ".py",
   "mimetype": "text/x-python",
   "name": "python",
   "nbconvert_exporter": "python",
   "pygments_lexer": "ipython3",
   "version": "3.8.2"
  }
 },
 "nbformat": 4,
 "nbformat_minor": 4
}
