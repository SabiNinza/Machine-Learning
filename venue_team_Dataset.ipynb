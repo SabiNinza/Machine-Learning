{
 "cells": [
  {
   "cell_type": "code",
   "execution_count": 2,
   "metadata": {},
   "outputs": [],
   "source": [
    "import json\n",
    "import requests\n",
    "def extractData(url):\n",
    "    payload = {}\n",
    "    headers= {}\n",
    "    response = requests.request(\"GET\", url, headers=headers, data = payload)\n",
    "    return response.text"
   ]
  },
  {
   "cell_type": "code",
   "execution_count": 8,
   "metadata": {},
   "outputs": [],
   "source": [
    "url = \"https://win11.neolen.com//api/teams\"\n",
    "team_detail = json.loads(extractData(url))\n",
    "url_venue = \"https://win11.neolen.com//api/venue\"\n",
    "venue_detail = json.loads(extractData(url_venue))"
   ]
  },
  {
   "cell_type": "code",
   "execution_count": 10,
   "metadata": {},
   "outputs": [
    {
     "name": "stdout",
     "output_type": "stream",
     "text": [
      "{'id': 1, 'name': 'Afghanistan', 'slug': 'afghanistan', 'summary': '', 'espn_id': 40, 'active': False, 'players': [17, 18, 22, 23, 24, 25, 26, 27, 28, 29, 30, 32, 33, 34, 36, 37, 302, 303, 304, 305, 306, 307, 308, 309, 310, 311, 312, 313, 666, 667, 668, 670, 723, 951, 1185]}\n"
     ]
    }
   ],
   "source": [
    "print(team_detail[0])"
   ]
  },
  {
   "cell_type": "code",
   "execution_count": 12,
   "metadata": {},
   "outputs": [
    {
     "name": "stdout",
     "output_type": "stream",
     "text": [
      "{'id': 2, 'name': 'Willowmoore Park', 'slug': 'willowmoore-park', 'location': ' Benoni', 'espn_url': 'http://www.espncricinfo.com/ci/content/ground/59039.html', 'espn_id': 59039, 'country': 1}\n"
     ]
    }
   ],
   "source": [
    "print(venue_detail[0])"
   ]
  },
  {
   "cell_type": "code",
   "execution_count": 15,
   "metadata": {},
   "outputs": [],
   "source": [
    "venue_list = list()\n",
    "for x in venue_detail:\n",
    "    rem_list = ['espn_url','slug','espn_id']\n",
    "    new_x = {}\n",
    "    for k in x.keys():\n",
    "        if k in rem_list:\n",
    "            pass\n",
    "        else:\n",
    "            new_x[k]=x[k]\n",
    "    venue_list.append(new_x)"
   ]
  },
  {
   "cell_type": "code",
   "execution_count": 17,
   "metadata": {},
   "outputs": [],
   "source": [
    "import csv\n",
    "toCSV = venue_list\n",
    "keys = toCSV[0].keys()\n",
    "with open('venue.csv', 'w') as output_file:\n",
    "    dict_writer = csv.DictWriter(output_file, keys)\n",
    "    dict_writer.writeheader()\n",
    "    dict_writer.writerows(toCSV)"
   ]
  },
  {
   "cell_type": "code",
   "execution_count": 19,
   "metadata": {},
   "outputs": [],
   "source": [
    "import csv\n",
    "toCSV = team_detail\n",
    "keys = toCSV[0].keys()\n",
    "with open('team_detail.csv', 'w') as output_file:\n",
    "    dict_writer = csv.DictWriter(output_file, keys)\n",
    "    dict_writer.writeheader()\n",
    "    dict_writer.writerows(toCSV)"
   ]
  },
  {
   "cell_type": "code",
   "execution_count": null,
   "metadata": {},
   "outputs": [],
   "source": []
  }
 ],
 "metadata": {
  "kernelspec": {
   "display_name": "Python 3",
   "language": "python",
   "name": "python3"
  },
  "language_info": {
   "codemirror_mode": {
    "name": "ipython",
    "version": 3
   },
   "file_extension": ".py",
   "mimetype": "text/x-python",
   "name": "python",
   "nbconvert_exporter": "python",
   "pygments_lexer": "ipython3",
   "version": "3.6.9"
  }
 },
 "nbformat": 4,
 "nbformat_minor": 2
}
